{
 "cells": [
  {
   "cell_type": "markdown",
   "metadata": {},
   "source": [
    "# Introduction to Elasticsearch"
   ]
  },
  {
   "cell_type": "markdown",
   "metadata": {},
   "source": [
    "First, let's initialize a connection to Elasticsearch. We'll call it `es`. "
   ]
  },
  {
   "cell_type": "code",
   "execution_count": 1,
   "metadata": {},
   "outputs": [],
   "source": [
    "from elasticsearch import Elasticsearch\n",
    "# by default we connect to localhost:9200\n",
    "es = Elasticsearch()"
   ]
  },
  {
   "cell_type": "markdown",
   "metadata": {},
   "source": [
    "Next, let's create an index called `test-index`. We can use this for storing some sample documents, which we will later visualize in Kibana."
   ]
  },
  {
   "cell_type": "code",
   "execution_count": 2,
   "metadata": {},
   "outputs": [],
   "source": [
    "if not es.indices.exists(index='test-index'):\n",
    "    es.indices.create(index='test-index')"
   ]
  },
  {
   "cell_type": "markdown",
   "metadata": {},
   "source": [
    "Now that we have an index, we can put some documents into the index"
   ]
  },
  {
   "cell_type": "code",
   "execution_count": 3,
   "metadata": {},
   "outputs": [],
   "source": [
    "from datetime import datetime, timezone\n",
    "import random\n",
    "for i in range(0,100):\n",
    "    doc = {\n",
    "        \"description\": \"random price data\", \n",
    "        \"timestamp\": datetime.now(tz=timezone.utc), \n",
    "        'price': random.randint(1,100)\n",
    "    }\n",
    "    es.index(index=\"test-index\", doc_type=\"test-type\", id=i, body=doc)"
   ]
  },
  {
   "cell_type": "markdown",
   "metadata": {},
   "source": [
    "We just generated 100 random price objects. We stored each with a randomized “price” between 1 and 100 and captured the time at which we indexed the object. Note that we also defined the `doc_type` on the fly as we indexed the objects. We called the type test-type. One of the helpful things about ES is that it can infer a schema from objects you provide it. In ES terminology this is called a _mapping_. Note that if your objects schema change, down the road ES can accommodate that as well. Let’s try it just to prove the point:"
   ]
  },
  {
   "cell_type": "code",
   "execution_count": 4,
   "metadata": {},
   "outputs": [],
   "source": [
    "from datetime import datetime, timezone\n",
    "import random\n",
    "coin_types = ['dogecoin','bitcoin','ethereum','litecoin','dash']\n",
    "for i in range(100,200):\n",
    "    doc = {\n",
    "        \"description\": \"random price data\", \n",
    "        \"timestamp\": datetime.now(tz=timezone.utc), \n",
    "        'price': random.randint(1,100), \n",
    "        'coin_type': coin_types[random.randint(0,4)]}\n",
    "    es.index(index=\"test-index\", doc_type=\"test-type\", id=i, body=doc)"
   ]
  },
  {
   "cell_type": "markdown",
   "metadata": {},
   "source": [
    "We just created objects that have a new field (`coin_type`) and indexed them to the same type. Be careful! ES handles this gracefully, but it can also cause problems down the road if you expect all objects to have certain fields but they do not. We can compare two objects we indexed to see how they look. Let's grab `id` 42 and 142."
   ]
  },
  {
   "cell_type": "code",
   "execution_count": 5,
   "metadata": {},
   "outputs": [
    {
     "data": {
      "text/plain": [
       "{'description': 'random price data',\n",
       " 'timestamp': '2020-10-15T10:38:04.947073+00:00',\n",
       " 'price': 59}"
      ]
     },
     "execution_count": 5,
     "metadata": {},
     "output_type": "execute_result"
    }
   ],
   "source": [
    "es.get(index=\"test-index\", doc_type=\"test-type\", id=42)['_source']"
   ]
  },
  {
   "cell_type": "code",
   "execution_count": 6,
   "metadata": {},
   "outputs": [
    {
     "data": {
      "text/plain": [
       "{'description': 'random price data',\n",
       " 'timestamp': '2020-10-15T10:38:06.857418+00:00',\n",
       " 'price': 20,\n",
       " 'coin_type': 'litecoin'}"
      ]
     },
     "execution_count": 6,
     "metadata": {},
     "output_type": "execute_result"
    }
   ],
   "source": [
    "es.get(index=\"test-index\", doc_type=\"test-type\", id=142)['_source']"
   ]
  },
  {
   "cell_type": "markdown",
   "metadata": {},
   "source": [
    "As expected, 142 contains `coin_type` and 42 does not. We can run searches against this data using the ES query syntax. Let's try to find prices greater than 90."
   ]
  },
  {
   "cell_type": "code",
   "execution_count": 7,
   "metadata": {},
   "outputs": [],
   "source": [
    "query = {\n",
    "    \"query\": {\n",
    "        \"range\" : {\n",
    "            \"price\" : {\n",
    "                \"gt\" : 90\n",
    "            }\n",
    "        }\n",
    "    }\n",
    "}"
   ]
  },
  {
   "cell_type": "markdown",
   "metadata": {},
   "source": [
    "To actually run the search try:"
   ]
  },
  {
   "cell_type": "code",
   "execution_count": 8,
   "metadata": {},
   "outputs": [
    {
     "data": {
      "text/plain": [
       "{'took': 78,\n",
       " 'timed_out': False,\n",
       " '_shards': {'total': 5, 'successful': 5, 'skipped': 0, 'failed': 0},\n",
       " 'hits': {'total': 22,\n",
       "  'max_score': 1.0,\n",
       "  'hits': [{'_index': 'test-index',\n",
       "    '_type': 'test-type',\n",
       "    '_id': '29',\n",
       "    '_score': 1.0,\n",
       "    '_source': {'description': 'random price data',\n",
       "     'timestamp': '2020-10-15T10:38:04.831138+00:00',\n",
       "     'price': 95}},\n",
       "   {'_index': 'test-index',\n",
       "    '_type': 'test-type',\n",
       "    '_id': '73',\n",
       "    '_score': 1.0,\n",
       "    '_source': {'description': 'random price data',\n",
       "     'timestamp': '2020-10-15T10:38:05.190131+00:00',\n",
       "     'price': 95}},\n",
       "   {'_index': 'test-index',\n",
       "    '_type': 'test-type',\n",
       "    '_id': '89',\n",
       "    '_score': 1.0,\n",
       "    '_source': {'description': 'random price data',\n",
       "     'timestamp': '2020-10-15T10:38:05.327206+00:00',\n",
       "     'price': 95}},\n",
       "   {'_index': 'test-index',\n",
       "    '_type': 'test-type',\n",
       "    '_id': '123',\n",
       "    '_score': 1.0,\n",
       "    '_source': {'description': 'random price data',\n",
       "     'timestamp': '2020-10-15T10:38:06.714232+00:00',\n",
       "     'price': 99,\n",
       "     'coin_type': 'dash'}},\n",
       "   {'_index': 'test-index',\n",
       "    '_type': 'test-type',\n",
       "    '_id': '144',\n",
       "    '_score': 1.0,\n",
       "    '_source': {'description': 'random price data',\n",
       "     'timestamp': '2020-10-15T10:38:06.872918+00:00',\n",
       "     'price': 100,\n",
       "     'coin_type': 'dogecoin'}},\n",
       "   {'_index': 'test-index',\n",
       "    '_type': 'test-type',\n",
       "    '_id': '32',\n",
       "    '_score': 1.0,\n",
       "    '_source': {'description': 'random price data',\n",
       "     'timestamp': '2020-10-15T10:38:04.860334+00:00',\n",
       "     'price': 99}},\n",
       "   {'_index': 'test-index',\n",
       "    '_type': 'test-type',\n",
       "    '_id': '101',\n",
       "    '_score': 1.0,\n",
       "    '_source': {'description': 'random price data',\n",
       "     'timestamp': '2020-10-15T10:38:06.495835+00:00',\n",
       "     'price': 99,\n",
       "     'coin_type': 'bitcoin'}},\n",
       "   {'_index': 'test-index',\n",
       "    '_type': 'test-type',\n",
       "    '_id': '113',\n",
       "    '_score': 1.0,\n",
       "    '_source': {'description': 'random price data',\n",
       "     'timestamp': '2020-10-15T10:38:06.633521+00:00',\n",
       "     'price': 99,\n",
       "     'coin_type': 'dogecoin'}},\n",
       "   {'_index': 'test-index',\n",
       "    '_type': 'test-type',\n",
       "    '_id': '157',\n",
       "    '_score': 1.0,\n",
       "    '_source': {'description': 'random price data',\n",
       "     'timestamp': '2020-10-15T10:38:06.963529+00:00',\n",
       "     'price': 100,\n",
       "     'coin_type': 'ethereum'}},\n",
       "   {'_index': 'test-index',\n",
       "    '_type': 'test-type',\n",
       "    '_id': '27',\n",
       "    '_score': 1.0,\n",
       "    '_source': {'description': 'random price data',\n",
       "     'timestamp': '2020-10-15T10:38:04.813903+00:00',\n",
       "     'price': 92}}]}}"
      ]
     },
     "execution_count": 8,
     "metadata": {},
     "output_type": "execute_result"
    }
   ],
   "source": [
    "es.search(body=query, index='test-index', doc_type='test-type')"
   ]
  },
  {
   "cell_type": "code",
   "execution_count": null,
   "metadata": {},
   "outputs": [],
   "source": []
  }
 ],
 "metadata": {
  "kernelspec": {
   "display_name": "Python 3",
   "language": "python",
   "name": "python3"
  },
  "language_info": {
   "codemirror_mode": {
    "name": "ipython",
    "version": 3
   },
   "file_extension": ".py",
   "mimetype": "text/x-python",
   "name": "python",
   "nbconvert_exporter": "python",
   "pygments_lexer": "ipython3",
   "version": "3.8.5"
  }
 },
 "nbformat": 4,
 "nbformat_minor": 2
}
