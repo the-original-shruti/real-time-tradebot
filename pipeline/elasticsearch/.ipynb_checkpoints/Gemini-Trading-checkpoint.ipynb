{
 "cells": [
  {
   "cell_type": "markdown",
   "metadata": {},
   "source": [
    "# Gemini Trading Bot"
   ]
  },
  {
   "cell_type": "code",
   "execution_count": 1,
   "metadata": {},
   "outputs": [],
   "source": [
    "# !pip install geminipy websocket-client elasticsearch kafka"
   ]
  },
  {
   "cell_type": "code",
   "execution_count": 2,
   "metadata": {},
   "outputs": [],
   "source": [
    "import pandas as pd\n",
    "from datetime import datetime, timedelta\n",
    "import time\n",
    "from geminipy import Geminipy\n",
    "from elasticsearch import Elasticsearch\n",
    "from kafka import KafkaProducer, KafkaConsumer\n",
    "import requests, json\n",
    "from json import loads"
   ]
  },
  {
   "cell_type": "markdown",
   "metadata": {},
   "source": [
    "### Load Forecasts"
   ]
  },
  {
   "cell_type": "code",
   "execution_count": 3,
   "metadata": {},
   "outputs": [],
   "source": [
    "# load in csv of forecasts\n",
    "fcst = pd.read_csv('2018_full_trade_forecast.csv')\n",
    "\n",
    "# generate a datetime field from the string timestamp `ds`\n",
    "fcst['timestamp'] = fcst.ds.apply(lambda x: datetime.strptime(x, '%Y-%m-%d %H:%M:%S'))\n",
    "\n",
    "# set the index as the timestamp so we can easily make lookups based on time\n",
    "fcst = fcst.set_index('timestamp')[['side']]"
   ]
  },
  {
   "cell_type": "code",
   "execution_count": 4,
   "metadata": {},
   "outputs": [
    {
     "name": "stdout",
     "output_type": "stream",
     "text": [
      "buy\n",
      "sell\n",
      "buy\n",
      "buy\n",
      "sell\n",
      "buy\n",
      "sell\n",
      "buy\n",
      "sell\n",
      "buy\n",
      "buy\n",
      "buy\n",
      "sell\n",
      "sell\n",
      "buy\n",
      "sell\n",
      "buy\n",
      "buy\n",
      "sell\n",
      "sell\n",
      "sell\n",
      "sell\n",
      "sell\n",
      "buy\n",
      "sell\n",
      "buy\n",
      "sell\n",
      "sell\n",
      "buy\n",
      "buy\n",
      "buy\n",
      "sell\n",
      "sell\n",
      "buy\n",
      "sell\n",
      "buy\n",
      "buy\n",
      "buy\n",
      "buy\n",
      "buy\n",
      "sell\n",
      "sell\n",
      "buy\n",
      "buy\n",
      "buy\n",
      "buy\n",
      "buy\n",
      "buy\n",
      "sell\n",
      "sell\n",
      "sell\n",
      "sell\n",
      "buy\n",
      "sell\n",
      "sell\n",
      "sell\n",
      "buy\n",
      "sell\n",
      "sell\n",
      "sell\n",
      "buy\n",
      "sell\n",
      "sell\n",
      "buy\n",
      "buy\n",
      "buy\n",
      "buy\n",
      "sell\n",
      "buy\n",
      "buy\n",
      "buy\n",
      "buy\n",
      "buy\n",
      "sell\n",
      "sell\n",
      "buy\n",
      "sell\n",
      "sell\n",
      "buy\n",
      "sell\n",
      "buy\n",
      "sell\n",
      "sell\n",
      "sell\n",
      "buy\n",
      "buy\n",
      "buy\n",
      "buy\n",
      "sell\n",
      "sell\n",
      "sell\n",
      "buy\n",
      "sell\n",
      "sell\n",
      "sell\n",
      "sell\n",
      "sell\n",
      "sell\n",
      "sell\n",
      "sell\n"
     ]
    }
   ],
   "source": [
    "import random\n",
    "sides = ['buy','sell']\n",
    "now = datetime.now()\n",
    "ts_prior = datetime(year=now.year, month=now.month, day=now.day, hour=now.hour, minute=now.minute)\n",
    "ts = ts_prior + timedelta(minutes=1)\n",
    "\n",
    "for i in range(100):\n",
    "    fcst.loc[ts + timedelta(minutes=i)].side = random.choice(sides)\n",
    "    print(fcst.loc[ts + timedelta(minutes=i)].side)"
   ]
  },
  {
   "cell_type": "markdown",
   "metadata": {},
   "source": [
    "### Set up Elasticsearch"
   ]
  },
  {
   "cell_type": "code",
   "execution_count": 5,
   "metadata": {},
   "outputs": [],
   "source": [
    "# first set up Elasticsearch connection\n",
    "# by default we connect to elasticsearch:9200 \n",
    "# since we are running this notebook from the Spark-Node we need to use `elasticsearch` instead of `localhost`\n",
    "# as this is the name of the docker container running Elasticsearch\n",
    "es = Elasticsearch('localhost:9200')\n",
    "\n",
    "# if the `gemini` index does not exist, create it\n",
    "if not es.indices.exists('gemini'):\n",
    "    es.indices.create(index='gemini')"
   ]
  },
  {
   "cell_type": "markdown",
   "metadata": {},
   "source": [
    "### Set up Kafka"
   ]
  },
  {
   "cell_type": "code",
   "execution_count": 6,
   "metadata": {},
   "outputs": [],
   "source": [
    "consumer = KafkaConsumer('gemini-feed',\n",
    "                         bootstrap_servers=['localhost:9092'],\n",
    "                         auto_offset_reset='latest',\n",
    "                         enable_auto_commit=True,\n",
    "                        value_deserializer=lambda x: x.decode('utf-8')\n",
    ")"
   ]
  },
  {
   "cell_type": "markdown",
   "metadata": {},
   "source": [
    "### Set up Gemini"
   ]
  },
  {
   "cell_type": "markdown",
   "metadata": {},
   "source": [
    "#### Set the amount to trade\n",
    "[Gemini's minimum order size](https://docs.gemini.com/rest-api/#symbols-and-minimums) for BTC is currently 0.00001. At the time of writing that is about `$0.15`. Let's try trading at 0.0001 which is about `$1.53`."
   ]
  },
  {
   "cell_type": "code",
   "execution_count": 7,
   "metadata": {},
   "outputs": [],
   "source": [
    "# trade 50% of our account balance\n",
    "trade_pct = 0.5\n",
    "\n",
    "# require that price_volume threshold be between 0.1 and 2\n",
    "# this indicates that sell side volume is 1/10th and double that of buy side\n",
    "# suggesting (relatively) normal liquidity thresholds.\n",
    "# if sell side liquidity is above 2x that of the buy side we might think that \n",
    "# price may not move in the next minute.\n",
    "threshold = (0.1, 2)"
   ]
  },
  {
   "cell_type": "markdown",
   "metadata": {},
   "source": [
    "### Define functions"
   ]
  },
  {
   "cell_type": "code",
   "execution_count": 8,
   "metadata": {},
   "outputs": [
    {
     "data": {
      "text/plain": [
       "{'type': 'exchange',\n",
       " 'currency': 'BTC',\n",
       " 'amount': 1154.62034001,\n",
       " 'available': 1129.10517279,\n",
       " 'availableForWithdrawal': 1129.10517279,\n",
       " 'doc_type': 'balance'}"
      ]
     },
     "execution_count": 8,
     "metadata": {},
     "output_type": "execute_result"
    }
   ],
   "source": [
    "def get_btc_balance():\n",
    "    with open('balance.json') as f:\n",
    "        balances = json.load(f)\n",
    "    for i in balances:\n",
    "        if i['currency'] == 'BTC':\n",
    "            i['amount'] = float(i['amount'])\n",
    "            i['available'] = float(i['available'])\n",
    "            i['availableForWithdrawal'] = float(i['availableForWithdrawal'])\n",
    "            i['doc_type'] = 'balance'\n",
    "            return i\n",
    "        \n",
    "get_btc_balance()"
   ]
  },
  {
   "cell_type": "code",
   "execution_count": 9,
   "metadata": {},
   "outputs": [
    {
     "data": {
      "text/plain": [
       "{'type': 'exchange',\n",
       " 'currency': 'USD',\n",
       " 'amount': 18722.79,\n",
       " 'available': 14481.62,\n",
       " 'availableForWithdrawal': 14481.62,\n",
       " 'doc_type': 'balance'}"
      ]
     },
     "execution_count": 9,
     "metadata": {},
     "output_type": "execute_result"
    }
   ],
   "source": [
    "def get_usd_balance():\n",
    "    with open('balance.json') as f:\n",
    "        balances = json.load(f)\n",
    "    for i in balances:\n",
    "        if i['currency'] == 'USD':\n",
    "            i['amount'] = float(i['amount'])\n",
    "            i['available'] = float(i['available'])\n",
    "            i['availableForWithdrawal'] = float(i['availableForWithdrawal'])\n",
    "            i['doc_type'] = 'balance'\n",
    "            return i\n",
    "        \n",
    "get_usd_balance()"
   ]
  },
  {
   "cell_type": "code",
   "execution_count": 10,
   "metadata": {
    "scrolled": true
   },
   "outputs": [
    {
     "data": {
      "text/plain": [
       "{'bid': 11460.46,\n",
       " 'ask': 11462.72,\n",
       " 'last': 11463.02,\n",
       " 'volume_BTC': 1496.8377118965,\n",
       " 'volume_USD': 17126327.70437131,\n",
       " 'timestamp': datetime.datetime(2020, 10, 14, 3, 20),\n",
       " 'doc_type': 'ticker'}"
      ]
     },
     "execution_count": 10,
     "metadata": {},
     "output_type": "execute_result"
    }
   ],
   "source": [
    "def get_ticker():\n",
    "    '''\n",
    "    NOTE: We need to ensure that numbers are numbers, not strings, for ES.\n",
    "    Otherwise we would need to specify a mapping.\n",
    "    '''    \n",
    "    base_url = \"https://api.gemini.com/v1\"\n",
    "    response = requests.get(base_url + \"/pubticker/btcusd\")\n",
    "    ticker = response.json()\n",
    "    ticker['ask'] = float(ticker['ask'])\n",
    "    ticker['bid'] = float(ticker['bid'])\n",
    "    ticker['last'] = float(ticker['last'])\n",
    "    ticker['volume_BTC'] = float(ticker['volume'].pop('BTC'))\n",
    "    ticker['volume_USD'] = float(ticker['volume'].pop('USD'))\n",
    "    ticker['timestamp'] = datetime.fromtimestamp(ticker['volume'].pop('timestamp')/1000)\n",
    "    ticker.pop('volume')\n",
    "    ticker['doc_type'] = 'ticker'\n",
    "    return ticker\n",
    "\n",
    "get_ticker()"
   ]
  },
  {
   "cell_type": "code",
   "execution_count": 11,
   "metadata": {},
   "outputs": [],
   "source": [
    "def format_order(order):\n",
    "    '''\n",
    "    NOTE: We need to ensure that numbers are numbers, not strings, for ES.\n",
    "    Otherwise we would need to specify a mapping.\n",
    "    \n",
    "    Also, we convert epoch time to Python datetime which is natively recognized as a time field by ES.\n",
    "    Epoch time, without a custom mapping, would appear as a number.\n",
    "    '''\n",
    "    order_dict = order#.json()\n",
    "    try:\n",
    "        order_dict['timestamp'] = datetime.fromtimestamp(int(order_dict['timestamp']))\n",
    "    except:\n",
    "        # no timestamp field, try timestampms\n",
    "        try:\n",
    "            order_dict['timestamp'] = datetime.fromtimestamp(int(order_dict['timestampms']))\n",
    "        except:\n",
    "            # no timestampms, set to now\n",
    "            order_dict['timestamp'] = datetime.now()\n",
    "    order_dict['price'] = float(order_dict['price'])\n",
    "    order_dict['original_amount'] = float(order_dict['original_amount'])\n",
    "    order_dict['remaining_amount'] = float(order_dict['remaining_amount'])\n",
    "    order_dict['avg_execution_price'] = float(order_dict['avg_execution_price'])\n",
    "    order_dict['executed_amount'] = float(order_dict['executed_amount'])\n",
    "    order_dict['doc_type'] = 'order'\n",
    "    return order_dict"
   ]
  },
  {
   "cell_type": "code",
   "execution_count": 12,
   "metadata": {},
   "outputs": [],
   "source": [
    "def make_order(amount, side, ticker):\n",
    "    # if we are buying we should take the last ask price\n",
    "    if side == 'buy':\n",
    "        bid_ask = 'ask'\n",
    "\n",
    "    # if we are selling we should take the last bid price        \n",
    "    elif side == 'sell':\n",
    "        bid_ask = 'bid'\n",
    "        \n",
    "#     order = con.new_order(amount = amount, # set order amount\n",
    "#                       price = ticker[bid_ask], # grab latest bid or ask price\n",
    "#                       side = side, # set side (either buy/sell)\n",
    "#                       options = ['immediate-or-cancel'] # take liquidity with an immediate trade\n",
    "#                      )\n",
    "    order = {\n",
    "        \"order_id\": \"106817811\", \n",
    "        \"id\": \"106817811\", \n",
    "        \"symbol\": \"btcusd\", \n",
    "        \"exchange\": \"gemini\", \n",
    "        \"avg_execution_price\": \"3632.8508430064554\",\n",
    "        \"side\": \"buy\", \n",
    "        \"type\": \"exchange limit\", \n",
    "        \"timestamp\": \"1547220404\", \n",
    "        \"timestampms\": 1547220404836, \n",
    "        \"is_live\": True, \n",
    "        \"is_cancelled\": False, \n",
    "        \"is_hidden\": False, \n",
    "        \"was_forced\": False,\n",
    "        \"executed_amount\": \"3.7567928949\",\n",
    "        \"remaining_amount\": \"1.2432071051\",\n",
    "        \"client_order_id\": \"20190110-4738721\",\n",
    "        \"options\": [],\n",
    "        \"price\": \"3633.00\", \n",
    "        \"original_amount\": \"5\"\n",
    "    }\n",
    "    # format order for Elasticsearch\n",
    "    order_dict = format_order(order)\n",
    "    \n",
    "    return order_dict"
   ]
  },
  {
   "cell_type": "code",
   "execution_count": 13,
   "metadata": {},
   "outputs": [],
   "source": [
    "def lookup_side(fcst):\n",
    "    # get current timestamp\n",
    "    now = datetime.now()\n",
    "    \n",
    "    # we must add 1 minute to the time we lookup\n",
    "    # this is because our forecasts are for whether we should have bought/sold in a given minute\n",
    "    # so, we want trade with our prediction in mind (hence, add 1 minute)\n",
    "    ts_prior = datetime(year=now.year, month=now.month, day=now.day, hour=now.hour, minute=now.minute)\n",
    "    ts = ts_prior + timedelta(minutes=1)\n",
    "    \n",
    "    last_fcst = fcst.loc[ts_prior].side\n",
    "    curr_fcst = fcst.loc[ts].side\n",
    "    return {'last_fcst': last_fcst, 'side': curr_fcst} # return looked up side (either buy or sell)"
   ]
  },
  {
   "cell_type": "code",
   "execution_count": 14,
   "metadata": {},
   "outputs": [],
   "source": [
    "def get_last_buy(es):\n",
    "    query = {\n",
    "      \"sort\" : [\n",
    "            { \"timestamp\" : {\"order\" : \"desc\"}}\n",
    "        ],\n",
    "      \"query\": {\n",
    "        \"bool\": {\n",
    "          \"must\": [\n",
    "            {\n",
    "              \"match_phrase\": {\n",
    "                \"side\": {\n",
    "                  \"query\": \"buy\"\n",
    "                }\n",
    "              }\n",
    "            }\n",
    "          ]\n",
    "        }\n",
    "      }\n",
    "    }\n",
    "\n",
    "    results = es.search(index='gemini', doc_type='gem', body=query)\n",
    "    last_buy = results['hits'][0]\n",
    "    last_price = last_buy['_source']['price']\n",
    "    return last_price"
   ]
  },
  {
   "cell_type": "code",
   "execution_count": 15,
   "metadata": {},
   "outputs": [],
   "source": [
    "def score_trade(es, order, balance):\n",
    "    last_price = get_last_buy(es)\n",
    "    \n",
    "    # get timestamp \n",
    "    now = datetime.now()\n",
    "    timestamp = datetime(year=now.year, month=now.month, day=now.day, hour=now.hour, minute=now.minute)\n",
    "    \n",
    "    # grab sell order price\n",
    "    curr_price = order['price']\n",
    "    profit = (curr_price - last_price) * balance\n",
    "    \n",
    "    return {'profit': profit, 'timestamp': timestamp, 'doc_type': 'score'}"
   ]
  },
  {
   "cell_type": "code",
   "execution_count": 16,
   "metadata": {},
   "outputs": [],
   "source": [
    "def process_msg(message, fcst, es, threshold, trade_pct, last_price, traded):\n",
    "    # load message as json\n",
    "    msg = json.loads(message.value)\n",
    "    \n",
    "    # convert msg epoch time to datetime\n",
    "    msg['timestamp'] = datetime.fromtimestamp(msg['timestamp'])\n",
    "    \n",
    "    # get ticker\n",
    "    ticker = get_ticker()\n",
    "\n",
    "    # check side from model\n",
    "    lookup = lookup_side(fcst)\n",
    "    side = lookup['side']\n",
    "    last_fcst = lookup['last_fcst']\n",
    "\n",
    "    msg['doc_type'] = msg.pop('type')\n",
    "\n",
    "    # index msg to ES\n",
    "    es.index(index='gemini', doc_type='gem', body=msg)\n",
    "    \n",
    "    # index account balance to ES\n",
    "    es.index(index='gemini', doc_type='gem',body=get_btc_balance())\n",
    "    \n",
    "    # index ticker data to ES\n",
    "    es.index(index=\"gemini\", doc_type='gem', body=ticker)    \n",
    "    \n",
    "    if side == 'sell':\n",
    "        balance = get_btc_balance()['amount']\n",
    "        if balance > 0:\n",
    "            order = make_order(balance, 'sell', ticker)\n",
    "            score = score_trade(es, order, balance)\n",
    "            print('Last trade yieled ${} in profit.'.format(score['profit']))\n",
    "\n",
    "            # index sell order data to ES\n",
    "            es.index(index=\"gemini\", doc_type='gem', body=order)\n",
    "            \n",
    "            # index score to ES\n",
    "            es.index(index=\"gemini\", doc_type='gem', body=score)\n",
    "        else:\n",
    "            print('No balance to sell.')\n",
    "        return ticker['last'], False\n",
    "\n",
    "    else: # buy side\n",
    "\n",
    "        # only trade if we didn't just trade\n",
    "        if not traded:\n",
    "\n",
    "            # Execute trade\n",
    "            if msg['doc_type'] == 'price_volume':\n",
    "\n",
    "                # only execute trade if price_volume within threshold\n",
    "                if msg['value'] > threshold[0] and msg['value'] < threshold[1]:\n",
    "\n",
    "                    # trade with 90% of our balance\n",
    "                    trade_amount = round((get_usd_balance()['available'] * trade_pct) / get_ticker()['last'],4)\n",
    "                    print(trade_amount)\n",
    "                    \n",
    "                    # execute order\n",
    "                    order = make_order(trade_amount, side, ticker)\n",
    "\n",
    "                    # index order data to ES\n",
    "                    es.index(index=\"gemini\", doc_type='gem', body=order)\n",
    "\n",
    "                    # print order\n",
    "                    order.pop('timestamp')\n",
    "                    print(json.dumps(order, sort_keys=True,\n",
    "                        indent=4, separators=(',', ': ')))\n",
    "                    print('\\n')\n",
    "\n",
    "                    return ticker['last'], True\n",
    "                else:\n",
    "                    return last_price, False\n",
    "            else:\n",
    "                return last_price, False\n",
    "        else:\n",
    "            return last_price, True"
   ]
  },
  {
   "cell_type": "code",
   "execution_count": 17,
   "metadata": {},
   "outputs": [
    {
     "name": "stdout",
     "output_type": "stream",
     "text": [
      "{\"type\": \"bid\", \"price\": \"11460.47\", \"remaining\": \"0.16146784\", \"price_volume\": \"1\", \"timestamp\": 1602626089}\n",
      "11463.02 False\n",
      "{\"type\": \"bid\", \"price\": \"11460.48\", \"remaining\": \"0.10256473\", \"price_volume\": \"1\", \"timestamp\": 1602626089}\n",
      "11463.02 False\n",
      "{\"type\": \"bid\", \"price\": \"11460.47\", \"remaining\": \"0\", \"price_volume\": \"1\", \"timestamp\": 1602626089}\n",
      "11463.02 False\n",
      "{\"type\": \"bid\", \"price\": \"11460.48\", \"remaining\": \"0.26403243\", \"price_volume\": \"1\", \"timestamp\": 1602626089}\n",
      "11463.02 False\n",
      "{\"type\": \"bid\", \"price\": \"11460.49\", \"remaining\": \"0.07059359\", \"price_volume\": \"1\", \"timestamp\": 1602626089}\n",
      "11463.02 False\n",
      "{\"type\": \"bid\", \"price\": \"11460.48\", \"remaining\": \"0.1939476\", \"price_volume\": \"1\", \"timestamp\": 1602626089}\n"
     ]
    },
    {
     "ename": "IndexError",
     "evalue": "list index out of range",
     "output_type": "error",
     "traceback": [
      "\u001b[0;31m---------------------------------------------------------------------------\u001b[0m",
      "\u001b[0;31mIndexError\u001b[0m                                Traceback (most recent call last)",
      "\u001b[0;32m<ipython-input-17-902582c6f049>\u001b[0m in \u001b[0;36m<module>\u001b[0;34m\u001b[0m\n\u001b[1;32m      4\u001b[0m \u001b[0;32mfor\u001b[0m \u001b[0mmessage\u001b[0m \u001b[0;32min\u001b[0m \u001b[0mconsumer\u001b[0m\u001b[0;34m:\u001b[0m\u001b[0;34m\u001b[0m\u001b[0;34m\u001b[0m\u001b[0m\n\u001b[1;32m      5\u001b[0m     \u001b[0mprint\u001b[0m\u001b[0;34m(\u001b[0m\u001b[0mmessage\u001b[0m\u001b[0;34m.\u001b[0m\u001b[0mvalue\u001b[0m\u001b[0;34m)\u001b[0m\u001b[0;34m\u001b[0m\u001b[0;34m\u001b[0m\u001b[0m\n\u001b[0;32m----> 6\u001b[0;31m     \u001b[0mlast_price\u001b[0m\u001b[0;34m,\u001b[0m\u001b[0mtraded\u001b[0m \u001b[0;34m=\u001b[0m \u001b[0mprocess_msg\u001b[0m\u001b[0;34m(\u001b[0m\u001b[0mmessage\u001b[0m\u001b[0;34m,\u001b[0m \u001b[0mfcst\u001b[0m\u001b[0;34m,\u001b[0m \u001b[0mes\u001b[0m\u001b[0;34m,\u001b[0m \u001b[0mthreshold\u001b[0m\u001b[0;34m,\u001b[0m \u001b[0mtrade_pct\u001b[0m\u001b[0;34m,\u001b[0m \u001b[0mlast_price\u001b[0m\u001b[0;34m,\u001b[0m \u001b[0mtraded\u001b[0m\u001b[0;34m)\u001b[0m\u001b[0;34m\u001b[0m\u001b[0;34m\u001b[0m\u001b[0m\n\u001b[0m\u001b[1;32m      7\u001b[0m     \u001b[0mprint\u001b[0m\u001b[0;34m(\u001b[0m\u001b[0mlast_price\u001b[0m\u001b[0;34m,\u001b[0m\u001b[0mtraded\u001b[0m\u001b[0;34m)\u001b[0m\u001b[0;34m\u001b[0m\u001b[0;34m\u001b[0m\u001b[0m\n",
      "\u001b[0;32m<ipython-input-16-02fa76d7b838>\u001b[0m in \u001b[0;36mprocess_msg\u001b[0;34m(message, fcst, es, threshold, trade_pct, last_price, traded)\u001b[0m\n\u001b[1;32m     29\u001b[0m         \u001b[0;32mif\u001b[0m \u001b[0mbalance\u001b[0m \u001b[0;34m>\u001b[0m \u001b[0;36m0\u001b[0m\u001b[0;34m:\u001b[0m\u001b[0;34m\u001b[0m\u001b[0;34m\u001b[0m\u001b[0m\n\u001b[1;32m     30\u001b[0m             \u001b[0morder\u001b[0m \u001b[0;34m=\u001b[0m \u001b[0mmake_order\u001b[0m\u001b[0;34m(\u001b[0m\u001b[0mbalance\u001b[0m\u001b[0;34m,\u001b[0m \u001b[0;34m'sell'\u001b[0m\u001b[0;34m,\u001b[0m \u001b[0mticker\u001b[0m\u001b[0;34m)\u001b[0m\u001b[0;34m\u001b[0m\u001b[0;34m\u001b[0m\u001b[0m\n\u001b[0;32m---> 31\u001b[0;31m             \u001b[0mscore\u001b[0m \u001b[0;34m=\u001b[0m \u001b[0mscore_trade\u001b[0m\u001b[0;34m(\u001b[0m\u001b[0mes\u001b[0m\u001b[0;34m,\u001b[0m \u001b[0morder\u001b[0m\u001b[0;34m,\u001b[0m \u001b[0mbalance\u001b[0m\u001b[0;34m)\u001b[0m\u001b[0;34m\u001b[0m\u001b[0;34m\u001b[0m\u001b[0m\n\u001b[0m\u001b[1;32m     32\u001b[0m             \u001b[0mprint\u001b[0m\u001b[0;34m(\u001b[0m\u001b[0;34m'Last trade yieled ${} in profit.'\u001b[0m\u001b[0;34m.\u001b[0m\u001b[0mformat\u001b[0m\u001b[0;34m(\u001b[0m\u001b[0mscore\u001b[0m\u001b[0;34m[\u001b[0m\u001b[0;34m'profit'\u001b[0m\u001b[0;34m]\u001b[0m\u001b[0;34m)\u001b[0m\u001b[0;34m)\u001b[0m\u001b[0;34m\u001b[0m\u001b[0;34m\u001b[0m\u001b[0m\n\u001b[1;32m     33\u001b[0m \u001b[0;34m\u001b[0m\u001b[0m\n",
      "\u001b[0;32m<ipython-input-15-1baf5b620fab>\u001b[0m in \u001b[0;36mscore_trade\u001b[0;34m(es, order, balance)\u001b[0m\n\u001b[1;32m      1\u001b[0m \u001b[0;32mdef\u001b[0m \u001b[0mscore_trade\u001b[0m\u001b[0;34m(\u001b[0m\u001b[0mes\u001b[0m\u001b[0;34m,\u001b[0m \u001b[0morder\u001b[0m\u001b[0;34m,\u001b[0m \u001b[0mbalance\u001b[0m\u001b[0;34m)\u001b[0m\u001b[0;34m:\u001b[0m\u001b[0;34m\u001b[0m\u001b[0;34m\u001b[0m\u001b[0m\n\u001b[0;32m----> 2\u001b[0;31m     \u001b[0mlast_price\u001b[0m \u001b[0;34m=\u001b[0m \u001b[0mget_last_buy\u001b[0m\u001b[0;34m(\u001b[0m\u001b[0mes\u001b[0m\u001b[0;34m)\u001b[0m\u001b[0;34m\u001b[0m\u001b[0;34m\u001b[0m\u001b[0m\n\u001b[0m\u001b[1;32m      3\u001b[0m \u001b[0;34m\u001b[0m\u001b[0m\n\u001b[1;32m      4\u001b[0m     \u001b[0;31m# get timestamp\u001b[0m\u001b[0;34m\u001b[0m\u001b[0;34m\u001b[0m\u001b[0;34m\u001b[0m\u001b[0m\n\u001b[1;32m      5\u001b[0m     \u001b[0mnow\u001b[0m \u001b[0;34m=\u001b[0m \u001b[0mdatetime\u001b[0m\u001b[0;34m.\u001b[0m\u001b[0mnow\u001b[0m\u001b[0;34m(\u001b[0m\u001b[0;34m)\u001b[0m\u001b[0;34m\u001b[0m\u001b[0;34m\u001b[0m\u001b[0m\n",
      "\u001b[0;32m<ipython-input-14-75bc1f0640ef>\u001b[0m in \u001b[0;36mget_last_buy\u001b[0;34m(es)\u001b[0m\n\u001b[1;32m     20\u001b[0m \u001b[0;34m\u001b[0m\u001b[0m\n\u001b[1;32m     21\u001b[0m     \u001b[0mresults\u001b[0m \u001b[0;34m=\u001b[0m \u001b[0mes\u001b[0m\u001b[0;34m.\u001b[0m\u001b[0msearch\u001b[0m\u001b[0;34m(\u001b[0m\u001b[0mindex\u001b[0m\u001b[0;34m=\u001b[0m\u001b[0;34m'gemini'\u001b[0m\u001b[0;34m,\u001b[0m \u001b[0mdoc_type\u001b[0m\u001b[0;34m=\u001b[0m\u001b[0;34m'gem'\u001b[0m\u001b[0;34m,\u001b[0m \u001b[0mbody\u001b[0m\u001b[0;34m=\u001b[0m\u001b[0mquery\u001b[0m\u001b[0;34m)\u001b[0m\u001b[0;34m\u001b[0m\u001b[0;34m\u001b[0m\u001b[0m\n\u001b[0;32m---> 22\u001b[0;31m     \u001b[0mlast_buy\u001b[0m \u001b[0;34m=\u001b[0m \u001b[0mresults\u001b[0m\u001b[0;34m[\u001b[0m\u001b[0;34m'hits'\u001b[0m\u001b[0;34m]\u001b[0m\u001b[0;34m[\u001b[0m\u001b[0;34m'hits'\u001b[0m\u001b[0;34m]\u001b[0m\u001b[0;34m[\u001b[0m\u001b[0;36m0\u001b[0m\u001b[0;34m]\u001b[0m\u001b[0;34m\u001b[0m\u001b[0;34m\u001b[0m\u001b[0m\n\u001b[0m\u001b[1;32m     23\u001b[0m     \u001b[0mlast_price\u001b[0m \u001b[0;34m=\u001b[0m \u001b[0mlast_buy\u001b[0m\u001b[0;34m[\u001b[0m\u001b[0;34m'_source'\u001b[0m\u001b[0;34m]\u001b[0m\u001b[0;34m[\u001b[0m\u001b[0;34m'price'\u001b[0m\u001b[0;34m]\u001b[0m\u001b[0;34m\u001b[0m\u001b[0;34m\u001b[0m\u001b[0m\n\u001b[1;32m     24\u001b[0m     \u001b[0;32mreturn\u001b[0m \u001b[0mlast_price\u001b[0m\u001b[0;34m\u001b[0m\u001b[0;34m\u001b[0m\u001b[0m\n",
      "\u001b[0;31mIndexError\u001b[0m: list index out of range"
     ]
    }
   ],
   "source": [
    "# get last price for keeping track of performance\n",
    "last_price = get_ticker()['last']\n",
    "traded = False\n",
    "for message in consumer:\n",
    "    print(message.value)\n",
    "    last_price,traded = process_msg(message, fcst, es, threshold, trade_pct, last_price, traded)\n",
    "    print(last_price,traded)\n"
   ]
  },
  {
   "cell_type": "code",
   "execution_count": null,
   "metadata": {},
   "outputs": [],
   "source": [
    "# for message in consumer:\n",
    "#     try:\n",
    "#         print(message.value)\n",
    "#         last_price,traded = process_msg(message, fcst, es, threshold, trade_pct, last_price, traded)\n",
    "#         print(last_price,traded)\n",
    "#     except Exception as e:\n",
    "#         print(\"Error occurred: {}\".format(e))"
   ]
  }
 ],
 "metadata": {
  "kernelspec": {
   "display_name": "Python 3",
   "language": "python",
   "name": "python3"
  },
  "language_info": {
   "codemirror_mode": {
    "name": "ipython",
    "version": 3
   },
   "file_extension": ".py",
   "mimetype": "text/x-python",
   "name": "python",
   "nbconvert_exporter": "python",
   "pygments_lexer": "ipython3",
   "version": "3.8.5"
  }
 },
 "nbformat": 4,
 "nbformat_minor": 2
}
