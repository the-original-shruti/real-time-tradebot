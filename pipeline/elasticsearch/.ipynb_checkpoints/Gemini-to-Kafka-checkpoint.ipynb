{
 "cells": [
  {
   "cell_type": "markdown",
   "metadata": {},
   "source": [
    "# Gemini to Kafka\n",
    "This notebook pipes the Gemini exchange's websocket feed to Kafka. Note that for the following code to work you must be running Kafka and have it available at `localhost:9092`"
   ]
  },
  {
   "cell_type": "code",
   "execution_count": null,
   "metadata": {},
   "outputs": [],
   "source": [
    "# !pip install --upgrade kafka-python"
   ]
  },
  {
   "cell_type": "code",
   "execution_count": null,
   "metadata": {},
   "outputs": [],
   "source": [
    "from kafka import KafkaProducer, KafkaConsumer\n",
    "import websocket\n",
    "import json\n",
    "import datetime\n",
    "import time"
   ]
  },
  {
   "cell_type": "markdown",
   "metadata": {},
   "source": [
    "## Run Gemini Websocket API"
   ]
  },
  {
   "cell_type": "code",
   "execution_count": null,
   "metadata": {},
   "outputs": [],
   "source": [
    "producer = KafkaProducer(bootstrap_servers=['localhost:9092'])"
   ]
  },
  {
   "cell_type": "code",
   "execution_count": null,
   "metadata": {},
   "outputs": [],
   "source": [
    "def on_message(ws, message):\n",
    "    message = json.loads(message)\n",
    "    if message['type'] == 'update':\n",
    "        for i in message['events']:\n",
    "            if 'side' in i:\n",
    "                payload = {'side': i['side'], 'price': i['price'], 'remaining': i['remaining'],'price_volume':'1','timestamp':int(time.time())}\n",
    "                print(payload)\n",
    "                sent = producer.send('gemini-feed', bytes(json.dumps(payload), 'utf-8'))\n",
    "        producer.flush()\n",
    "                "
   ]
  },
  {
   "cell_type": "code",
   "execution_count": null,
   "metadata": {},
   "outputs": [],
   "source": [
    "def on_error(self, ws, error):\n",
    "    print('Error {0}, {1}'.format(error, datetime.datetime.now()))"
   ]
  },
  {
   "cell_type": "code",
   "execution_count": null,
   "metadata": {},
   "outputs": [],
   "source": [
    "def on_close(self, ws):\n",
    "    print('Closed, {}'.format(datetime.datetime.now()))"
   ]
  },
  {
   "cell_type": "code",
   "execution_count": null,
   "metadata": {},
   "outputs": [],
   "source": [
    "def on_open(self, ws):\n",
    "        print('Opened, {}'.format(datetime.datetime.now()))"
   ]
  },
  {
   "cell_type": "code",
   "execution_count": null,
   "metadata": {},
   "outputs": [],
   "source": [
    "ws = websocket.WebSocketApp(\"wss://api.gemini.com/v1/marketdata/BTCUSD\",on_message=on_message)\n",
    "ws.run_forever(ping_interval = 5)  "
   ]
  },
  {
   "cell_type": "code",
   "execution_count": null,
   "metadata": {},
   "outputs": [],
   "source": [
    "# from kafka import KafkaConsumer\n",
    "# from json import loads\n",
    "# from time import sleep\n",
    "\n",
    "# consumer = KafkaConsumer(\n",
    "#     'gemini-feed',\n",
    "#     bootstrap_servers=['localhost:9092'],\n",
    "#     auto_offset_reset='earliest',\n",
    "#     enable_auto_commit=True,\n",
    "#     value_deserializer=lambda x: loads(x.decode('utf-8'))\n",
    "# )\n",
    "\n",
    "# count = 0\n",
    "# for event in consumer:\n",
    "#     if count<=100:\n",
    "#         event_data = event.value\n",
    "#         print('Receiving...\\n',event_data)\n",
    "#         sleep(0.5)\n",
    "#     else:\n",
    "#         break\n",
    "#     count+=1"
   ]
  },
  {
   "cell_type": "code",
   "execution_count": null,
   "metadata": {},
   "outputs": [],
   "source": []
  },
  {
   "cell_type": "code",
   "execution_count": null,
   "metadata": {},
   "outputs": [],
   "source": []
  }
 ],
 "metadata": {
  "kernelspec": {
   "display_name": "Python 3",
   "language": "python",
   "name": "python3"
  },
  "language_info": {
   "codemirror_mode": {
    "name": "ipython",
    "version": 3
   },
   "file_extension": ".py",
   "mimetype": "text/x-python",
   "name": "python",
   "nbconvert_exporter": "python",
   "pygments_lexer": "ipython3",
   "version": "3.8.5"
  }
 },
 "nbformat": 4,
 "nbformat_minor": 2
}
