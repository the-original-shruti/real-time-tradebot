{
 "cells": [
  {
   "cell_type": "markdown",
   "metadata": {},
   "source": [
    "# Introduction to Elasticsearch"
   ]
  },
  {
   "cell_type": "markdown",
   "metadata": {},
   "source": [
    "First, let's initialize a connection to Elasticsearch. We'll call it `es`. "
   ]
  },
  {
   "cell_type": "code",
   "execution_count": 3,
   "metadata": {},
   "outputs": [],
   "source": [
    "#  !pip3 install elasticsearch\n",
    "from elasticsearch import Elasticsearch\n",
    "\n",
    "# by default we connect to localhost:9200\n",
    "es = Elasticsearch()"
   ]
  },
  {
   "cell_type": "markdown",
   "metadata": {},
   "source": [
    "Next, let's create an index called `test-index`. We can use this for storing some sample documents, which we will later visualize in Kibana."
   ]
  },
  {
   "cell_type": "code",
   "execution_count": 4,
   "metadata": {},
   "outputs": [],
   "source": [
    "# es.indices.create(index='test-index')"
   ]
  },
  {
   "cell_type": "markdown",
   "metadata": {},
   "source": [
    "Now that we have an index, we can put some documents into the index"
   ]
  },
  {
   "cell_type": "code",
   "execution_count": 5,
   "metadata": {},
   "outputs": [],
   "source": [
    "from datetime import datetime, timezone\n",
    "import random\n",
    "for i in range(0,100):\n",
    "    doc = {\n",
    "        \"description\": \"random price data\", \n",
    "        \"timestamp\": datetime.now(tz=timezone.utc), \n",
    "        'price': random.randint(1,100)\n",
    "    }\n",
    "    es.index(index=\"test-index\", doc_type=\"test-type\", id=i, body=doc)"
   ]
  },
  {
   "cell_type": "markdown",
   "metadata": {},
   "source": [
    "We just generated 100 random price objects. We stored each with a randomized “price” between 1 and 100 and captured the time at which we indexed the object. Note that we also defined the `doc_type` on the fly as we indexed the objects. We called the type test-type. One of the helpful things about ES is that it can infer a schema from objects you provide it. In ES terminology this is called a _mapping_. Note that if your objects schema change, down the road ES can accommodate that as well. Let’s try it just to prove the point:"
   ]
  },
  {
   "cell_type": "code",
   "execution_count": 6,
   "metadata": {},
   "outputs": [],
   "source": [
    "from datetime import datetime, timezone\n",
    "import random\n",
    "coin_types = ['dogecoin','bitcoin','ethereum','litecoin','dash']\n",
    "for i in range(100,200):\n",
    "    doc = {\n",
    "        \"description\": \"random price data\", \n",
    "        \"timestamp\": datetime.now(tz=timezone.utc), \n",
    "        'price': random.randint(1,100), \n",
    "        'coin_type': coin_types[random.randint(0,4)]}\n",
    "    es.index(index=\"test-index\", doc_type=\"test-type\", id=i, body=doc)"
   ]
  },
  {
   "cell_type": "markdown",
   "metadata": {},
   "source": [
    "We just created objects that have a new field (`coin_type`) and indexed them to the same type. Be careful! ES handles this gracefully, but it can also cause problems down the road if you expect all objects to have certain fields but they do not. We can compare two objects we indexed to see how they look. Let's grab `id` 42 and 142."
   ]
  },
  {
   "cell_type": "code",
   "execution_count": 7,
   "metadata": {},
   "outputs": [
    {
     "data": {
      "text/plain": [
       "{'description': 'random price data',\n",
       " 'timestamp': '2020-09-28T13:14:02.894561+00:00',\n",
       " 'price': 87}"
      ]
     },
     "execution_count": 7,
     "metadata": {},
     "output_type": "execute_result"
    }
   ],
   "source": [
    "es.get(index=\"test-index\", doc_type=\"test-type\", id=42)['_source']"
   ]
  },
  {
   "cell_type": "code",
   "execution_count": 8,
   "metadata": {},
   "outputs": [
    {
     "data": {
      "text/plain": [
       "{'description': 'random price data',\n",
       " 'timestamp': '2020-09-28T13:14:06.302603+00:00',\n",
       " 'price': 96,\n",
       " 'coin_type': 'ethereum'}"
      ]
     },
     "execution_count": 8,
     "metadata": {},
     "output_type": "execute_result"
    }
   ],
   "source": [
    "es.get(index=\"test-index\", doc_type=\"test-type\", id=142)['_source']"
   ]
  },
  {
   "cell_type": "markdown",
   "metadata": {},
   "source": [
    "As expected, 142 contains `coin_type` and 42 does not. We can run searches against this data using the ES query syntax. Let's try to find prices greater than 90."
   ]
  },
  {
   "cell_type": "code",
   "execution_count": 9,
   "metadata": {},
   "outputs": [],
   "source": [
    "query = {\n",
    "    \"query\": {\n",
    "        \"range\" : {\n",
    "            \"price\" : {\n",
    "                \"gt\" : 90\n",
    "            }\n",
    "        }\n",
    "    }\n",
    "}"
   ]
  },
  {
   "cell_type": "markdown",
   "metadata": {},
   "source": [
    "To actually run the search try:"
   ]
  },
  {
   "cell_type": "code",
   "execution_count": 10,
   "metadata": {},
   "outputs": [
    {
     "data": {
      "text/plain": [
       "{'took': 74,\n",
       " 'timed_out': False,\n",
       " '_shards': {'total': 5, 'successful': 5, 'skipped': 0, 'failed': 0},\n",
       " 'hits': {'total': 27,\n",
       "  'max_score': 1.0,\n",
       "  'hits': [{'_index': 'test-index',\n",
       "    '_type': 'test-type',\n",
       "    '_id': '26',\n",
       "    '_score': 1.0,\n",
       "    '_source': {'description': 'random price data',\n",
       "     'timestamp': '2020-09-28T13:14:02.716625+00:00',\n",
       "     'price': 99}},\n",
       "   {'_index': 'test-index',\n",
       "    '_type': 'test-type',\n",
       "    '_id': '60',\n",
       "    '_score': 1.0,\n",
       "    '_source': {'description': 'random price data',\n",
       "     'timestamp': '2020-09-28T13:14:03.067891+00:00',\n",
       "     'price': 94}},\n",
       "   {'_index': 'test-index',\n",
       "    '_type': 'test-type',\n",
       "    '_id': '92',\n",
       "    '_score': 1.0,\n",
       "    '_source': {'description': 'random price data',\n",
       "     'timestamp': '2020-09-28T13:14:03.349456+00:00',\n",
       "     'price': 91}},\n",
       "   {'_index': 'test-index',\n",
       "    '_type': 'test-type',\n",
       "    '_id': '129',\n",
       "    '_score': 1.0,\n",
       "    '_source': {'description': 'random price data',\n",
       "     'timestamp': '2020-09-28T13:14:06.211475+00:00',\n",
       "     'price': 95,\n",
       "     'coin_type': 'dogecoin'}},\n",
       "   {'_index': 'test-index',\n",
       "    '_type': 'test-type',\n",
       "    '_id': '190',\n",
       "    '_score': 1.0,\n",
       "    '_source': {'description': 'random price data',\n",
       "     'timestamp': '2020-09-28T13:14:06.667534+00:00',\n",
       "     'price': 94,\n",
       "     'coin_type': 'ethereum'}},\n",
       "   {'_index': 'test-index',\n",
       "    '_type': 'test-type',\n",
       "    '_id': '10',\n",
       "    '_score': 1.0,\n",
       "    '_source': {'description': 'random price data',\n",
       "     'timestamp': '2020-09-28T13:14:02.522334+00:00',\n",
       "     'price': 95}},\n",
       "   {'_index': 'test-index',\n",
       "    '_type': 'test-type',\n",
       "    '_id': '32',\n",
       "    '_score': 1.0,\n",
       "    '_source': {'description': 'random price data',\n",
       "     'timestamp': '2020-09-28T13:14:02.782226+00:00',\n",
       "     'price': 92}},\n",
       "   {'_index': 'test-index',\n",
       "    '_type': 'test-type',\n",
       "    '_id': '78',\n",
       "    '_score': 1.0,\n",
       "    '_source': {'description': 'random price data',\n",
       "     'timestamp': '2020-09-28T13:14:03.234861+00:00',\n",
       "     'price': 99}},\n",
       "   {'_index': 'test-index',\n",
       "    '_type': 'test-type',\n",
       "    '_id': '103',\n",
       "    '_score': 1.0,\n",
       "    '_source': {'description': 'random price data',\n",
       "     'timestamp': '2020-09-28T13:14:05.956096+00:00',\n",
       "     'price': 96,\n",
       "     'coin_type': 'litecoin'}},\n",
       "   {'_index': 'test-index',\n",
       "    '_type': 'test-type',\n",
       "    '_id': '142',\n",
       "    '_score': 1.0,\n",
       "    '_source': {'description': 'random price data',\n",
       "     'timestamp': '2020-09-28T13:14:06.302603+00:00',\n",
       "     'price': 96,\n",
       "     'coin_type': 'ethereum'}}]}}"
      ]
     },
     "execution_count": 10,
     "metadata": {},
     "output_type": "execute_result"
    }
   ],
   "source": [
    "es.search(body=query, index='test-index', doc_type='test-type')"
   ]
  },
  {
   "cell_type": "code",
   "execution_count": null,
   "metadata": {},
   "outputs": [],
   "source": []
  }
 ],
 "metadata": {
  "kernelspec": {
   "display_name": "Python 3",
   "language": "python",
   "name": "python3"
  },
  "language_info": {
   "codemirror_mode": {
    "name": "ipython",
    "version": 3
   },
   "file_extension": ".py",
   "mimetype": "text/x-python",
   "name": "python",
   "nbconvert_exporter": "python",
   "pygments_lexer": "ipython3",
   "version": "3.8.3"
  }
 },
 "nbformat": 4,
 "nbformat_minor": 2
}
