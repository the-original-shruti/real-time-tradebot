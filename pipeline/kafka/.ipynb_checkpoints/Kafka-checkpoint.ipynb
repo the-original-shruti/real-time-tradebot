{
 "cells": [
  {
   "cell_type": "markdown",
   "metadata": {},
   "source": [
    "# Introduction to Kafka\n",
    "Note that for the following code to work you must be running Kafka and have it available at `localhost:9092`"
   ]
  },
  {
   "cell_type": "markdown",
   "metadata": {},
   "source": [
    "### Create Producer"
   ]
  },
  {
   "cell_type": "code",
   "execution_count": 1,
   "metadata": {},
   "outputs": [],
   "source": [
    "from time import sleep\n",
    "from json import dumps\n",
    "from kafka import KafkaProducer"
   ]
  },
  {
   "cell_type": "code",
   "execution_count": 2,
   "metadata": {},
   "outputs": [],
   "source": [
    "producer = KafkaProducer(bootstrap_servers=['localhost:9092'], value_serializer=lambda x: dumps(x).encode('utf-8'))"
   ]
  },
  {
   "cell_type": "code",
   "execution_count": 3,
   "metadata": {},
   "outputs": [
    {
     "name": "stdout",
     "output_type": "stream",
     "text": [
      "Sending...\n",
      " {'counter': 0}\n",
      "Sending...\n",
      " {'counter': 1}\n",
      "Sending...\n",
      " {'counter': 2}\n",
      "Sending...\n",
      " {'counter': 3}\n",
      "Sending...\n",
      " {'counter': 4}\n",
      "Sending...\n",
      " {'counter': 5}\n",
      "Sending...\n",
      " {'counter': 6}\n",
      "Sending...\n",
      " {'counter': 7}\n",
      "Sending...\n",
      " {'counter': 8}\n",
      "Sending...\n",
      " {'counter': 9}\n",
      "Sending...\n",
      " {'counter': 10}\n",
      "Sending...\n",
      " {'counter': 11}\n",
      "Sending...\n",
      " {'counter': 12}\n",
      "Sending...\n",
      " {'counter': 13}\n",
      "Sending...\n",
      " {'counter': 14}\n",
      "Sending...\n",
      " {'counter': 15}\n",
      "Sending...\n",
      " {'counter': 16}\n",
      "Sending...\n",
      " {'counter': 17}\n",
      "Sending...\n",
      " {'counter': 18}\n",
      "Sending...\n",
      " {'counter': 19}\n"
     ]
    }
   ],
   "source": [
    "for j in range(20):\n",
    "    data = {'counter': j}\n",
    "    print('Sending...\\n', data)\n",
    "    producer.send('topic_test', value=data)\n",
    "    sleep(0.5)"
   ]
  },
  {
   "cell_type": "markdown",
   "metadata": {},
   "source": [
    "### Create Consumer"
   ]
  },
  {
   "cell_type": "markdown",
   "metadata": {},
   "source": [
    "By setting the consumers `auto_offset_reset` value to `earliest` we ensure that we read from the beginning of the topic."
   ]
  },
  {
   "cell_type": "code",
   "execution_count": 4,
   "metadata": {},
   "outputs": [],
   "source": [
    "from kafka import KafkaConsumer\n",
    "from json import loads\n",
    "from time import sleep"
   ]
  },
  {
   "cell_type": "code",
   "execution_count": 5,
   "metadata": {},
   "outputs": [],
   "source": [
    "consumer = KafkaConsumer(\n",
    "    'topic_test',\n",
    "    bootstrap_servers=['localhost:9092'],\n",
    "    auto_offset_reset='earliest',\n",
    "    enable_auto_commit=True,\n",
    "    group_id='my-group-id',\n",
    "    value_deserializer=lambda x: loads(x.decode('utf-8'))\n",
    ")"
   ]
  },
  {
   "cell_type": "code",
   "execution_count": 6,
   "metadata": {},
   "outputs": [
    {
     "name": "stdout",
     "output_type": "stream",
     "text": [
      "Receiving...\n",
      " {'counter': 0}\n",
      "Receiving...\n",
      " {'counter': 1}\n",
      "Receiving...\n",
      " {'counter': 2}\n",
      "Receiving...\n",
      " {'counter': 3}\n",
      "Receiving...\n",
      " {'counter': 4}\n",
      "Receiving...\n",
      " {'counter': 5}\n",
      "Receiving...\n",
      " {'counter': 6}\n",
      "Receiving...\n",
      " {'counter': 7}\n",
      "Receiving...\n",
      " {'counter': 8}\n",
      "Receiving...\n",
      " {'counter': 9}\n",
      "Receiving...\n",
      " {'counter': 10}\n",
      "Receiving...\n",
      " {'counter': 11}\n",
      "Receiving...\n",
      " {'counter': 12}\n",
      "Receiving...\n",
      " {'counter': 13}\n",
      "Receiving...\n",
      " {'counter': 14}\n",
      "Receiving...\n",
      " {'counter': 15}\n",
      "Receiving...\n",
      " {'counter': 16}\n",
      "Receiving...\n",
      " {'counter': 17}\n",
      "Receiving...\n",
      " {'counter': 18}\n"
     ]
    }
   ],
   "source": [
    "count = 0\n",
    "for event in consumer:\n",
    "    if count<=18:\n",
    "        event_data = event.value\n",
    "        print('Receiving...\\n',event_data)\n",
    "        sleep(2)\n",
    "    else:\n",
    "        break\n",
    "    count+=1"
   ]
  },
  {
   "cell_type": "code",
   "execution_count": null,
   "metadata": {},
   "outputs": [],
   "source": []
  }
 ],
 "metadata": {
  "kernelspec": {
   "display_name": "Python 3",
   "language": "python",
   "name": "python3"
  },
  "language_info": {
   "codemirror_mode": {
    "name": "ipython",
    "version": 3
   },
   "file_extension": ".py",
   "mimetype": "text/x-python",
   "name": "python",
   "nbconvert_exporter": "python",
   "pygments_lexer": "ipython3",
   "version": "3.8.5"
  }
 },
 "nbformat": 4,
 "nbformat_minor": 4
}
