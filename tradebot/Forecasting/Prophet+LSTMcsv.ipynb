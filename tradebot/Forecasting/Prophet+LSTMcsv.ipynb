{
  "nbformat": 4,
  "nbformat_minor": 0,
  "metadata": {
    "kernelspec": {
      "display_name": "Python 3",
      "language": "python",
      "name": "python3"
    },
    "language_info": {
      "codemirror_mode": {
        "name": "ipython",
        "version": 3
      },
      "file_extension": ".py",
      "mimetype": "text/x-python",
      "name": "python",
      "nbconvert_exporter": "python",
      "pygments_lexer": "ipython3",
      "version": "3.5.3"
    },
    "colab": {
      "name": "Prophet+LSTMcsv.ipynb",
      "provenance": [],
      "collapsed_sections": [
        "a2OoKTOq08V7",
        "zfTRg-hv08Wb"
      ],
      "toc_visible": true
    },
    "accelerator": "GPU"
  },
  "cells": [
    {
      "cell_type": "markdown",
      "metadata": {
        "id": "tAjZMaktbjAY"
      },
      "source": [
        "## Notebook to Generate CSV Forecast (Prophet and LSTM)"
      ]
    },
    {
      "cell_type": "code",
      "metadata": {
        "id": "47bJ1i-B1H6a",
        "outputId": "a01ba9bc-9b91-4a57-d80d-e955114d25d9",
        "colab": {
          "base_uri": "https://localhost:8080/",
          "height": 34
        }
      },
      "source": [
        "from google.colab import drive\n",
        "drive.mount('/content/drive')"
      ],
      "execution_count": 1,
      "outputs": [
        {
          "output_type": "stream",
          "text": [
            "Mounted at /content/drive\n"
          ],
          "name": "stdout"
        }
      ]
    },
    {
      "cell_type": "code",
      "metadata": {
        "id": "c0Axy7dN1Iem",
        "outputId": "e08b13cb-3abb-4fbf-ad2c-f9b6b8f85428",
        "colab": {
          "base_uri": "https://localhost:8080/",
          "height": 1000
        }
      },
      "source": [
        "!pip install -r requirements.txt"
      ],
      "execution_count": 2,
      "outputs": [
        {
          "output_type": "stream",
          "text": [
            "Collecting numpy==1.16.4\n",
            "\u001b[?25l  Downloading https://files.pythonhosted.org/packages/87/2d/e4656149cbadd3a8a0369fcd1a9c7d61cc7b87b3903b85389c70c989a696/numpy-1.16.4-cp36-cp36m-manylinux1_x86_64.whl (17.3MB)\n",
            "\u001b[K     |████████████████████████████████| 17.3MB 200kB/s \n",
            "\u001b[?25hCollecting pandas==0.25.1\n",
            "\u001b[?25l  Downloading https://files.pythonhosted.org/packages/73/9b/52e228545d14f14bb2a1622e225f38463c8726645165e1cb7dde95bfe6d4/pandas-0.25.1-cp36-cp36m-manylinux1_x86_64.whl (10.5MB)\n",
            "\u001b[K     |████████████████████████████████| 10.5MB 44.9MB/s \n",
            "\u001b[?25hCollecting xlrd==1.2.0\n",
            "\u001b[?25l  Downloading https://files.pythonhosted.org/packages/b0/16/63576a1a001752e34bf8ea62e367997530dc553b689356b9879339cf45a4/xlrd-1.2.0-py2.py3-none-any.whl (103kB)\n",
            "\u001b[K     |████████████████████████████████| 112kB 54.7MB/s \n",
            "\u001b[?25hCollecting matplotlib==3.1.2\n",
            "\u001b[?25l  Downloading https://files.pythonhosted.org/packages/4e/11/06958a2b895a3853206dea1fb2a5b11bf044f626f90745987612af9c8f2c/matplotlib-3.1.2-cp36-cp36m-manylinux1_x86_64.whl (13.1MB)\n",
            "\u001b[K     |████████████████████████████████| 13.1MB 243kB/s \n",
            "\u001b[?25hCollecting statsmodels==0.10.1\n",
            "\u001b[?25l  Downloading https://files.pythonhosted.org/packages/60/d6/e9859e68e7d6c916fdff7d8e0958a7f5813485c52fc20d061273eaaddb0c/statsmodels-0.10.1-cp36-cp36m-manylinux1_x86_64.whl (8.1MB)\n",
            "\u001b[K     |████████████████████████████████| 8.1MB 21.1MB/s \n",
            "\u001b[?25hCollecting scikit-learn==0.22\n",
            "\u001b[?25l  Downloading https://files.pythonhosted.org/packages/2e/d0/860c4f6a7027e00acff373d9f5327f4ae3ed5872234b3cbdd7bcb52e5eff/scikit_learn-0.22-cp36-cp36m-manylinux1_x86_64.whl (7.0MB)\n",
            "\u001b[K     |████████████████████████████████| 7.0MB 40.4MB/s \n",
            "\u001b[?25hCollecting tensorflow==1.13.2\n",
            "\u001b[?25l  Downloading https://files.pythonhosted.org/packages/db/d3/651f95288a6cd9094f7411cdd90ef12a3d01a268009e0e3cd66b5c8d65bd/tensorflow-1.13.2-cp36-cp36m-manylinux1_x86_64.whl (92.6MB)\n",
            "\u001b[K     |████████████████████████████████| 92.6MB 33kB/s \n",
            "\u001b[?25hCollecting pmdarima==1.5.2\n",
            "\u001b[?25l  Downloading https://files.pythonhosted.org/packages/4a/1a/32945c19306212fd08547369f40c8965bbc9e18652bb241766dfab398710/pmdarima-1.5.2-cp36-cp36m-manylinux1_x86_64.whl (1.4MB)\n",
            "\u001b[K     |████████████████████████████████| 1.5MB 44.0MB/s \n",
            "\u001b[?25hCollecting arch==4.13\n",
            "\u001b[?25l  Downloading https://files.pythonhosted.org/packages/e7/8c/75fa4d36a8cb85dd20b4ca08f742e357c3f2a3fce499da31ed37f4b1622f/arch-4.13-cp36-cp36m-manylinux1_x86_64.whl (720kB)\n",
            "\u001b[K     |████████████████████████████████| 727kB 42.1MB/s \n",
            "\u001b[?25hRequirement already satisfied: pystan==2.19.1.1 in /usr/local/lib/python3.6/dist-packages (from -r requirements.txt (line 17)) (2.19.1.1)\n",
            "Collecting fbprophet==0.5\n",
            "\u001b[?25l  Downloading https://files.pythonhosted.org/packages/33/fb/ad98d46773929079657706e6b2b6e366ba6c282bc2397d8f9b0ea8e5614c/fbprophet-0.5.tar.gz (49kB)\n",
            "\u001b[K     |████████████████████████████████| 51kB 7.8MB/s \n",
            "\u001b[?25hCollecting holidays==0.9.12\n",
            "\u001b[?25l  Downloading https://files.pythonhosted.org/packages/51/2c/5289263b6bb3a1ac51ddfd1f631947e2636ad9ebe8ac5e88ec37bceffc11/holidays-0.9.12.tar.gz (85kB)\n",
            "\u001b[K     |████████████████████████████████| 92kB 13.9MB/s \n",
            "\u001b[?25hRequirement already satisfied: pytz>=2017.2 in /usr/local/lib/python3.6/dist-packages (from pandas==0.25.1->-r requirements.txt (line 3)) (2018.9)\n",
            "Requirement already satisfied: python-dateutil>=2.6.1 in /usr/local/lib/python3.6/dist-packages (from pandas==0.25.1->-r requirements.txt (line 3)) (2.8.1)\n",
            "Requirement already satisfied: pyparsing!=2.0.4,!=2.1.2,!=2.1.6,>=2.0.1 in /usr/local/lib/python3.6/dist-packages (from matplotlib==3.1.2->-r requirements.txt (line 6)) (2.4.7)\n",
            "Requirement already satisfied: kiwisolver>=1.0.1 in /usr/local/lib/python3.6/dist-packages (from matplotlib==3.1.2->-r requirements.txt (line 6)) (1.2.0)\n",
            "Requirement already satisfied: cycler>=0.10 in /usr/local/lib/python3.6/dist-packages (from matplotlib==3.1.2->-r requirements.txt (line 6)) (0.10.0)\n",
            "Requirement already satisfied: scipy>=0.18 in /usr/local/lib/python3.6/dist-packages (from statsmodels==0.10.1->-r requirements.txt (line 8)) (1.4.1)\n",
            "Requirement already satisfied: patsy>=0.4.0 in /usr/local/lib/python3.6/dist-packages (from statsmodels==0.10.1->-r requirements.txt (line 8)) (0.5.1)\n",
            "Requirement already satisfied: joblib>=0.11 in /usr/local/lib/python3.6/dist-packages (from scikit-learn==0.22->-r requirements.txt (line 10)) (0.16.0)\n",
            "Collecting tensorboard<1.14.0,>=1.13.0\n",
            "\u001b[?25l  Downloading https://files.pythonhosted.org/packages/0f/39/bdd75b08a6fba41f098b6cb091b9e8c7a80e1b4d679a581a0ccd17b10373/tensorboard-1.13.1-py3-none-any.whl (3.2MB)\n",
            "\u001b[K     |████████████████████████████████| 3.2MB 54.7MB/s \n",
            "\u001b[?25hCollecting tensorflow-estimator<1.14.0rc0,>=1.13.0\n",
            "\u001b[?25l  Downloading https://files.pythonhosted.org/packages/bb/48/13f49fc3fa0fdf916aa1419013bb8f2ad09674c275b4046d5ee669a46873/tensorflow_estimator-1.13.0-py2.py3-none-any.whl (367kB)\n",
            "\u001b[K     |████████████████████████████████| 368kB 52.7MB/s \n",
            "\u001b[?25hRequirement already satisfied: absl-py>=0.1.6 in /usr/local/lib/python3.6/dist-packages (from tensorflow==1.13.2->-r requirements.txt (line 12)) (0.10.0)\n",
            "Requirement already satisfied: termcolor>=1.1.0 in /usr/local/lib/python3.6/dist-packages (from tensorflow==1.13.2->-r requirements.txt (line 12)) (1.1.0)\n",
            "Requirement already satisfied: six>=1.10.0 in /usr/local/lib/python3.6/dist-packages (from tensorflow==1.13.2->-r requirements.txt (line 12)) (1.15.0)\n",
            "Requirement already satisfied: wheel>=0.26 in /usr/local/lib/python3.6/dist-packages (from tensorflow==1.13.2->-r requirements.txt (line 12)) (0.35.1)\n",
            "Requirement already satisfied: protobuf>=3.6.1 in /usr/local/lib/python3.6/dist-packages (from tensorflow==1.13.2->-r requirements.txt (line 12)) (3.12.4)\n",
            "Requirement already satisfied: keras-preprocessing>=1.0.5 in /usr/local/lib/python3.6/dist-packages (from tensorflow==1.13.2->-r requirements.txt (line 12)) (1.1.2)\n",
            "Requirement already satisfied: gast>=0.2.0 in /usr/local/lib/python3.6/dist-packages (from tensorflow==1.13.2->-r requirements.txt (line 12)) (0.3.3)\n",
            "Requirement already satisfied: grpcio>=1.8.6 in /usr/local/lib/python3.6/dist-packages (from tensorflow==1.13.2->-r requirements.txt (line 12)) (1.32.0)\n",
            "Collecting keras-applications>=1.0.6\n",
            "\u001b[?25l  Downloading https://files.pythonhosted.org/packages/71/e3/19762fdfc62877ae9102edf6342d71b28fbfd9dea3d2f96a882ce099b03f/Keras_Applications-1.0.8-py3-none-any.whl (50kB)\n",
            "\u001b[K     |████████████████████████████████| 51kB 8.3MB/s \n",
            "\u001b[?25hRequirement already satisfied: astor>=0.6.0 in /usr/local/lib/python3.6/dist-packages (from tensorflow==1.13.2->-r requirements.txt (line 12)) (0.8.1)\n",
            "Requirement already satisfied: Cython>=0.29 in /usr/local/lib/python3.6/dist-packages (from pmdarima==1.5.2->-r requirements.txt (line 14)) (0.29.21)\n",
            "Collecting property-cached>=1.6.3\n",
            "  Downloading https://files.pythonhosted.org/packages/5c/6c/94d8e520b20a2502e508e1c558f338061cf409cbee78fd6a3a5c6ae812bd/property_cached-1.6.4-py2.py3-none-any.whl\n",
            "Collecting lunardate>=0.1.5\n",
            "  Downloading https://files.pythonhosted.org/packages/4e/7e/377a3cbba646ec0cf79433ef858881d809a3b87eb887b0901cb83c66a758/lunardate-0.2.0-py3-none-any.whl\n",
            "Requirement already satisfied: convertdate>=2.1.2 in /usr/local/lib/python3.6/dist-packages (from fbprophet==0.5->-r requirements.txt (line 18)) (2.2.2)\n",
            "Requirement already satisfied: setuptools-git>=1.2 in /usr/local/lib/python3.6/dist-packages (from fbprophet==0.5->-r requirements.txt (line 18)) (1.2)\n",
            "Requirement already satisfied: werkzeug>=0.11.15 in /usr/local/lib/python3.6/dist-packages (from tensorboard<1.14.0,>=1.13.0->tensorflow==1.13.2->-r requirements.txt (line 12)) (1.0.1)\n",
            "Requirement already satisfied: markdown>=2.6.8 in /usr/local/lib/python3.6/dist-packages (from tensorboard<1.14.0,>=1.13.0->tensorflow==1.13.2->-r requirements.txt (line 12)) (3.2.2)\n",
            "Collecting mock>=2.0.0\n",
            "  Downloading https://files.pythonhosted.org/packages/cd/74/d72daf8dff5b6566db857cfd088907bb0355f5dd2914c4b3ef065c790735/mock-4.0.2-py3-none-any.whl\n",
            "Requirement already satisfied: setuptools in /usr/local/lib/python3.6/dist-packages (from protobuf>=3.6.1->tensorflow==1.13.2->-r requirements.txt (line 12)) (50.3.0)\n",
            "Requirement already satisfied: h5py in /usr/local/lib/python3.6/dist-packages (from keras-applications>=1.0.6->tensorflow==1.13.2->-r requirements.txt (line 12)) (2.10.0)\n",
            "Requirement already satisfied: pymeeus<=1,>=0.3.6 in /usr/local/lib/python3.6/dist-packages (from convertdate>=2.1.2->fbprophet==0.5->-r requirements.txt (line 18)) (0.3.7)\n",
            "Requirement already satisfied: importlib-metadata; python_version < \"3.8\" in /usr/local/lib/python3.6/dist-packages (from markdown>=2.6.8->tensorboard<1.14.0,>=1.13.0->tensorflow==1.13.2->-r requirements.txt (line 12)) (2.0.0)\n",
            "Requirement already satisfied: zipp>=0.5 in /usr/local/lib/python3.6/dist-packages (from importlib-metadata; python_version < \"3.8\"->markdown>=2.6.8->tensorboard<1.14.0,>=1.13.0->tensorflow==1.13.2->-r requirements.txt (line 12)) (3.2.0)\n",
            "Building wheels for collected packages: fbprophet, holidays\n",
            "  Building wheel for fbprophet (setup.py) ... \u001b[?25l\u001b[?25hdone\n",
            "  Created wheel for fbprophet: filename=fbprophet-0.5-cp36-none-any.whl size=6613613 sha256=d85b5206a250b4da8780538f3f222a0339414fe720fcbd987bff1704599f573b\n",
            "  Stored in directory: /root/.cache/pip/wheels/16/61/45/2dce71b1055b65f28a8b75702664adee6c645e3e294178a202\n",
            "  Building wheel for holidays (setup.py) ... \u001b[?25l\u001b[?25hdone\n",
            "  Created wheel for holidays: filename=holidays-0.9.12-cp36-none-any.whl size=47611 sha256=3bb2725e0d54a227c896069dc032e00711f55845c897cc98f5810f9b51d1717d\n",
            "  Stored in directory: /root/.cache/pip/wheels/1f/fd/3a/f29866dc23dada18f25e9837477c82bbd7952aeef86fa46f11\n",
            "Successfully built fbprophet holidays\n",
            "\u001b[31mERROR: umap-learn 0.4.6 has requirement numpy>=1.17, but you'll have numpy 1.16.4 which is incompatible.\u001b[0m\n",
            "\u001b[31mERROR: google-colab 1.0.0 has requirement pandas~=1.1.0; python_version >= \"3.0\", but you'll have pandas 0.25.1 which is incompatible.\u001b[0m\n",
            "\u001b[31mERROR: datascience 0.10.6 has requirement folium==0.2.1, but you'll have folium 0.8.3 which is incompatible.\u001b[0m\n",
            "\u001b[31mERROR: albumentations 0.1.12 has requirement imgaug<0.2.7,>=0.2.5, but you'll have imgaug 0.2.9 which is incompatible.\u001b[0m\n",
            "Installing collected packages: numpy, pandas, xlrd, matplotlib, statsmodels, scikit-learn, tensorboard, mock, tensorflow-estimator, keras-applications, tensorflow, pmdarima, property-cached, arch, lunardate, holidays, fbprophet\n",
            "  Found existing installation: numpy 1.18.5\n",
            "    Uninstalling numpy-1.18.5:\n",
            "      Successfully uninstalled numpy-1.18.5\n",
            "  Found existing installation: pandas 1.1.2\n",
            "    Uninstalling pandas-1.1.2:\n",
            "      Successfully uninstalled pandas-1.1.2\n",
            "  Found existing installation: xlrd 1.1.0\n",
            "    Uninstalling xlrd-1.1.0:\n",
            "      Successfully uninstalled xlrd-1.1.0\n",
            "  Found existing installation: matplotlib 3.2.2\n",
            "    Uninstalling matplotlib-3.2.2:\n",
            "      Successfully uninstalled matplotlib-3.2.2\n",
            "  Found existing installation: statsmodels 0.10.2\n",
            "    Uninstalling statsmodels-0.10.2:\n",
            "      Successfully uninstalled statsmodels-0.10.2\n",
            "  Found existing installation: scikit-learn 0.22.2.post1\n",
            "    Uninstalling scikit-learn-0.22.2.post1:\n",
            "      Successfully uninstalled scikit-learn-0.22.2.post1\n",
            "  Found existing installation: tensorboard 2.3.0\n",
            "    Uninstalling tensorboard-2.3.0:\n",
            "      Successfully uninstalled tensorboard-2.3.0\n",
            "  Found existing installation: tensorflow-estimator 2.3.0\n",
            "    Uninstalling tensorflow-estimator-2.3.0:\n",
            "      Successfully uninstalled tensorflow-estimator-2.3.0\n",
            "  Found existing installation: tensorflow 2.3.0\n",
            "    Uninstalling tensorflow-2.3.0:\n",
            "      Successfully uninstalled tensorflow-2.3.0\n",
            "  Found existing installation: holidays 0.10.3\n",
            "    Uninstalling holidays-0.10.3:\n",
            "      Successfully uninstalled holidays-0.10.3\n",
            "  Found existing installation: fbprophet 0.7.1\n",
            "    Uninstalling fbprophet-0.7.1:\n",
            "      Successfully uninstalled fbprophet-0.7.1\n",
            "Successfully installed arch-4.13 fbprophet-0.5 holidays-0.9.12 keras-applications-1.0.8 lunardate-0.2.0 matplotlib-3.1.2 mock-4.0.2 numpy-1.16.4 pandas-0.25.1 pmdarima-1.5.2 property-cached-1.6.4 scikit-learn-0.22 statsmodels-0.10.1 tensorboard-1.13.1 tensorflow-1.13.2 tensorflow-estimator-1.13.0 xlrd-1.2.0\n"
          ],
          "name": "stdout"
        },
        {
          "output_type": "display_data",
          "data": {
            "application/vnd.colab-display-data+json": {
              "pip_warning": {
                "packages": [
                  "matplotlib",
                  "mpl_toolkits",
                  "numpy",
                  "pandas"
                ]
              }
            }
          },
          "metadata": {
            "tags": []
          }
        }
      ]
    },
    {
      "cell_type": "code",
      "metadata": {
        "id": "cF2v87nd3Jgi"
      },
      "source": [
        "!cp drive/My\\ Drive/bitstampUSD_1-min_data_2012-01-01_to_2020-09-14.csv ."
      ],
      "execution_count": 7,
      "outputs": []
    },
    {
      "cell_type": "markdown",
      "metadata": {
        "id": "A4KoMpnZbU7L"
      },
      "source": [
        "Data Link - kaggle.com/mczielinski/bitcoin-historical-data"
      ]
    },
    {
      "cell_type": "code",
      "metadata": {
        "id": "-kcRmAga08VU",
        "outputId": "989a684e-7927-4877-9383-e55502c06ea9",
        "colab": {
          "base_uri": "https://localhost:8080/",
          "height": 34
        }
      },
      "source": [
        "%pylab inline"
      ],
      "execution_count": 4,
      "outputs": [
        {
          "output_type": "stream",
          "text": [
            "Populating the interactive namespace from numpy and matplotlib\n"
          ],
          "name": "stdout"
        }
      ]
    },
    {
      "cell_type": "code",
      "metadata": {
        "id": "BARv8BbM08VZ",
        "outputId": "7e230c3c-8a74-4777-986f-eab1adff15b1",
        "colab": {
          "base_uri": "https://localhost:8080/",
          "height": 34
        }
      },
      "source": [
        "import pandas as pd\n",
        "import json\n",
        "from datetime import datetime\n",
        "import numpy as np\n",
        "from fbprophet import Prophet\n",
        "import pickle\n",
        "import math"
      ],
      "execution_count": 5,
      "outputs": [
        {
          "output_type": "stream",
          "text": [
            "ERROR:fbprophet:Importing matplotlib failed. Plotting will not work.\n"
          ],
          "name": "stderr"
        }
      ]
    },
    {
      "cell_type": "markdown",
      "metadata": {
        "id": "4SUwgtdV08Vd"
      },
      "source": [
        "# Read Bitstamp Data"
      ]
    },
    {
      "cell_type": "markdown",
      "metadata": {
        "id": "Hkeeu_ud08Ve"
      },
      "source": [
        "First, let's read in the data from Kaggle."
      ]
    },
    {
      "cell_type": "code",
      "metadata": {
        "id": "tUDLF_lL08Vf"
      },
      "source": [
        "df = pd.read_csv('bitstampUSD_1-min_data_2012-01-01_to_2020-09-14.csv')"
      ],
      "execution_count": 8,
      "outputs": []
    },
    {
      "cell_type": "code",
      "metadata": {
        "id": "I7Ds2k2308Vj"
      },
      "source": [
        "df['ds'] = df['Timestamp'].apply(lambda x: datetime.fromtimestamp(x))"
      ],
      "execution_count": 9,
      "outputs": []
    },
    {
      "cell_type": "code",
      "metadata": {
        "id": "0MwUA96V44M8",
        "outputId": "8e38b700-db55-4714-906a-738462406eb1",
        "colab": {
          "base_uri": "https://localhost:8080/",
          "height": 204
        }
      },
      "source": [
        "df.head()"
      ],
      "execution_count": null,
      "outputs": [
        {
          "output_type": "execute_result",
          "data": {
            "text/html": [
              "<div>\n",
              "<style scoped>\n",
              "    .dataframe tbody tr th:only-of-type {\n",
              "        vertical-align: middle;\n",
              "    }\n",
              "\n",
              "    .dataframe tbody tr th {\n",
              "        vertical-align: top;\n",
              "    }\n",
              "\n",
              "    .dataframe thead th {\n",
              "        text-align: right;\n",
              "    }\n",
              "</style>\n",
              "<table border=\"1\" class=\"dataframe\">\n",
              "  <thead>\n",
              "    <tr style=\"text-align: right;\">\n",
              "      <th></th>\n",
              "      <th>Timestamp</th>\n",
              "      <th>Open</th>\n",
              "      <th>High</th>\n",
              "      <th>Low</th>\n",
              "      <th>Close</th>\n",
              "      <th>Volume_(BTC)</th>\n",
              "      <th>Volume_(Currency)</th>\n",
              "      <th>Weighted_Price</th>\n",
              "      <th>ds</th>\n",
              "    </tr>\n",
              "  </thead>\n",
              "  <tbody>\n",
              "    <tr>\n",
              "      <td>0</td>\n",
              "      <td>1325317920</td>\n",
              "      <td>4.39</td>\n",
              "      <td>4.39</td>\n",
              "      <td>4.39</td>\n",
              "      <td>4.39</td>\n",
              "      <td>0.455581</td>\n",
              "      <td>2.0</td>\n",
              "      <td>4.39</td>\n",
              "      <td>2011-12-31 07:52:00</td>\n",
              "    </tr>\n",
              "    <tr>\n",
              "      <td>1</td>\n",
              "      <td>1325317980</td>\n",
              "      <td>NaN</td>\n",
              "      <td>NaN</td>\n",
              "      <td>NaN</td>\n",
              "      <td>NaN</td>\n",
              "      <td>NaN</td>\n",
              "      <td>NaN</td>\n",
              "      <td>NaN</td>\n",
              "      <td>2011-12-31 07:53:00</td>\n",
              "    </tr>\n",
              "    <tr>\n",
              "      <td>2</td>\n",
              "      <td>1325318040</td>\n",
              "      <td>NaN</td>\n",
              "      <td>NaN</td>\n",
              "      <td>NaN</td>\n",
              "      <td>NaN</td>\n",
              "      <td>NaN</td>\n",
              "      <td>NaN</td>\n",
              "      <td>NaN</td>\n",
              "      <td>2011-12-31 07:54:00</td>\n",
              "    </tr>\n",
              "    <tr>\n",
              "      <td>3</td>\n",
              "      <td>1325318100</td>\n",
              "      <td>NaN</td>\n",
              "      <td>NaN</td>\n",
              "      <td>NaN</td>\n",
              "      <td>NaN</td>\n",
              "      <td>NaN</td>\n",
              "      <td>NaN</td>\n",
              "      <td>NaN</td>\n",
              "      <td>2011-12-31 07:55:00</td>\n",
              "    </tr>\n",
              "    <tr>\n",
              "      <td>4</td>\n",
              "      <td>1325318160</td>\n",
              "      <td>NaN</td>\n",
              "      <td>NaN</td>\n",
              "      <td>NaN</td>\n",
              "      <td>NaN</td>\n",
              "      <td>NaN</td>\n",
              "      <td>NaN</td>\n",
              "      <td>NaN</td>\n",
              "      <td>2011-12-31 07:56:00</td>\n",
              "    </tr>\n",
              "  </tbody>\n",
              "</table>\n",
              "</div>"
            ],
            "text/plain": [
              "    Timestamp  Open  ...  Weighted_Price                  ds\n",
              "0  1325317920  4.39  ...            4.39 2011-12-31 07:52:00\n",
              "1  1325317980   NaN  ...             NaN 2011-12-31 07:53:00\n",
              "2  1325318040   NaN  ...             NaN 2011-12-31 07:54:00\n",
              "3  1325318100   NaN  ...             NaN 2011-12-31 07:55:00\n",
              "4  1325318160   NaN  ...             NaN 2011-12-31 07:56:00\n",
              "\n",
              "[5 rows x 9 columns]"
            ]
          },
          "metadata": {
            "tags": []
          },
          "execution_count": 9
        }
      ]
    },
    {
      "cell_type": "markdown",
      "metadata": {
        "id": "ywp5QEq808Vm"
      },
      "source": [
        "# Train Model Using Prophet"
      ]
    },
    {
      "cell_type": "markdown",
      "metadata": {
        "id": "Y4wHZ7pn08Vn"
      },
      "source": [
        "Next, let's take the log of weighted price and train our model using that feature."
      ]
    },
    {
      "cell_type": "code",
      "metadata": {
        "id": "J6rRaicL08Vn"
      },
      "source": [
        "df['y'] = np.log(df['Weighted_Price'])"
      ],
      "execution_count": 10,
      "outputs": []
    },
    {
      "cell_type": "code",
      "metadata": {
        "id": "wxLnYfYs08Vr"
      },
      "source": [
        "df_subset = df[df['ds'] >= pd.Timestamp('2020-01-01')]"
      ],
      "execution_count": 11,
      "outputs": []
    },
    {
      "cell_type": "code",
      "metadata": {
        "id": "TA6NKtOd08Vu"
      },
      "source": [
        "m = Prophet()"
      ],
      "execution_count": null,
      "outputs": []
    },
    {
      "cell_type": "code",
      "metadata": {
        "id": "wBWae1qw4pzd",
        "outputId": "432d2f39-4fa7-4b3f-f069-d83ba1fbd7c6",
        "colab": {
          "base_uri": "https://localhost:8080/",
          "height": 374
        }
      },
      "source": [
        "df_subset.head()"
      ],
      "execution_count": null,
      "outputs": [
        {
          "output_type": "execute_result",
          "data": {
            "text/html": [
              "<div>\n",
              "<style scoped>\n",
              "    .dataframe tbody tr th:only-of-type {\n",
              "        vertical-align: middle;\n",
              "    }\n",
              "\n",
              "    .dataframe tbody tr th {\n",
              "        vertical-align: top;\n",
              "    }\n",
              "\n",
              "    .dataframe thead th {\n",
              "        text-align: right;\n",
              "    }\n",
              "</style>\n",
              "<table border=\"1\" class=\"dataframe\">\n",
              "  <thead>\n",
              "    <tr style=\"text-align: right;\">\n",
              "      <th></th>\n",
              "      <th>Timestamp</th>\n",
              "      <th>Open</th>\n",
              "      <th>High</th>\n",
              "      <th>Low</th>\n",
              "      <th>Close</th>\n",
              "      <th>Volume_(BTC)</th>\n",
              "      <th>Volume_(Currency)</th>\n",
              "      <th>Weighted_Price</th>\n",
              "      <th>ds</th>\n",
              "      <th>y</th>\n",
              "    </tr>\n",
              "  </thead>\n",
              "  <tbody>\n",
              "    <tr>\n",
              "      <td>4202176</td>\n",
              "      <td>1577836800</td>\n",
              "      <td>7160.69</td>\n",
              "      <td>7160.69</td>\n",
              "      <td>7159.64</td>\n",
              "      <td>7159.64</td>\n",
              "      <td>5.501691</td>\n",
              "      <td>39392.484606</td>\n",
              "      <td>7160.068520</td>\n",
              "      <td>2020-01-01 00:00:00</td>\n",
              "      <td>8.876275</td>\n",
              "    </tr>\n",
              "    <tr>\n",
              "      <td>4202177</td>\n",
              "      <td>1577836860</td>\n",
              "      <td>7161.51</td>\n",
              "      <td>7161.51</td>\n",
              "      <td>7155.09</td>\n",
              "      <td>7161.20</td>\n",
              "      <td>3.776924</td>\n",
              "      <td>27047.304680</td>\n",
              "      <td>7161.198209</td>\n",
              "      <td>2020-01-01 00:01:00</td>\n",
              "      <td>8.876433</td>\n",
              "    </tr>\n",
              "    <tr>\n",
              "      <td>4202178</td>\n",
              "      <td>1577836920</td>\n",
              "      <td>7158.82</td>\n",
              "      <td>7158.82</td>\n",
              "      <td>7158.82</td>\n",
              "      <td>7158.82</td>\n",
              "      <td>0.029278</td>\n",
              "      <td>209.595359</td>\n",
              "      <td>7158.820000</td>\n",
              "      <td>2020-01-01 00:02:00</td>\n",
              "      <td>8.876100</td>\n",
              "    </tr>\n",
              "    <tr>\n",
              "      <td>4202179</td>\n",
              "      <td>1577836980</td>\n",
              "      <td>7158.82</td>\n",
              "      <td>7158.82</td>\n",
              "      <td>7156.90</td>\n",
              "      <td>7156.90</td>\n",
              "      <td>0.065819</td>\n",
              "      <td>471.156094</td>\n",
              "      <td>7158.321885</td>\n",
              "      <td>2020-01-01 00:03:00</td>\n",
              "      <td>8.876031</td>\n",
              "    </tr>\n",
              "    <tr>\n",
              "      <td>4202180</td>\n",
              "      <td>1577837040</td>\n",
              "      <td>7158.50</td>\n",
              "      <td>7158.50</td>\n",
              "      <td>7154.97</td>\n",
              "      <td>7157.20</td>\n",
              "      <td>0.971387</td>\n",
              "      <td>6950.500833</td>\n",
              "      <td>7155.235666</td>\n",
              "      <td>2020-01-01 00:04:00</td>\n",
              "      <td>8.875600</td>\n",
              "    </tr>\n",
              "  </tbody>\n",
              "</table>\n",
              "</div>"
            ],
            "text/plain": [
              "          Timestamp     Open  ...                  ds         y\n",
              "4202176  1577836800  7160.69  ... 2020-01-01 00:00:00  8.876275\n",
              "4202177  1577836860  7161.51  ... 2020-01-01 00:01:00  8.876433\n",
              "4202178  1577836920  7158.82  ... 2020-01-01 00:02:00  8.876100\n",
              "4202179  1577836980  7158.82  ... 2020-01-01 00:03:00  8.876031\n",
              "4202180  1577837040  7158.50  ... 2020-01-01 00:04:00  8.875600\n",
              "\n",
              "[5 rows x 10 columns]"
            ]
          },
          "metadata": {
            "tags": []
          },
          "execution_count": 12
        }
      ]
    },
    {
      "cell_type": "code",
      "metadata": {
        "id": "UGGm5HO608Vx",
        "outputId": "df6d0013-ff92-4fcb-9470-ebbaa048d87b",
        "colab": {
          "base_uri": "https://localhost:8080/",
          "height": 50
        }
      },
      "source": [
        "m.fit(df_subset[['ds','y']]);"
      ],
      "execution_count": null,
      "outputs": [
        {
          "output_type": "stream",
          "text": [
            "INFO:numexpr.utils:NumExpr defaulting to 2 threads.\n",
            "INFO:fbprophet:Disabling yearly seasonality. Run prophet with yearly_seasonality=True to override this.\n"
          ],
          "name": "stderr"
        }
      ]
    },
    {
      "cell_type": "markdown",
      "metadata": {
        "id": "JwcO_ahT08V0"
      },
      "source": [
        "Only run the below if you want to save a **NEW** model"
      ]
    },
    {
      "cell_type": "code",
      "metadata": {
        "id": "Yu3ajwyj08V0"
      },
      "source": [
        "with open('btc_model.pickle', 'wb') as pickle_file:\n",
        "    pickle.dump(m, pickle_file)\n",
        "    pickle_file.close()"
      ],
      "execution_count": null,
      "outputs": []
    },
    {
      "cell_type": "markdown",
      "metadata": {
        "id": "TDRluRKt08V3"
      },
      "source": [
        "Use this if you've already trained the model"
      ]
    },
    {
      "cell_type": "code",
      "metadata": {
        "id": "m5JS-aPi08V4"
      },
      "source": [
        "with open('btc_model.pickle', 'rb') as pickle_file:\n",
        "    m = pickle.Unpickler(pickle_file)\n",
        "    m = m.load()"
      ],
      "execution_count": null,
      "outputs": []
    },
    {
      "cell_type": "markdown",
      "metadata": {
        "id": "a2OoKTOq08V7"
      },
      "source": [
        "# Generate Prediction"
      ]
    },
    {
      "cell_type": "markdown",
      "metadata": {
        "id": "xfzTCTtO08V7"
      },
      "source": [
        "Now, let's predict out prices using the model we just trained."
      ]
    },
    {
      "cell_type": "code",
      "metadata": {
        "id": "6-Gb1ynx08V8",
        "outputId": "e0d8796f-0ffa-4c57-f587-64dd5acadc86",
        "colab": {
          "base_uri": "https://localhost:8080/",
          "height": 195
        }
      },
      "source": [
        "future = m.make_future_dataframe(periods=150000, freq='1min', include_history=False)\n",
        "future.tail()"
      ],
      "execution_count": null,
      "outputs": [
        {
          "output_type": "execute_result",
          "data": {
            "text/html": [
              "<div>\n",
              "<style scoped>\n",
              "    .dataframe tbody tr th:only-of-type {\n",
              "        vertical-align: middle;\n",
              "    }\n",
              "\n",
              "    .dataframe tbody tr th {\n",
              "        vertical-align: top;\n",
              "    }\n",
              "\n",
              "    .dataframe thead th {\n",
              "        text-align: right;\n",
              "    }\n",
              "</style>\n",
              "<table border=\"1\" class=\"dataframe\">\n",
              "  <thead>\n",
              "    <tr style=\"text-align: right;\">\n",
              "      <th></th>\n",
              "      <th>ds</th>\n",
              "    </tr>\n",
              "  </thead>\n",
              "  <tbody>\n",
              "    <tr>\n",
              "      <td>149995</td>\n",
              "      <td>2020-12-27 03:56:00</td>\n",
              "    </tr>\n",
              "    <tr>\n",
              "      <td>149996</td>\n",
              "      <td>2020-12-27 03:57:00</td>\n",
              "    </tr>\n",
              "    <tr>\n",
              "      <td>149997</td>\n",
              "      <td>2020-12-27 03:58:00</td>\n",
              "    </tr>\n",
              "    <tr>\n",
              "      <td>149998</td>\n",
              "      <td>2020-12-27 03:59:00</td>\n",
              "    </tr>\n",
              "    <tr>\n",
              "      <td>149999</td>\n",
              "      <td>2020-12-27 04:00:00</td>\n",
              "    </tr>\n",
              "  </tbody>\n",
              "</table>\n",
              "</div>"
            ],
            "text/plain": [
              "                        ds\n",
              "149995 2020-12-27 03:56:00\n",
              "149996 2020-12-27 03:57:00\n",
              "149997 2020-12-27 03:58:00\n",
              "149998 2020-12-27 03:59:00\n",
              "149999 2020-12-27 04:00:00"
            ]
          },
          "metadata": {
            "tags": []
          },
          "execution_count": 15
        }
      ]
    },
    {
      "cell_type": "code",
      "metadata": {
        "scrolled": false,
        "id": "mw41mPxi08V_"
      },
      "source": [
        "fcst = m.predict(future)"
      ],
      "execution_count": null,
      "outputs": []
    },
    {
      "cell_type": "code",
      "metadata": {
        "id": "UposFKCwOHv6",
        "outputId": "5427c3de-573a-4d82-e295-1fc5b97b7c6d",
        "colab": {
          "base_uri": "https://localhost:8080/",
          "height": 383
        }
      },
      "source": [
        "fcst.tail()"
      ],
      "execution_count": null,
      "outputs": [
        {
          "output_type": "execute_result",
          "data": {
            "text/html": [
              "<div>\n",
              "<style scoped>\n",
              "    .dataframe tbody tr th:only-of-type {\n",
              "        vertical-align: middle;\n",
              "    }\n",
              "\n",
              "    .dataframe tbody tr th {\n",
              "        vertical-align: top;\n",
              "    }\n",
              "\n",
              "    .dataframe thead th {\n",
              "        text-align: right;\n",
              "    }\n",
              "</style>\n",
              "<table border=\"1\" class=\"dataframe\">\n",
              "  <thead>\n",
              "    <tr style=\"text-align: right;\">\n",
              "      <th></th>\n",
              "      <th>ds</th>\n",
              "      <th>trend</th>\n",
              "      <th>yhat_lower</th>\n",
              "      <th>yhat_upper</th>\n",
              "      <th>trend_lower</th>\n",
              "      <th>trend_upper</th>\n",
              "      <th>additive_terms</th>\n",
              "      <th>additive_terms_lower</th>\n",
              "      <th>additive_terms_upper</th>\n",
              "      <th>daily</th>\n",
              "      <th>daily_lower</th>\n",
              "      <th>daily_upper</th>\n",
              "      <th>weekly</th>\n",
              "      <th>weekly_lower</th>\n",
              "      <th>weekly_upper</th>\n",
              "      <th>multiplicative_terms</th>\n",
              "      <th>multiplicative_terms_lower</th>\n",
              "      <th>multiplicative_terms_upper</th>\n",
              "      <th>yhat</th>\n",
              "      <th>yhat_exp</th>\n",
              "    </tr>\n",
              "  </thead>\n",
              "  <tbody>\n",
              "    <tr>\n",
              "      <td>149995</td>\n",
              "      <td>2020-12-27 03:56:00</td>\n",
              "      <td>9.309503</td>\n",
              "      <td>3.033778</td>\n",
              "      <td>15.412779</td>\n",
              "      <td>3.018663</td>\n",
              "      <td>15.439142</td>\n",
              "      <td>-0.004977</td>\n",
              "      <td>-0.004977</td>\n",
              "      <td>-0.004977</td>\n",
              "      <td>0.000223</td>\n",
              "      <td>0.000223</td>\n",
              "      <td>0.000223</td>\n",
              "      <td>-0.005200</td>\n",
              "      <td>-0.005200</td>\n",
              "      <td>-0.005200</td>\n",
              "      <td>0.0</td>\n",
              "      <td>0.0</td>\n",
              "      <td>0.0</td>\n",
              "      <td>9.304526</td>\n",
              "      <td>10987.639775</td>\n",
              "    </tr>\n",
              "    <tr>\n",
              "      <td>149996</td>\n",
              "      <td>2020-12-27 03:57:00</td>\n",
              "      <td>9.309503</td>\n",
              "      <td>3.033502</td>\n",
              "      <td>15.475362</td>\n",
              "      <td>3.018543</td>\n",
              "      <td>15.439247</td>\n",
              "      <td>-0.004988</td>\n",
              "      <td>-0.004988</td>\n",
              "      <td>-0.004988</td>\n",
              "      <td>0.000219</td>\n",
              "      <td>0.000219</td>\n",
              "      <td>0.000219</td>\n",
              "      <td>-0.005207</td>\n",
              "      <td>-0.005207</td>\n",
              "      <td>-0.005207</td>\n",
              "      <td>0.0</td>\n",
              "      <td>0.0</td>\n",
              "      <td>0.0</td>\n",
              "      <td>9.304515</td>\n",
              "      <td>10987.516673</td>\n",
              "    </tr>\n",
              "    <tr>\n",
              "      <td>149997</td>\n",
              "      <td>2020-12-27 03:58:00</td>\n",
              "      <td>9.309503</td>\n",
              "      <td>2.994632</td>\n",
              "      <td>15.426393</td>\n",
              "      <td>3.018424</td>\n",
              "      <td>15.439352</td>\n",
              "      <td>-0.004999</td>\n",
              "      <td>-0.004999</td>\n",
              "      <td>-0.004999</td>\n",
              "      <td>0.000216</td>\n",
              "      <td>0.000216</td>\n",
              "      <td>0.000216</td>\n",
              "      <td>-0.005215</td>\n",
              "      <td>-0.005215</td>\n",
              "      <td>-0.005215</td>\n",
              "      <td>0.0</td>\n",
              "      <td>0.0</td>\n",
              "      <td>0.0</td>\n",
              "      <td>9.304504</td>\n",
              "      <td>10987.392959</td>\n",
              "    </tr>\n",
              "    <tr>\n",
              "      <td>149998</td>\n",
              "      <td>2020-12-27 03:59:00</td>\n",
              "      <td>9.309503</td>\n",
              "      <td>2.960968</td>\n",
              "      <td>15.407880</td>\n",
              "      <td>3.018305</td>\n",
              "      <td>15.439457</td>\n",
              "      <td>-0.005011</td>\n",
              "      <td>-0.005011</td>\n",
              "      <td>-0.005011</td>\n",
              "      <td>0.000212</td>\n",
              "      <td>0.000212</td>\n",
              "      <td>0.000212</td>\n",
              "      <td>-0.005223</td>\n",
              "      <td>-0.005223</td>\n",
              "      <td>-0.005223</td>\n",
              "      <td>0.0</td>\n",
              "      <td>0.0</td>\n",
              "      <td>0.0</td>\n",
              "      <td>9.304492</td>\n",
              "      <td>10987.268638</td>\n",
              "    </tr>\n",
              "    <tr>\n",
              "      <td>149999</td>\n",
              "      <td>2020-12-27 04:00:00</td>\n",
              "      <td>9.309503</td>\n",
              "      <td>2.994598</td>\n",
              "      <td>15.466743</td>\n",
              "      <td>3.018186</td>\n",
              "      <td>15.439562</td>\n",
              "      <td>-0.005022</td>\n",
              "      <td>-0.005022</td>\n",
              "      <td>-0.005022</td>\n",
              "      <td>0.000209</td>\n",
              "      <td>0.000209</td>\n",
              "      <td>0.000209</td>\n",
              "      <td>-0.005231</td>\n",
              "      <td>-0.005231</td>\n",
              "      <td>-0.005231</td>\n",
              "      <td>0.0</td>\n",
              "      <td>0.0</td>\n",
              "      <td>0.0</td>\n",
              "      <td>9.304481</td>\n",
              "      <td>10987.143716</td>\n",
              "    </tr>\n",
              "  </tbody>\n",
              "</table>\n",
              "</div>"
            ],
            "text/plain": [
              "                        ds     trend  ...      yhat      yhat_exp\n",
              "149995 2020-12-27 03:56:00  9.309503  ...  9.304526  10987.639775\n",
              "149996 2020-12-27 03:57:00  9.309503  ...  9.304515  10987.516673\n",
              "149997 2020-12-27 03:58:00  9.309503  ...  9.304504  10987.392959\n",
              "149998 2020-12-27 03:59:00  9.309503  ...  9.304492  10987.268638\n",
              "149999 2020-12-27 04:00:00  9.309503  ...  9.304481  10987.143716\n",
              "\n",
              "[5 rows x 20 columns]"
            ]
          },
          "metadata": {
            "tags": []
          },
          "execution_count": 33
        }
      ]
    },
    {
      "cell_type": "markdown",
      "metadata": {
        "id": "lWozPAIP08WD"
      },
      "source": [
        "We can use our forecast (`fcst`) to plot the prediction we just made:"
      ]
    },
    {
      "cell_type": "code",
      "metadata": {
        "id": "25ziW6jk08WE",
        "outputId": "b0cbaa97-b044-4f4f-e2e8-68ef9c0e222c",
        "colab": {
          "base_uri": "https://localhost:8080/",
          "height": 441
        }
      },
      "source": [
        "m.plot(fcst);"
      ],
      "execution_count": null,
      "outputs": [
        {
          "output_type": "display_data",
          "data": {
            "image/png": "[encoded data removed]",
            "text/plain": [
              "<Figure size 720x432 with 1 Axes>"
            ]
          },
          "metadata": {
            "tags": []
          }
        }
      ]
    },
    {
      "cell_type": "markdown",
      "metadata": {
        "id": "RNpTSllJ08WH"
      },
      "source": [
        "Now let's convert our `log(price)` back to price and calculate whether the minute is a buy or sell minute"
      ]
    },
    {
      "cell_type": "code",
      "metadata": {
        "id": "LtPvOsNK08WH"
      },
      "source": [
        "fcst['yhat_exp'] = fcst['yhat'].apply(lambda x: math.exp(x))"
      ],
      "execution_count": null,
      "outputs": []
    },
    {
      "cell_type": "code",
      "metadata": {
        "id": "3bNRqICi08WK"
      },
      "source": [
        "output = fcst[fcst['ds'] > '2020-01-01'][['ds','yhat_exp']]"
      ],
      "execution_count": null,
      "outputs": []
    },
    {
      "cell_type": "code",
      "metadata": {
        "id": "SVV_HGlj08WN"
      },
      "source": [
        "output['delta'] = output.yhat_exp.diff()"
      ],
      "execution_count": null,
      "outputs": []
    },
    {
      "cell_type": "code",
      "metadata": {
        "id": "SduRsS8b08WP"
      },
      "source": [
        "output = output[output['ds'] > '2019-12-25']"
      ],
      "execution_count": null,
      "outputs": []
    },
    {
      "cell_type": "code",
      "metadata": {
        "id": "1PRYnTjF08WS"
      },
      "source": [
        "def choose_side(x):\n",
        "    if x > 0:\n",
        "        return 'buy'\n",
        "    else: \n",
        "        return 'sell'"
      ],
      "execution_count": null,
      "outputs": []
    },
    {
      "cell_type": "code",
      "metadata": {
        "id": "aLuiDcmY08WV"
      },
      "source": [
        "output['side'] = output['delta'].apply(lambda x: choose_side(x))"
      ],
      "execution_count": null,
      "outputs": []
    },
    {
      "cell_type": "markdown",
      "metadata": {
        "id": "X2jG_1-D08WY"
      },
      "source": [
        "We can count the number of buy vs. sell minutes with:"
      ]
    },
    {
      "cell_type": "code",
      "metadata": {
        "id": "PofWBG-r08WY",
        "outputId": "504b83c0-8754-4d2b-f95f-d25d89501f2e",
        "colab": {
          "base_uri": "https://localhost:8080/",
          "height": 84
        }
      },
      "source": [
        "output.groupby('side')['ds'].count()"
      ],
      "execution_count": null,
      "outputs": [
        {
          "output_type": "execute_result",
          "data": {
            "text/plain": [
              "side\n",
              "buy     71597\n",
              "sell    78403\n",
              "Name: ds, dtype: int64"
            ]
          },
          "metadata": {
            "tags": []
          },
          "execution_count": 24
        }
      ]
    },
    {
      "cell_type": "markdown",
      "metadata": {
        "id": "zfTRg-hv08Wb"
      },
      "source": [
        "# Store Output"
      ]
    },
    {
      "cell_type": "markdown",
      "metadata": {
        "id": "_SbDeXUY08Wc"
      },
      "source": [
        "Save file to CSV"
      ]
    },
    {
      "cell_type": "code",
      "metadata": {
        "id": "hApdCVcb08Wc"
      },
      "source": [
        "output[['ds','side']].to_csv('2020_full_trade_forecast.csv', index=False)"
      ],
      "execution_count": null,
      "outputs": []
    },
    {
      "cell_type": "markdown",
      "metadata": {
        "id": "Ovmj8a7f08Wg"
      },
      "source": [
        "# Analyze Output"
      ]
    },
    {
      "cell_type": "markdown",
      "metadata": {
        "id": "PXX1lpeD08Wh"
      },
      "source": [
        "Generate a components plot"
      ]
    },
    {
      "cell_type": "code",
      "metadata": {
        "id": "OrU925yz08Wh"
      },
      "source": [
        "fcst_sampled = fcst[fcst['ds'] > '2020-01-01 00:00:00']"
      ],
      "execution_count": null,
      "outputs": []
    },
    {
      "cell_type": "code",
      "metadata": {
        "scrolled": false,
        "id": "VKssqeGm08Wl",
        "outputId": "1e71abaf-a126-4d63-fc81-c12bec4d32e7",
        "colab": {
          "base_uri": "https://localhost:8080/",
          "height": 657
        }
      },
      "source": [
        "a = m.plot_components(fcst_sampled)"
      ],
      "execution_count": null,
      "outputs": [
        {
          "output_type": "display_data",
          "data": {
            "image/png": "[encoded data removed]",
            "text/plain": [
              "<Figure size 648x648 with 3 Axes>"
            ]
          },
          "metadata": {
            "tags": []
          }
        }
      ]
    },
    {
      "cell_type": "markdown",
      "metadata": {
        "id": "fW4PrBF208Wn"
      },
      "source": [
        "You can save the components plot to a file if you'd like"
      ]
    },
    {
      "cell_type": "code",
      "metadata": {
        "id": "iQGcSjE_08Wo"
      },
      "source": [
        "a.savefig('components_plot.png', dpi=200)"
      ],
      "execution_count": null,
      "outputs": []
    },
    {
      "cell_type": "markdown",
      "metadata": {
        "id": "qmtGg5gqcGFB"
      },
      "source": [
        "# Train Model Using LSTM "
      ]
    },
    {
      "cell_type": "code",
      "metadata": {
        "id": "iVhGst-iNMrG"
      },
      "source": [
        "from ts_utils import *"
      ],
      "execution_count": null,
      "outputs": []
    },
    {
      "cell_type": "code",
      "metadata": {
        "id": "HNUsUd8Ael3R"
      },
      "source": [
        "ts = df_subset[['ds','y']].set_index('ds')"
      ],
      "execution_count": 14,
      "outputs": []
    },
    {
      "cell_type": "code",
      "metadata": {
        "id": "AQTiWBce741l",
        "outputId": "0796abe1-25c8-4731-bb94-de694db8277a",
        "colab": {
          "base_uri": "https://localhost:8080/",
          "height": 235
        }
      },
      "source": [
        "ts.head()"
      ],
      "execution_count": null,
      "outputs": [
        {
          "output_type": "execute_result",
          "data": {
            "text/html": [
              "<div>\n",
              "<style scoped>\n",
              "    .dataframe tbody tr th:only-of-type {\n",
              "        vertical-align: middle;\n",
              "    }\n",
              "\n",
              "    .dataframe tbody tr th {\n",
              "        vertical-align: top;\n",
              "    }\n",
              "\n",
              "    .dataframe thead th {\n",
              "        text-align: right;\n",
              "    }\n",
              "</style>\n",
              "<table border=\"1\" class=\"dataframe\">\n",
              "  <thead>\n",
              "    <tr style=\"text-align: right;\">\n",
              "      <th></th>\n",
              "      <th>y</th>\n",
              "    </tr>\n",
              "    <tr>\n",
              "      <th>ds</th>\n",
              "      <th></th>\n",
              "    </tr>\n",
              "  </thead>\n",
              "  <tbody>\n",
              "    <tr>\n",
              "      <td>2020-01-01 00:00:00</td>\n",
              "      <td>8.876275</td>\n",
              "    </tr>\n",
              "    <tr>\n",
              "      <td>2020-01-01 00:01:00</td>\n",
              "      <td>8.876433</td>\n",
              "    </tr>\n",
              "    <tr>\n",
              "      <td>2020-01-01 00:02:00</td>\n",
              "      <td>8.876100</td>\n",
              "    </tr>\n",
              "    <tr>\n",
              "      <td>2020-01-01 00:03:00</td>\n",
              "      <td>8.876031</td>\n",
              "    </tr>\n",
              "    <tr>\n",
              "      <td>2020-01-01 00:04:00</td>\n",
              "      <td>8.875600</td>\n",
              "    </tr>\n",
              "  </tbody>\n",
              "</table>\n",
              "</div>"
            ],
            "text/plain": [
              "                            y\n",
              "ds                           \n",
              "2020-01-01 00:00:00  8.876275\n",
              "2020-01-01 00:01:00  8.876433\n",
              "2020-01-01 00:02:00  8.876100\n",
              "2020-01-01 00:03:00  8.876031\n",
              "2020-01-01 00:04:00  8.875600"
            ]
          },
          "metadata": {
            "tags": []
          },
          "execution_count": 15
        }
      ]
    },
    {
      "cell_type": "code",
      "metadata": {
        "id": "XbKl53h5edHp"
      },
      "source": [
        "ts = ts.iloc[:,0]"
      ],
      "execution_count": 16,
      "outputs": []
    },
    {
      "cell_type": "code",
      "metadata": {
        "id": "7z8zqrIH8_y2",
        "outputId": "3d0f6efd-4a43-4c60-bf6b-471ba2011de6",
        "colab": {
          "base_uri": "https://localhost:8080/",
          "height": 235
        }
      },
      "source": [
        "ts = ts.dropna(0)"
      ],
      "execution_count": 18,
      "outputs": [
        {
          "output_type": "execute_result",
          "data": {
            "text/plain": [
              "ds\n",
              "2020-01-01 00:00:00    8.876275\n",
              "2020-01-01 00:01:00    8.876433\n",
              "2020-01-01 00:02:00    8.876100\n",
              "2020-01-01 00:03:00    8.876031\n",
              "2020-01-01 00:04:00    8.875600\n",
              "                         ...   \n",
              "2020-09-13 23:56:00    9.242267\n",
              "2020-09-13 23:57:00    9.242947\n",
              "2020-09-13 23:58:00    9.242437\n",
              "2020-09-13 23:59:00    9.243192\n",
              "2020-09-14 00:00:00    9.243043\n",
              "Name: y, Length: 363692, dtype: float64"
            ]
          },
          "metadata": {
            "tags": []
          },
          "execution_count": 18
        }
      ]
    },
    {
      "cell_type": "code",
      "metadata": {
        "id": "RvbmpjgTL1pq",
        "outputId": "5669b46b-8307-46e2-d71d-50e1f637ab7a",
        "colab": {
          "base_uri": "https://localhost:8080/",
          "height": 275
        }
      },
      "source": [
        "s = 200\n",
        "model = models.Sequential()\n",
        "model.add( layers.LSTM(input_shape=(1,s), units=50, activation='relu', return_sequences=False) )\n",
        "model.add( layers.Dense(1) )\n",
        "model.compile(optimizer='adam', loss='mean_absolute_error')\n",
        "model.summary()"
      ],
      "execution_count": null,
      "outputs": [
        {
          "output_type": "stream",
          "text": [
            "WARNING:tensorflow:From /usr/local/lib/python3.6/dist-packages/tensorflow/python/ops/resource_variable_ops.py:435: colocate_with (from tensorflow.python.framework.ops) is deprecated and will be removed in a future version.\n",
            "Instructions for updating:\n",
            "Colocations handled automatically by placer.\n"
          ],
          "name": "stderr"
        },
        {
          "output_type": "stream",
          "text": [
            "_________________________________________________________________\n",
            "Layer (type)                 Output Shape              Param #   \n",
            "=================================================================\n",
            "lstm (LSTM)                  (None, 50)                50200     \n",
            "_________________________________________________________________\n",
            "dense (Dense)                (None, 1)                 51        \n",
            "=================================================================\n",
            "Total params: 50,251\n",
            "Trainable params: 50,251\n",
            "Non-trainable params: 0\n",
            "_________________________________________________________________\n"
          ],
          "name": "stdout"
        }
      ]
    },
    {
      "cell_type": "code",
      "metadata": {
        "id": "fyFWxGu8Na6g"
      },
      "source": [
        "  s = model.input_shape[-1]\n",
        "  X, y, scaler = utils_preprocess_ts(ts, scaler=None, exog=None, s=s)"
      ],
      "execution_count": null,
      "outputs": []
    },
    {
      "cell_type": "code",
      "metadata": {
        "id": "2HitY8R1Oh9_",
        "outputId": "6d870605-810f-4210-935b-dc58c9a76cb7",
        "colab": {
          "base_uri": "https://localhost:8080/",
          "height": 122
        }
      },
      "source": [
        "training = model.fit(x=X, y=y, batch_size=1, epochs=1, shuffle=True, verbose=1, validation_split=0.3)"
      ],
      "execution_count": null,
      "outputs": [
        {
          "output_type": "stream",
          "text": [
            "WARNING:tensorflow:From /usr/local/lib/python3.6/dist-packages/tensorflow/python/ops/math_ops.py:3066: to_int32 (from tensorflow.python.ops.math_ops) is deprecated and will be removed in a future version.\n",
            "Instructions for updating:\n",
            "Use tf.cast instead.\n"
          ],
          "name": "stderr"
        },
        {
          "output_type": "stream",
          "text": [
            "Train on 254444 samples, validate on 109048 samples\n",
            "254444/254444 [==============================] - 594s 2ms/sample - loss: 0.0059 - val_loss: 0.0025\n"
          ],
          "name": "stdout"
        }
      ]
    },
    {
      "cell_type": "code",
      "metadata": {
        "id": "PS9SEMfyPWxB"
      },
      "source": [
        "dtf = None\n",
        "dtf = ts.to_frame(name=\"ts\")\n",
        "dtf[\"model\"] = utils_fitted_lstm(ts, training.model, scaler, None)\n",
        "dtf[\"model\"] = dtf[\"model\"].fillna(method='bfill')"
      ],
      "execution_count": null,
      "outputs": []
    },
    {
      "cell_type": "code",
      "metadata": {
        "id": "9Nfs4S6tLGX6",
        "outputId": "ed6a9e02-d443-42b9-b2ec-ec7c1b5fa83b",
        "colab": {
          "base_uri": "https://localhost:8080/",
          "height": 517
        }
      },
      "source": [
        "fig = plt.figure(figsize=(15,8))\n",
        "fig.suptitle(title, fontsize=20)   \n",
        "ax1 = fig.add_subplot(1,2, 1)\n",
        "dtf[pd.notnull(dtf[\"model\"])][[\"ts\",\"model\"]].plot(color=[\"black\",\"green\"], title=\"Model\", grid=True, ax=ax1)      \n",
        "ax1.set(xlabel=None)\n",
        "\n",
        "plt.show()"
      ],
      "execution_count": null,
      "outputs": [
        {
          "output_type": "display_data",
          "data": {
            "image/png": "[encoded data removed]",
            "text/plain": [
              "<Figure size 1080x576 with 1 Axes>"
            ]
          },
          "metadata": {
            "tags": [],
            "needs_background": "light"
          }
        }
      ]
    },
    {
      "cell_type": "code",
      "metadata": {
        "id": "jUkmHYQcN2lc"
      },
      "source": [
        "fig.savefig('LSTM_fitted.png', dpi=200)"
      ],
      "execution_count": null,
      "outputs": []
    },
    {
      "cell_type": "code",
      "metadata": {
        "id": "NCMCIfPGYit0",
        "outputId": "a2138bf1-5d71-48dc-cc1b-85b3775fc405",
        "colab": {
          "base_uri": "https://localhost:8080/",
          "height": 221
        }
      },
      "source": [
        "## index\n",
        "index = utils_generate_indexdate(start=ts.index[-1], end='2021-01-01 00:00:00', n=None, freq=\"1min\")\n",
        "\n",
        "## forecast\n",
        "preds = utils_predict_lstm(ts[-s:], training.model, scaler, pred_ahead=len(index), exog=None)\n",
        "\n",
        "dtf = dtf.append(pd.DataFrame(data=preds, index=index, columns=[\"forecast\"]))"
      ],
      "execution_count": null,
      "outputs": [
        {
          "output_type": "stream",
          "text": [
            "--- generating index date --> start: 2020-09-14 00:01:00 | end: 2021-01-01 00:00:00 | len: 156960 ---\n",
            "[9.242122 9.242099 9.242135 ... 9.239873 9.239873 9.239873]\n"
          ],
          "name": "stdout"
        },
        {
          "output_type": "stream",
          "text": [
            "/usr/local/lib/python3.6/dist-packages/pandas/core/frame.py:7123: FutureWarning:\n",
            "\n",
            "Sorting because non-concatenation axis is not aligned. A future version\n",
            "of pandas will change to not sort by default.\n",
            "\n",
            "To accept the future behavior, pass 'sort=False'.\n",
            "\n",
            "To retain the current behavior and silence the warning, pass 'sort=True'.\n",
            "\n",
            "\n"
          ],
          "name": "stderr"
        }
      ]
    },
    {
      "cell_type": "code",
      "metadata": {
        "id": "D-199_8-CeyT",
        "outputId": "4f31c793-101f-475a-a660-2f735660548e",
        "colab": {
          "base_uri": "https://localhost:8080/",
          "height": 85
        }
      },
      "source": [
        "df = dtf.reset_index()\n",
        "output = df[df['index'] > '2020-09-14'][['index','forecast']]\n",
        "output['delta'] = output.forecast.diff()\n",
        "output['side'] = output['delta'].apply(lambda x: choose_side(x))\n",
        "output.groupby('side')['index'].count()"
      ],
      "execution_count": null,
      "outputs": [
        {
          "output_type": "execute_result",
          "data": {
            "text/plain": [
              "side\n",
              "buy         74\n",
              "sell    156886\n",
              "Name: index, dtype: int64"
            ]
          },
          "metadata": {
            "tags": []
          },
          "execution_count": 100
        }
      ]
    },
    {
      "cell_type": "code",
      "metadata": {
        "id": "hVD3MmzXzK3l"
      },
      "source": [
        "output[['index','side']].to_csv('2020_full_trade_forecast_LSTM.csv', index=False)"
      ],
      "execution_count": null,
      "outputs": []
    }
  ]
}