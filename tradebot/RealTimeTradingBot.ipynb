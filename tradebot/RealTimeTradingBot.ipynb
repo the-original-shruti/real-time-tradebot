{
  "nbformat": 4,
  "nbformat_minor": 0,
  "metadata": {
    "colab": {
      "name": "RealTimeTradingBot.ipynb",
      "provenance": [],
      "collapsed_sections": [],
      "toc_visible": true,
      "include_colab_link": true
    },
    "kernelspec": {
      "name": "python3",
      "display_name": "Python 3"
    }
  },
  "cells": [
    {
      "cell_type": "markdown",
      "metadata": {
        "id": "view-in-github",
        "colab_type": "text"
      },
      "source": [
        "<a href=\"https://colab.research.google.com/github/the-original-shruti/real-time-tradebot/blob/master/tradebot/RealTimeTradingBot.ipynb\" target=\"_parent\"><img src=\"https://colab.research.google.com/assets/colab-badge.svg\" alt=\"Open In Colab\"/></a>"
      ]
    },
    {
      "cell_type": "markdown",
      "metadata": {
        "id": "6LgZZNAk09e7"
      },
      "source": [
        "# Get Dependencies"
      ]
    },
    {
      "cell_type": "code",
      "metadata": {
        "id": "T-VBpcXK21uz",
        "outputId": "bc0ade4f-b16b-4810-85e1-346bc97d2783",
        "colab": {
          "base_uri": "https://localhost:8080/",
          "height": 72
        }
      },
      "source": [
        "# check java version >=8\n",
        "!java -version"
      ],
      "execution_count": 2,
      "outputs": [
        {
          "output_type": "stream",
          "text": [
            "openjdk version \"11.0.8\" 2020-07-14\n",
            "OpenJDK Runtime Environment (build 11.0.8+10-post-Ubuntu-0ubuntu118.04.1)\n",
            "OpenJDK 64-Bit Server VM (build 11.0.8+10-post-Ubuntu-0ubuntu118.04.1, mixed mode, sharing)\n"
          ],
          "name": "stdout"
        }
      ]
    },
    {
      "cell_type": "code",
      "metadata": {
        "id": "_YoVNnPdbf7U"
      },
      "source": [
        "# install es server\n",
        "!wget https://artifacts.elastic.co/downloads/elasticsearch/elasticsearch-7.0.0-linux-x86_64.tar.gz -q\n",
        "!tar -xzf elasticsearch-7.0.0-linux-x86_64.tar.gz\n",
        "!chown -R daemon:daemon elasticsearch-7.0.0"
      ],
      "execution_count": 3,
      "outputs": []
    },
    {
      "cell_type": "code",
      "metadata": {
        "id": "7ReOVtnc1jnY",
        "outputId": "705dbe2f-83da-4496-d270-2950dfc77fef",
        "colab": {
          "base_uri": "https://localhost:8080/",
          "height": 217
        }
      },
      "source": [
        "# install kafka\n",
        "!wget https://mirrors.estointernet.in/apache/kafka/2.6.0/kafka_2.13-2.6.0.tgz\n",
        "!tar -xzf kafka_2.13-2.6.0.tgz"
      ],
      "execution_count": 4,
      "outputs": [
        {
          "output_type": "stream",
          "text": [
            "--2020-10-15 12:51:31--  https://mirrors.estointernet.in/apache/kafka/2.6.0/kafka_2.13-2.6.0.tgz\n",
            "Resolving mirrors.estointernet.in (mirrors.estointernet.in)... 43.255.166.254, 2403:8940:3:1::f\n",
            "Connecting to mirrors.estointernet.in (mirrors.estointernet.in)|43.255.166.254|:443... connected.\n",
            "HTTP request sent, awaiting response... 200 OK\n",
            "Length: 65537909 (63M) [application/octet-stream]\n",
            "Saving to: ‘kafka_2.13-2.6.0.tgz’\n",
            "\n",
            "kafka_2.13-2.6.0.tg 100%[===================>]  62.50M  6.23MB/s    in 13s     \n",
            "\n",
            "2020-10-15 12:51:45 (4.94 MB/s) - ‘kafka_2.13-2.6.0.tgz’ saved [65537909/65537909]\n",
            "\n"
          ],
          "name": "stdout"
        }
      ]
    },
    {
      "cell_type": "code",
      "metadata": {
        "id": "pOwlxhiR0aWj",
        "outputId": "64369705-14ca-4169-ce8f-2a6bb2b92b5f",
        "colab": {
          "base_uri": "https://localhost:8080/",
          "height": 1000
        }
      },
      "source": [
        "!pip install websocket-client\n",
        "!pip install faust\n",
        "!pip install elasticsearch\n",
        "!pip install geminipy "
      ],
      "execution_count": 5,
      "outputs": [
        {
          "output_type": "stream",
          "text": [
            "Collecting websocket-client\n",
            "\u001b[?25l  Downloading https://files.pythonhosted.org/packages/4c/5f/f61b420143ed1c8dc69f9eaec5ff1ac36109d52c80de49d66e0c36c3dfdf/websocket_client-0.57.0-py2.py3-none-any.whl (200kB)\n",
            "\r\u001b[K     |█▋                              | 10kB 27.5MB/s eta 0:00:01\r\u001b[K     |███▎                            | 20kB 5.1MB/s eta 0:00:01\r\u001b[K     |█████                           | 30kB 5.7MB/s eta 0:00:01\r\u001b[K     |██████▌                         | 40kB 6.7MB/s eta 0:00:01\r\u001b[K     |████████▏                       | 51kB 6.4MB/s eta 0:00:01\r\u001b[K     |█████████▉                      | 61kB 7.1MB/s eta 0:00:01\r\u001b[K     |███████████▍                    | 71kB 7.5MB/s eta 0:00:01\r\u001b[K     |█████████████                   | 81kB 7.8MB/s eta 0:00:01\r\u001b[K     |██████████████▊                 | 92kB 7.6MB/s eta 0:00:01\r\u001b[K     |████████████████▎               | 102kB 7.5MB/s eta 0:00:01\r\u001b[K     |██████████████████              | 112kB 7.5MB/s eta 0:00:01\r\u001b[K     |███████████████████▋            | 122kB 7.5MB/s eta 0:00:01\r\u001b[K     |█████████████████████▏          | 133kB 7.5MB/s eta 0:00:01\r\u001b[K     |██████████████████████▉         | 143kB 7.5MB/s eta 0:00:01\r\u001b[K     |████████████████████████▌       | 153kB 7.5MB/s eta 0:00:01\r\u001b[K     |██████████████████████████      | 163kB 7.5MB/s eta 0:00:01\r\u001b[K     |███████████████████████████▊    | 174kB 7.5MB/s eta 0:00:01\r\u001b[K     |█████████████████████████████▍  | 184kB 7.5MB/s eta 0:00:01\r\u001b[K     |███████████████████████████████ | 194kB 7.5MB/s eta 0:00:01\r\u001b[K     |████████████████████████████████| 204kB 7.5MB/s \n",
            "\u001b[?25hRequirement already satisfied: six in /usr/local/lib/python3.6/dist-packages (from websocket-client) (1.15.0)\n",
            "Installing collected packages: websocket-client\n",
            "Successfully installed websocket-client-0.57.0\n",
            "Collecting faust\n",
            "\u001b[?25l  Downloading https://files.pythonhosted.org/packages/79/f8/3fec4f5c3e5bf1ce8bb557ae507525253fa30a5cfc5984f342b931143f75/faust-1.10.4-py2.py3-none-any.whl (330kB)\n",
            "\u001b[K     |████████████████████████████████| 337kB 9.0MB/s \n",
            "\u001b[?25hCollecting venusian<2.0,>=1.1\n",
            "  Downloading https://files.pythonhosted.org/packages/21/80/8e2ac4aef69e927754277d29636b65eceb4767e9da90a2c3046c4176184a/venusian-1.2.0-py2.py3-none-any.whl\n",
            "Collecting robinhood-aiokafka<1.2,>=1.1.6\n",
            "\u001b[?25l  Downloading https://files.pythonhosted.org/packages/cc/21/b02d929a11d4c9546aac26d071f87173053a6179f4d43925db421df82d47/robinhood_aiokafka-1.1.6-py3-none-any.whl (138kB)\n",
            "\u001b[K     |████████████████████████████████| 143kB 19.0MB/s \n",
            "\u001b[?25hCollecting mode<4.4,>=4.3.2\n",
            "\u001b[?25l  Downloading https://files.pythonhosted.org/packages/20/cb/a8824cddda1f811d92f2db28a2989e592c14466623e183f849f4bc211a42/mode-4.3.2-py2.py3-none-any.whl (99kB)\n",
            "\u001b[K     |████████████████████████████████| 102kB 8.3MB/s \n",
            "\u001b[?25hCollecting croniter>=0.3.16\n",
            "  Downloading https://files.pythonhosted.org/packages/9a/9f/3c186343ff3fcde298ecb93e2b577b39cf735074e7e14aeb91fc9cc8ee9d/croniter-0.3.35-py2.py3-none-any.whl\n",
            "Collecting aiohttp<4.0,>=3.5.2\n",
            "\u001b[?25l  Downloading https://files.pythonhosted.org/packages/78/a6/93acfa8f8b3573c4445ace2f266de62783231923706a4c3ab705e7d43497/aiohttp-3.6.3-cp36-cp36m-manylinux1_x86_64.whl (1.2MB)\n",
            "\u001b[K     |████████████████████████████████| 1.2MB 17.2MB/s \n",
            "\u001b[?25hCollecting opentracing<2.0.0,>=1.3.0\n",
            "  Downloading https://files.pythonhosted.org/packages/06/c2/90b35a1abdc639a5c6000d8202c70217d60e80f5b328870efb73fda71115/opentracing-1.3.0.tar.gz\n",
            "Collecting colorclass<3.0,>=2.2\n",
            "  Downloading https://files.pythonhosted.org/packages/37/ea/ae8dbb956939d4392e6a7fdef87fda273854da1128edae016c4104240be8/colorclass-2.2.0.tar.gz\n",
            "Requirement already satisfied: click<8.0,>=6.7 in /usr/local/lib/python3.6/dist-packages (from faust) (7.1.2)\n",
            "Collecting yarl<2.0,>=1.0\n",
            "\u001b[?25l  Downloading https://files.pythonhosted.org/packages/25/8b/f4176c06233f7baed99dcb5aefcb010bfbbe769050579adda63083f2c326/yarl-1.6.2-cp36-cp36m-manylinux2014_x86_64.whl (295kB)\n",
            "\u001b[K     |████████████████████████████████| 296kB 71.7MB/s \n",
            "\u001b[?25hCollecting mypy-extensions\n",
            "  Downloading https://files.pythonhosted.org/packages/5c/eb/975c7c080f3223a5cdaff09612f3a5221e4ba534f7039db34c35d95fa6a5/mypy_extensions-0.4.3-py2.py3-none-any.whl\n",
            "Collecting terminaltables<4.0,>=3.1\n",
            "  Downloading https://files.pythonhosted.org/packages/9b/c4/4a21174f32f8a7e1104798c445dacdc1d4df86f2f26722767034e4de4bff/terminaltables-3.1.0.tar.gz\n",
            "Collecting aiohttp-cors<2.0,>=0.7\n",
            "  Downloading https://files.pythonhosted.org/packages/13/e7/e436a0c0eb5127d8b491a9b83ecd2391c6ff7dcd5548dfaec2080a2340fd/aiohttp_cors-0.7.0-py3-none-any.whl\n",
            "Collecting kafka-python<1.5,>=1.4.6\n",
            "\u001b[?25l  Downloading https://files.pythonhosted.org/packages/49/c9/9863483a1353700ba87821b4f39085eb18fd1bcbb1e954c697177d67f03f/kafka_python-1.4.7-py2.py3-none-any.whl (266kB)\n",
            "\u001b[K     |████████████████████████████████| 266kB 61.4MB/s \n",
            "\u001b[?25hCollecting colorlog>=2.9.0\n",
            "  Downloading https://files.pythonhosted.org/packages/8c/10/0b39be7ff1adb8888fe87c8628c071dec5ac282ac1c2312221f5feb09215/colorlog-4.4.0-py2.py3-none-any.whl\n",
            "Collecting aiocontextvars>=0.2; python_version < \"3.7\"\n",
            "  Downloading https://files.pythonhosted.org/packages/db/c1/7a723e8d988de0a2e623927396e54b6831b68cb80dce468c945b849a9385/aiocontextvars-0.2.2-py2.py3-none-any.whl\n",
            "Requirement already satisfied: typing-extensions; python_version < \"3.8\" in /usr/local/lib/python3.6/dist-packages (from mode<4.4,>=4.3.2->faust) (3.7.4.3)\n",
            "Requirement already satisfied: natsort in /usr/local/lib/python3.6/dist-packages (from croniter>=0.3.16->faust) (5.5.0)\n",
            "Requirement already satisfied: python-dateutil in /usr/local/lib/python3.6/dist-packages (from croniter>=0.3.16->faust) (2.8.1)\n",
            "Requirement already satisfied: chardet<4.0,>=2.0 in /usr/local/lib/python3.6/dist-packages (from aiohttp<4.0,>=3.5.2->faust) (3.0.4)\n",
            "Collecting multidict<5.0,>=4.5\n",
            "\u001b[?25l  Downloading https://files.pythonhosted.org/packages/1a/95/f50352b5366e7d579e8b99631680a9e32e1b22adfa1629a8f23b1d22d5e2/multidict-4.7.6-cp36-cp36m-manylinux1_x86_64.whl (148kB)\n",
            "\u001b[K     |████████████████████████████████| 153kB 63.4MB/s \n",
            "\u001b[?25hRequirement already satisfied: attrs>=17.3.0 in /usr/local/lib/python3.6/dist-packages (from aiohttp<4.0,>=3.5.2->faust) (20.2.0)\n",
            "Collecting idna-ssl>=1.0; python_version < \"3.7\"\n",
            "  Downloading https://files.pythonhosted.org/packages/46/03/07c4894aae38b0de52b52586b24bf189bb83e4ddabfe2e2c8f2419eec6f4/idna-ssl-1.1.0.tar.gz\n",
            "Collecting async-timeout<4.0,>=3.0\n",
            "  Downloading https://files.pythonhosted.org/packages/e1/1e/5a4441be21b0726c4464f3f23c8b19628372f606755a9d2e46c187e65ec4/async_timeout-3.0.1-py3-none-any.whl\n",
            "Requirement already satisfied: idna>=2.0 in /usr/local/lib/python3.6/dist-packages (from yarl<2.0,>=1.0->faust) (2.10)\n",
            "Collecting contextvars==2.4; python_version < \"3.7\"\n",
            "  Downloading https://files.pythonhosted.org/packages/83/96/55b82d9f13763be9d672622e1b8106c85acb83edd7cc2fa5bc67cd9877e9/contextvars-2.4.tar.gz\n",
            "Requirement already satisfied: six>=1.5 in /usr/local/lib/python3.6/dist-packages (from python-dateutil->croniter>=0.3.16->faust) (1.15.0)\n",
            "Collecting immutables>=0.9\n",
            "\u001b[?25l  Downloading https://files.pythonhosted.org/packages/99/e0/ea6fd4697120327d26773b5a84853f897a68e33d3f9376b00a8ff96e4f63/immutables-0.14-cp36-cp36m-manylinux1_x86_64.whl (98kB)\n",
            "\u001b[K     |████████████████████████████████| 102kB 10.6MB/s \n",
            "\u001b[?25hBuilding wheels for collected packages: opentracing, colorclass, terminaltables, idna-ssl, contextvars\n",
            "  Building wheel for opentracing (setup.py) ... \u001b[?25l\u001b[?25hdone\n",
            "  Created wheel for opentracing: filename=opentracing-1.3.0-cp36-none-any.whl size=18449 sha256=55b071f69e0386911fe62be94e32d8230f1a05795052592fb71f0dff11843c6b\n",
            "  Stored in directory: /root/.cache/pip/wheels/5a/c7/a8/55354b8928b16dafbcd73fb8fc33d7d55cf61ed0845b912ec8\n",
            "  Building wheel for colorclass (setup.py) ... \u001b[?25l\u001b[?25hdone\n",
            "  Created wheel for colorclass: filename=colorclass-2.2.0-cp36-none-any.whl size=19397 sha256=2837889406e9411c14043e033ebeb8b5a7463ff5787d4dd6c05d3df4112671bd\n",
            "  Stored in directory: /root/.cache/pip/wheels/d1/86/9d/16127127306a92d7fd30267890a5634026c045391979c4c317\n",
            "  Building wheel for terminaltables (setup.py) ... \u001b[?25l\u001b[?25hdone\n",
            "  Created wheel for terminaltables: filename=terminaltables-3.1.0-cp36-none-any.whl size=15356 sha256=90eb37f4aee24ae9347c6e0b4aac17142fb770a28a9b2c065a1bd11030d85fe2\n",
            "  Stored in directory: /root/.cache/pip/wheels/30/6b/50/6c75775b681fb36cdfac7f19799888ef9d8813aff9e379663e\n",
            "  Building wheel for idna-ssl (setup.py) ... \u001b[?25l\u001b[?25hdone\n",
            "  Created wheel for idna-ssl: filename=idna_ssl-1.1.0-cp36-none-any.whl size=3161 sha256=dbc6b0710a01f9e6d034b21348b2a60eef75c49df33ffda1b28fb4faaee8c6b5\n",
            "  Stored in directory: /root/.cache/pip/wheels/d3/00/b3/32d613e19e08a739751dd6bf998cfed277728f8b2127ad4eb7\n",
            "  Building wheel for contextvars (setup.py) ... \u001b[?25l\u001b[?25hdone\n",
            "  Created wheel for contextvars: filename=contextvars-2.4-cp36-none-any.whl size=7666 sha256=ab91f551a427697baba3963d139aafe41ce5ec99e9fb85ab576feec87d76732d\n",
            "  Stored in directory: /root/.cache/pip/wheels/a5/7d/68/1ebae2668bda2228686e3c1cf16f2c2384cea6e9334ad5f6de\n",
            "Successfully built opentracing colorclass terminaltables idna-ssl contextvars\n",
            "\u001b[31mERROR: aiohttp 3.6.3 has requirement yarl<1.6.0,>=1.0, but you'll have yarl 1.6.2 which is incompatible.\u001b[0m\n",
            "Installing collected packages: venusian, kafka-python, robinhood-aiokafka, colorlog, immutables, contextvars, aiocontextvars, mypy-extensions, mode, croniter, multidict, yarl, idna-ssl, async-timeout, aiohttp, opentracing, colorclass, terminaltables, aiohttp-cors, faust\n",
            "Successfully installed aiocontextvars-0.2.2 aiohttp-3.6.3 aiohttp-cors-0.7.0 async-timeout-3.0.1 colorclass-2.2.0 colorlog-4.4.0 contextvars-2.4 croniter-0.3.35 faust-1.10.4 idna-ssl-1.1.0 immutables-0.14 kafka-python-1.4.7 mode-4.3.2 multidict-4.7.6 mypy-extensions-0.4.3 opentracing-1.3.0 robinhood-aiokafka-1.1.6 terminaltables-3.1.0 venusian-1.2.0 yarl-1.6.2\n",
            "Collecting elasticsearch\n",
            "\u001b[?25l  Downloading https://files.pythonhosted.org/packages/e4/b7/f8f03019089671486e2910282c1b6fce26ccc8a513322df72ac8994ab2de/elasticsearch-7.9.1-py2.py3-none-any.whl (219kB)\n",
            "\u001b[K     |████████████████████████████████| 225kB 8.6MB/s \n",
            "\u001b[?25hRequirement already satisfied: urllib3>=1.21.1 in /usr/local/lib/python3.6/dist-packages (from elasticsearch) (1.24.3)\n",
            "Requirement already satisfied: certifi in /usr/local/lib/python3.6/dist-packages (from elasticsearch) (2020.6.20)\n",
            "Installing collected packages: elasticsearch\n",
            "Successfully installed elasticsearch-7.9.1\n",
            "Collecting geminipy\n",
            "  Downloading https://files.pythonhosted.org/packages/e0/dd/239b4cdf1230f5aff8fc04b0a8d0cad7e47190c6f61c88253ebf86422475/geminipy-0.0.4.tar.gz\n",
            "Building wheels for collected packages: geminipy\n",
            "  Building wheel for geminipy (setup.py) ... \u001b[?25l\u001b[?25hdone\n",
            "  Created wheel for geminipy: filename=geminipy-0.0.4-cp36-none-any.whl size=16090 sha256=f356b950ca4f8d1576b835b2e77502ae2e870fe01c56688087a30a7be06dc134\n",
            "  Stored in directory: /root/.cache/pip/wheels/2d/ed/30/c74a9e0eb7fb9a75df912ea1294a7b5ca4cf5c655e7fb20cea\n",
            "Successfully built geminipy\n",
            "Installing collected packages: geminipy\n",
            "Successfully installed geminipy-0.0.4\n"
          ],
          "name": "stdout"
        }
      ]
    },
    {
      "cell_type": "code",
      "metadata": {
        "id": "S_fDfRseT71w",
        "outputId": "aa4293f0-65db-4a9d-f6fb-d0eae3f5cc42",
        "colab": {
          "base_uri": "https://localhost:8080/",
          "height": 237
        }
      },
      "source": [
        "# download the gemini.py module which contains the definition of faust app from our github.\n",
        "!wget https://raw.githubusercontent.com/the-original-shruti/real-time-tradebot/master/tradebot/gemini.py"
      ],
      "execution_count": 25,
      "outputs": [
        {
          "output_type": "stream",
          "text": [
            "--2020-10-15 12:56:20--  https://raw.githubusercontent.com/the-original-shruti/real-time-tradebot/master/tradebot/gemini.py\n",
            "Resolving raw.githubusercontent.com (raw.githubusercontent.com)... 151.101.0.133, 151.101.64.133, 151.101.128.133, ...\n",
            "Connecting to raw.githubusercontent.com (raw.githubusercontent.com)|151.101.0.133|:443... connected.\n",
            "HTTP request sent, awaiting response... 200 OK\n",
            "Length: 1616 (1.6K) [text/plain]\n",
            "Saving to: ‘gemini.py’\n",
            "\n",
            "gemini.py           100%[===================>]   1.58K  --.-KB/s    in 0s      \n",
            "\n",
            "2020-10-15 12:56:20 (43.9 MB/s) - ‘gemini.py’ saved [1616/1616]\n",
            "\n"
          ],
          "name": "stdout"
        }
      ]
    },
    {
      "cell_type": "code",
      "metadata": {
        "id": "AGFT_BTGcbbo"
      },
      "source": [
        "# upload forecast csv file and api_details.json file\n",
        "from google.colab import files\n",
        "\n",
        "uploaded = files.upload()\n",
        "\n",
        "for fn in uploaded.keys():\n",
        "  print('User uploaded file \"{name}\" with length {length} bytes'.format(\n",
        "      name=fn, length=len(uploaded[fn])))"
      ],
      "execution_count": null,
      "outputs": []
    },
    {
      "cell_type": "markdown",
      "metadata": {
        "id": "_hDe3ELexYag"
      },
      "source": [
        "# Start ElasticSearch Server "
      ]
    },
    {
      "cell_type": "code",
      "metadata": {
        "id": "7S2wKXCB7zTt"
      },
      "source": [
        "import os\n",
        "from subprocess import Popen, PIPE, STDOUT"
      ],
      "execution_count": 1,
      "outputs": []
    },
    {
      "cell_type": "code",
      "metadata": {
        "id": "y5OiZix0KKpt",
        "outputId": "93ac2009-abe2-4dd5-c835-34ba4337a83c",
        "colab": {
          "base_uri": "https://localhost:8080/",
          "height": 35
        }
      },
      "source": [
        "es_server = Popen(['elasticsearch-7.0.0/bin/elasticsearch'], \n",
        "                  stdout=PIPE, stderr=STDOUT,\n",
        "                  preexec_fn=lambda: os.setuid(1)  # as daemon\n",
        "                 )\n",
        "!echo \"Waiting for 15 secs until elasticsearch is up and running\"\n",
        "!sleep 15"
      ],
      "execution_count": 63,
      "outputs": [
        {
          "output_type": "stream",
          "text": [
            "Waiting for 15 secs until elasticsearch is up and running\n"
          ],
          "name": "stdout"
        }
      ]
    },
    {
      "cell_type": "code",
      "metadata": {
        "id": "kXdR-sBWc6eX",
        "outputId": "0607a56b-1a49-4805-bf77-3879e5de3662",
        "colab": {
          "base_uri": "https://localhost:8080/",
          "height": 326
        }
      },
      "source": [
        "# check server is running\n",
        "!curl -X GET \"localhost:9200/\""
      ],
      "execution_count": 65,
      "outputs": [
        {
          "output_type": "stream",
          "text": [
            "{\n",
            "  \"name\" : \"b0ce72e4e73c\",\n",
            "  \"cluster_name\" : \"elasticsearch\",\n",
            "  \"cluster_uuid\" : \"lH16qYDlRjOKWtfIPaKdoA\",\n",
            "  \"version\" : {\n",
            "    \"number\" : \"7.0.0\",\n",
            "    \"build_flavor\" : \"default\",\n",
            "    \"build_type\" : \"tar\",\n",
            "    \"build_hash\" : \"b7e28a7\",\n",
            "    \"build_date\" : \"2019-04-05T22:55:32.697037Z\",\n",
            "    \"build_snapshot\" : false,\n",
            "    \"lucene_version\" : \"8.0.0\",\n",
            "    \"minimum_wire_compatibility_version\" : \"6.7.0\",\n",
            "    \"minimum_index_compatibility_version\" : \"6.0.0-beta1\"\n",
            "  },\n",
            "  \"tagline\" : \"You Know, for Search\"\n",
            "}\n"
          ],
          "name": "stdout"
        }
      ]
    },
    {
      "cell_type": "markdown",
      "metadata": {
        "id": "zIHtfqDQ1YFH"
      },
      "source": [
        "# Start Kafka Server"
      ]
    },
    {
      "cell_type": "code",
      "metadata": {
        "id": "aBppxXG12L7N",
        "outputId": "16b612c8-11b0-418d-dc0c-4f9cbfac956e",
        "colab": {
          "base_uri": "https://localhost:8080/",
          "height": 35
        }
      },
      "source": [
        "!echo \"Waiting for 20 secs until kafka and zookeeper services are up and running\"\n",
        "!cd kafka_2.13-2.6.0 && bin/zookeeper-server-start.sh -daemon config/zookeeper.properties\n",
        "!sleep 10\n",
        "!cd kafka_2.13-2.6.0 && bin/kafka-server-start.sh -daemon config/server.properties\n",
        "!sleep 10"
      ],
      "execution_count": 11,
      "outputs": [
        {
          "output_type": "stream",
          "text": [
            "Waiting for 20 secs until kafka and zookeeper services are up and running\n"
          ],
          "name": "stdout"
        }
      ]
    },
    {
      "cell_type": "code",
      "metadata": {
        "id": "WHiOXlYj2SjU",
        "outputId": "98f7031b-eb7f-4f84-b8c9-7600db40b0f9",
        "colab": {
          "base_uri": "https://localhost:8080/",
          "height": 110
        }
      },
      "source": [
        "# check kafka is running \n",
        "!ps -ef | grep kafka"
      ],
      "execution_count": 12,
      "outputs": [
        {
          "output_type": "stream",
          "text": [
            "root        2366       1  1 13:29 ?        00:00:01 java -Xmx512M -Xms512M -server -XX:+UseG1GC -XX:MaxGCPauseMillis=20 -XX:InitiatingHeapOccupancyPercent=35 -XX:+ExplicitGCInvokesConcurrent -XX:MaxInlineLevel=15 -Djava.awt.headless=true -Xlog:gc*:file=/content/kafka_2.13-2.6.0/bin/../logs/zookeeper-gc.log:time,tags:filecount=10,filesize=102400 -Dcom.sun.management.jmxremote -Dcom.sun.management.jmxremote.authenticate=false -Dcom.sun.management.jmxremote.ssl=false -Dkafka.logs.dir=/content/kafka_2.13-2.6.0/bin/../logs -Dlog4j.configuration=file:bin/../config/log4j.properties -cp /content/kafka_2.13-2.6.0/bin/../libs/activation-1.1.1.jar:/content/kafka_2.13-2.6.0/bin/../libs/aopalliance-repackaged-2.5.0.jar:/content/kafka_2.13-2.6.0/bin/../libs/argparse4j-0.7.0.jar:/content/kafka_2.13-2.6.0/bin/../libs/audience-annotations-0.5.0.jar:/content/kafka_2.13-2.6.0/bin/../libs/commons-cli-1.4.jar:/content/kafka_2.13-2.6.0/bin/../libs/commons-lang3-3.8.1.jar:/content/kafka_2.13-2.6.0/bin/../libs/connect-api-2.6.0.jar:/content/kafka_2.13-2.6.0/bin/../libs/connect-basic-auth-extension-2.6.0.jar:/content/kafka_2.13-2.6.0/bin/../libs/connect-file-2.6.0.jar:/content/kafka_2.13-2.6.0/bin/../libs/connect-json-2.6.0.jar:/content/kafka_2.13-2.6.0/bin/../libs/connect-mirror-2.6.0.jar:/content/kafka_2.13-2.6.0/bin/../libs/connect-mirror-client-2.6.0.jar:/content/kafka_2.13-2.6.0/bin/../libs/connect-runtime-2.6.0.jar:/content/kafka_2.13-2.6.0/bin/../libs/connect-transforms-2.6.0.jar:/content/kafka_2.13-2.6.0/bin/../libs/hk2-api-2.5.0.jar:/content/kafka_2.13-2.6.0/bin/../libs/hk2-locator-2.5.0.jar:/content/kafka_2.13-2.6.0/bin/../libs/hk2-utils-2.5.0.jar:/content/kafka_2.13-2.6.0/bin/../libs/jackson-annotations-2.10.2.jar:/content/kafka_2.13-2.6.0/bin/../libs/jackson-core-2.10.2.jar:/content/kafka_2.13-2.6.0/bin/../libs/jackson-databind-2.10.2.jar:/content/kafka_2.13-2.6.0/bin/../libs/jackson-dataformat-csv-2.10.2.jar:/content/kafka_2.13-2.6.0/bin/../libs/jackson-datatype-jdk8-2.10.2.jar:/content/kafka_2.13-2.6.0/bin/../libs/jackson-jaxrs-base-2.10.2.jar:/content/kafka_2.13-2.6.0/bin/../libs/jackson-jaxrs-json-provider-2.10.2.jar:/content/kafka_2.13-2.6.0/bin/../libs/jackson-module-jaxb-annotations-2.10.2.jar:/content/kafka_2.13-2.6.0/bin/../libs/jackson-module-paranamer-2.10.2.jar:/content/kafka_2.13-2.6.0/bin/../libs/jackson-module-scala_2.13-2.10.2.jar:/content/kafka_2.13-2.6.0/bin/../libs/jakarta.activation-api-1.2.1.jar:/content/kafka_2.13-2.6.0/bin/../libs/jakarta.annotation-api-1.3.4.jar:/content/kafka_2.13-2.6.0/bin/../libs/jakarta.inject-2.5.0.jar:/content/kafka_2.13-2.6.0/bin/../libs/jakarta.ws.rs-api-2.1.5.jar:/content/kafka_2.13-2.6.0/bin/../libs/jakarta.xml.bind-api-2.3.2.jar:/content/kafka_2.13-2.6.0/bin/../libs/javassist-3.22.0-CR2.jar:/content/kafka_2.13-2.6.0/bin/../libs/javassist-3.26.0-GA.jar:/content/kafka_2.13-2.6.0/bin/../libs/javax.servlet-api-3.1.0.jar:/content/kafka_2.13-2.6.0/bin/../libs/javax.ws.rs-api-2.1.1.jar:/content/kafka_2.13-2.6.0/bin/../libs/jaxb-api-2.3.0.jar:/content/kafka_2.13-2.6.0/bin/../libs/jersey-client-2.28.jar:/content/kafka_2.13-2.6.0/bin/../libs/jersey-common-2.28.jar:/content/kafka_2.13-2.6.0/bin/../libs/jersey-container-servlet-2.28.jar:/content/kafka_2.13-2.6.0/bin/../libs/jersey-container-servlet-core-2.28.jar:/content/kafka_2.13-2.6.0/bin/../libs/jersey-hk2-2.28.jar:/content/kafka_2.13-2.6.0/bin/../libs/jersey-media-jaxb-2.28.jar:/content/kafka_2.13-2.6.0/bin/../libs/jersey-server-2.28.jar:/content/kafka_2.13-2.6.0/bin/../libs/jetty-client-9.4.24.v20191120.jar:/content/kafka_2.13-2.6.0/bin/../libs/jetty-continuation-9.4.24.v20191120.jar:/content/kafka_2.13-2.6.0/bin/../libs/jetty-http-9.4.24.v20191120.jar:/content/kafka_2.13-2.6.0/bin/../libs/jetty-io-9.4.24.v20191120.jar:/content/kafka_2.13-2.6.0/bin/../libs/jetty-security-9.4.24.v20191120.jar:/content/kafka_2.13-2.6.0/bin/../libs/jetty-server-9.4.24.v20191120.jar:/content/kafka_2.13-2.6.0/bin/../libs/jetty-servlet-9.4.24.v20191120.jar:/content/kafka_2.13-2.6.0/bin/../libs/jetty-servlets-9.4.24.v20191120.jar:/content/kafka_2.13-2.6.0/bin/../libs/jetty-util-9.4.24.v20191120.jar:/content/kafka_2.13-2.6.0/bin/../libs/jopt-simple-5.0.4.jar:/content/kafka_2.13-2.6.0/bin/../libs/kafka_2.13-2.6.0.jar:/content/kafka_2.13-2.6.0/bin/../libs/kafka_2.13-2.6.0-sources.jar:/content/kafka_2.13-2.6.0/bin/../libs/kafka-clients-2.6.0.jar:/content/kafka_2.13-2.6.0/bin/../libs/kafka-log4j-appender-2.6.0.jar:/content/kafka_2.13-2.6.0/bin/../libs/kafka-streams-2.6.0.jar:/content/kafka_2.13-2.6.0/bin/../libs/kafka-streams-examples-2.6.0.jar:/content/kafka_2.13-2.6.0/bin/../libs/kafka-streams-scala_2.13-2.6.0.jar:/content/kafka_2.13-2.6.0/bin/../libs/kafka-streams-test-utils-2.6.0.jar:/content/kafka_2.13-2.6.0/bin/../libs/kafka-tools-2.6.0.jar:/content/kafka_2.13-2.6.0/bin/../libs/log4j-1.2.17.jar:/content/kafka_2.13-2.6.0/bin/../libs/lz4-java-1.7.1.jar:/content/kafka_2.13-2.6.0/bin/../libs/maven-artifact-3.6.3.jar:/content/kafka_2.13-2.6.0/bin/../libs/metrics-core-2.2.0.jar:/content/kafka_2.13-2.6.0/bin/../libs/netty-buffer-4.1.50.Final.jar:/content/kafka_2.13-2.6.0/bin/../libs/netty-codec-4.1.50.Final.jar:/content/kafka_2.13-2.6.0/bin/../libs/netty-common-4.1.50.Final.jar:/content/kafka_2.13-2.6.0/bin/../libs/netty-handler-4.1.50.Final.jar:/content/kafka_2.13-2.6.0/bin/../libs/netty-resolver-4.1.50.Final.jar:/content/kafka_2.13-2.6.0/bin/../libs/netty-transport-4.1.50.Final.jar:/content/kafka_2.13-2.6.0/bin/../libs/netty-transport-native-epoll-4.1.50.Final.jar:/content/kafka_2.13-2.6.0/bin/../libs/netty-transport-native-unix-common-4.1.50.Final.jar:/content/kafka_2.13-2.6.0/bin/../libs/osgi-resource-locator-1.0.1.jar:/content/kafka_2.13-2.6.0/bin/../libs/paranamer-2.8.jar:/content/kafka_2.13-2.6.0/bin/../libs/plexus-utils-3.2.1.jar:/content/kafka_2.13-2.6.0/bin/../libs/reflections-0.9.12.jar:/content/kafka_2.13-2.6.0/bin/../libs/rocksdbjni-5.18.4.jar:/content/kafka_2.13-2.6.0/bin/../libs/scala-collection-compat_2.13-2.1.6.jar:/content/kafka_2.13-2.6.0/bin/../libs/scala-java8-compat_2.13-0.9.1.jar:/content/kafka_2.13-2.6.0/bin/../libs/scala-library-2.13.2.jar:/content/kafka_2.13-2.6.0/bin/../libs/scala-logging_2.13-3.9.2.jar:/content/kafka_2.13-2.6.0/bin/../libs/scala-reflect-2.13.2.jar:/content/kafka_2.13-2.6.0/bin/../libs/slf4j-api-1.7.30.jar:/content/kafka_2.13-2.6.0/bin/../libs/slf4j-log4j12-1.7.30.jar:/content/kafka_2.13-2.6.0/bin/../libs/snappy-java-1.1.7.3.jar:/content/kafka_2.13-2.6.0/bin/../libs/validation-api-2.0.1.Final.jar:/content/kafka_2.13-2.6.0/bin/../libs/zookeeper-3.5.8.jar:/content/kafka_2.13-2.6.0/bin/../libs/zookeeper-jute-3.5.8.jar:/content/kafka_2.13-2.6.0/bin/../libs/zstd-jni-1.4.4-7.jar org.apache.zookeeper.server.quorum.QuorumPeerMain config/zookeeper.properties\n",
            "root        3142       1 14 13:30 ?        00:00:05 java -Xmx1G -Xms1G -server -XX:+UseG1GC -XX:MaxGCPauseMillis=20 -XX:InitiatingHeapOccupancyPercent=35 -XX:+ExplicitGCInvokesConcurrent -XX:MaxInlineLevel=15 -Djava.awt.headless=true -Xlog:gc*:file=/content/kafka_2.13-2.6.0/bin/../logs/kafkaServer-gc.log:time,tags:filecount=10,filesize=102400 -Dcom.sun.management.jmxremote -Dcom.sun.management.jmxremote.authenticate=false -Dcom.sun.management.jmxremote.ssl=false -Dkafka.logs.dir=/content/kafka_2.13-2.6.0/bin/../logs -Dlog4j.configuration=file:bin/../config/log4j.properties -cp /content/kafka_2.13-2.6.0/bin/../libs/activation-1.1.1.jar:/content/kafka_2.13-2.6.0/bin/../libs/aopalliance-repackaged-2.5.0.jar:/content/kafka_2.13-2.6.0/bin/../libs/argparse4j-0.7.0.jar:/content/kafka_2.13-2.6.0/bin/../libs/audience-annotations-0.5.0.jar:/content/kafka_2.13-2.6.0/bin/../libs/commons-cli-1.4.jar:/content/kafka_2.13-2.6.0/bin/../libs/commons-lang3-3.8.1.jar:/content/kafka_2.13-2.6.0/bin/../libs/connect-api-2.6.0.jar:/content/kafka_2.13-2.6.0/bin/../libs/connect-basic-auth-extension-2.6.0.jar:/content/kafka_2.13-2.6.0/bin/../libs/connect-file-2.6.0.jar:/content/kafka_2.13-2.6.0/bin/../libs/connect-json-2.6.0.jar:/content/kafka_2.13-2.6.0/bin/../libs/connect-mirror-2.6.0.jar:/content/kafka_2.13-2.6.0/bin/../libs/connect-mirror-client-2.6.0.jar:/content/kafka_2.13-2.6.0/bin/../libs/connect-runtime-2.6.0.jar:/content/kafka_2.13-2.6.0/bin/../libs/connect-transforms-2.6.0.jar:/content/kafka_2.13-2.6.0/bin/../libs/hk2-api-2.5.0.jar:/content/kafka_2.13-2.6.0/bin/../libs/hk2-locator-2.5.0.jar:/content/kafka_2.13-2.6.0/bin/../libs/hk2-utils-2.5.0.jar:/content/kafka_2.13-2.6.0/bin/../libs/jackson-annotations-2.10.2.jar:/content/kafka_2.13-2.6.0/bin/../libs/jackson-core-2.10.2.jar:/content/kafka_2.13-2.6.0/bin/../libs/jackson-databind-2.10.2.jar:/content/kafka_2.13-2.6.0/bin/../libs/jackson-dataformat-csv-2.10.2.jar:/content/kafka_2.13-2.6.0/bin/../libs/jackson-datatype-jdk8-2.10.2.jar:/content/kafka_2.13-2.6.0/bin/../libs/jackson-jaxrs-base-2.10.2.jar:/content/kafka_2.13-2.6.0/bin/../libs/jackson-jaxrs-json-provider-2.10.2.jar:/content/kafka_2.13-2.6.0/bin/../libs/jackson-module-jaxb-annotations-2.10.2.jar:/content/kafka_2.13-2.6.0/bin/../libs/jackson-module-paranamer-2.10.2.jar:/content/kafka_2.13-2.6.0/bin/../libs/jackson-module-scala_2.13-2.10.2.jar:/content/kafka_2.13-2.6.0/bin/../libs/jakarta.activation-api-1.2.1.jar:/content/kafka_2.13-2.6.0/bin/../libs/jakarta.annotation-api-1.3.4.jar:/content/kafka_2.13-2.6.0/bin/../libs/jakarta.inject-2.5.0.jar:/content/kafka_2.13-2.6.0/bin/../libs/jakarta.ws.rs-api-2.1.5.jar:/content/kafka_2.13-2.6.0/bin/../libs/jakarta.xml.bind-api-2.3.2.jar:/content/kafka_2.13-2.6.0/bin/../libs/javassist-3.22.0-CR2.jar:/content/kafka_2.13-2.6.0/bin/../libs/javassist-3.26.0-GA.jar:/content/kafka_2.13-2.6.0/bin/../libs/javax.servlet-api-3.1.0.jar:/content/kafka_2.13-2.6.0/bin/../libs/javax.ws.rs-api-2.1.1.jar:/content/kafka_2.13-2.6.0/bin/../libs/jaxb-api-2.3.0.jar:/content/kafka_2.13-2.6.0/bin/../libs/jersey-client-2.28.jar:/content/kafka_2.13-2.6.0/bin/../libs/jersey-common-2.28.jar:/content/kafka_2.13-2.6.0/bin/../libs/jersey-container-servlet-2.28.jar:/content/kafka_2.13-2.6.0/bin/../libs/jersey-container-servlet-core-2.28.jar:/content/kafka_2.13-2.6.0/bin/../libs/jersey-hk2-2.28.jar:/content/kafka_2.13-2.6.0/bin/../libs/jersey-media-jaxb-2.28.jar:/content/kafka_2.13-2.6.0/bin/../libs/jersey-server-2.28.jar:/content/kafka_2.13-2.6.0/bin/../libs/jetty-client-9.4.24.v20191120.jar:/content/kafka_2.13-2.6.0/bin/../libs/jetty-continuation-9.4.24.v20191120.jar:/content/kafka_2.13-2.6.0/bin/../libs/jetty-http-9.4.24.v20191120.jar:/content/kafka_2.13-2.6.0/bin/../libs/jetty-io-9.4.24.v20191120.jar:/content/kafka_2.13-2.6.0/bin/../libs/jetty-security-9.4.24.v20191120.jar:/content/kafka_2.13-2.6.0/bin/../libs/jetty-server-9.4.24.v20191120.jar:/content/kafka_2.13-2.6.0/bin/../libs/jetty-servlet-9.4.24.v20191120.jar:/content/kafka_2.13-2.6.0/bin/../libs/jetty-servlets-9.4.24.v20191120.jar:/content/kafka_2.13-2.6.0/bin/../libs/jetty-util-9.4.24.v20191120.jar:/content/kafka_2.13-2.6.0/bin/../libs/jopt-simple-5.0.4.jar:/content/kafka_2.13-2.6.0/bin/../libs/kafka_2.13-2.6.0.jar:/content/kafka_2.13-2.6.0/bin/../libs/kafka_2.13-2.6.0-sources.jar:/content/kafka_2.13-2.6.0/bin/../libs/kafka-clients-2.6.0.jar:/content/kafka_2.13-2.6.0/bin/../libs/kafka-log4j-appender-2.6.0.jar:/content/kafka_2.13-2.6.0/bin/../libs/kafka-streams-2.6.0.jar:/content/kafka_2.13-2.6.0/bin/../libs/kafka-streams-examples-2.6.0.jar:/content/kafka_2.13-2.6.0/bin/../libs/kafka-streams-scala_2.13-2.6.0.jar:/content/kafka_2.13-2.6.0/bin/../libs/kafka-streams-test-utils-2.6.0.jar:/content/kafka_2.13-2.6.0/bin/../libs/kafka-tools-2.6.0.jar:/content/kafka_2.13-2.6.0/bin/../libs/log4j-1.2.17.jar:/content/kafka_2.13-2.6.0/bin/../libs/lz4-java-1.7.1.jar:/content/kafka_2.13-2.6.0/bin/../libs/maven-artifact-3.6.3.jar:/content/kafka_2.13-2.6.0/bin/../libs/metrics-core-2.2.0.jar:/content/kafka_2.13-2.6.0/bin/../libs/netty-buffer-4.1.50.Final.jar:/content/kafka_2.13-2.6.0/bin/../libs/netty-codec-4.1.50.Final.jar:/content/kafka_2.13-2.6.0/bin/../libs/netty-common-4.1.50.Final.jar:/content/kafka_2.13-2.6.0/bin/../libs/netty-handler-4.1.50.Final.jar:/content/kafka_2.13-2.6.0/bin/../libs/netty-resolver-4.1.50.Final.jar:/content/kafka_2.13-2.6.0/bin/../libs/netty-transport-4.1.50.Final.jar:/content/kafka_2.13-2.6.0/bin/../libs/netty-transport-native-epoll-4.1.50.Final.jar:/content/kafka_2.13-2.6.0/bin/../libs/netty-transport-native-unix-common-4.1.50.Final.jar:/content/kafka_2.13-2.6.0/bin/../libs/osgi-resource-locator-1.0.1.jar:/content/kafka_2.13-2.6.0/bin/../libs/paranamer-2.8.jar:/content/kafka_2.13-2.6.0/bin/../libs/plexus-utils-3.2.1.jar:/content/kafka_2.13-2.6.0/bin/../libs/reflections-0.9.12.jar:/content/kafka_2.13-2.6.0/bin/../libs/rocksdbjni-5.18.4.jar:/content/kafka_2.13-2.6.0/bin/../libs/scala-collection-compat_2.13-2.1.6.jar:/content/kafka_2.13-2.6.0/bin/../libs/scala-java8-compat_2.13-0.9.1.jar:/content/kafka_2.13-2.6.0/bin/../libs/scala-library-2.13.2.jar:/content/kafka_2.13-2.6.0/bin/../libs/scala-logging_2.13-3.9.2.jar:/content/kafka_2.13-2.6.0/bin/../libs/scala-reflect-2.13.2.jar:/content/kafka_2.13-2.6.0/bin/../libs/slf4j-api-1.7.30.jar:/content/kafka_2.13-2.6.0/bin/../libs/slf4j-log4j12-1.7.30.jar:/content/kafka_2.13-2.6.0/bin/../libs/snappy-java-1.1.7.3.jar:/content/kafka_2.13-2.6.0/bin/../libs/validation-api-2.0.1.Final.jar:/content/kafka_2.13-2.6.0/bin/../libs/zookeeper-3.5.8.jar:/content/kafka_2.13-2.6.0/bin/../libs/zookeeper-jute-3.5.8.jar:/content/kafka_2.13-2.6.0/bin/../libs/zstd-jni-1.4.4-7.jar kafka.Kafka config/server.properties\n",
            "root        3950    1874  0 13:31 ?        00:00:00 /bin/bash -c ps -ef | grep kafka\n",
            "root        3952    3950  0 13:31 ?        00:00:00 /bin/bash -c ps -ef | grep kafka\n"
          ],
          "name": "stdout"
        }
      ]
    },
    {
      "cell_type": "markdown",
      "metadata": {
        "id": "yDYdxBcd1oGl"
      },
      "source": [
        "# Start Gemini Feed"
      ]
    },
    {
      "cell_type": "code",
      "metadata": {
        "id": "wAH3Erht2Xge"
      },
      "source": [
        "from kafka import KafkaProducer, KafkaConsumer\n",
        "import websocket\n",
        "import json\n",
        "import threading"
      ],
      "execution_count": 13,
      "outputs": []
    },
    {
      "cell_type": "code",
      "metadata": {
        "id": "n5VpX0t2NYfM"
      },
      "source": [
        "producer = KafkaProducer(bootstrap_servers=['localhost:9092'])"
      ],
      "execution_count": 14,
      "outputs": []
    },
    {
      "cell_type": "code",
      "metadata": {
        "id": "F6cIjM6U0Ow2"
      },
      "source": [
        "def on_message(ws, message):\n",
        "    message = json.loads(message)\n",
        "    if message['type'] == 'update':\n",
        "        for i in message['events']:\n",
        "            if 'side' in i:\n",
        "                payload = {'side': i['side'], 'price': i['price'], 'remaining': i['remaining']}\n",
        "                sent = producer.send(topic='gemini-feed', value=bytes(json.dumps(payload), 'utf-8'))\n",
        "        producer.flush()"
      ],
      "execution_count": 15,
      "outputs": []
    },
    {
      "cell_type": "code",
      "metadata": {
        "id": "WGYjRx9V2JsM"
      },
      "source": [
        "ws = websocket.WebSocketApp(\"wss://api.gemini.com/v1/marketdata/BTCUSD\",\n",
        "                            on_message=on_message)"
      ],
      "execution_count": 16,
      "outputs": []
    },
    {
      "cell_type": "code",
      "metadata": {
        "id": "-MSZ-U2o2Ktk"
      },
      "source": [
        "ws_thread = threading.Thread(target=ws.run_forever)\n",
        "ws_thread.setDaemon(True)\n",
        "ws_thread.start() # this will run as a daemon process"
      ],
      "execution_count": 17,
      "outputs": []
    },
    {
      "cell_type": "markdown",
      "metadata": {
        "id": "iTDVdR2MVml7"
      },
      "source": [
        "# Faust Streaming"
      ]
    },
    {
      "cell_type": "code",
      "metadata": {
        "id": "Kje6nq-EVEHf",
        "outputId": "5bad3269-0b39-437b-b8a5-eea312e50b01",
        "colab": {
          "base_uri": "https://localhost:8080/",
          "height": 1000
        }
      },
      "source": [
        "!faust -A gemini -l info worker --web-port=6066"
      ],
      "execution_count": 56,
      "outputs": [
        {
          "output_type": "stream",
          "text": [
            "\u001b(0l\u001b(B\u001b[94mƒaµS† v1.10.4\u001b[39m\u001b(0wqqqqqqqqqqqqqqqqqqqqqqqqqqqqqqqqqqqqqqqqqqk\u001b(B\n",
            "\u001b(0x\u001b(B \u001b[1mid\u001b[22m          \u001b(0x\u001b(B gemini                                   \u001b(0x\u001b(B\n",
            "\u001b(0x\u001b(B \u001b[1mtransport\u001b[22m   \u001b(0x\u001b(B [URL('kafka://localhost:9092')]          \u001b(0x\u001b(B\n",
            "\u001b(0x\u001b(B \u001b[1mstore\u001b[22m       \u001b(0x\u001b(B memory:                                  \u001b(0x\u001b(B\n",
            "\u001b(0x\u001b(B \u001b[1mweb\u001b[22m         \u001b(0x\u001b(B http://localhost:6066/                   \u001b(0x\u001b(B\n",
            "\u001b(0x\u001b(B \u001b[1mlog\u001b[22m         \u001b(0x\u001b(B -stderr- (info)                          \u001b(0x\u001b(B\n",
            "\u001b(0x\u001b(B \u001b[1mpid\u001b[22m         \u001b(0x\u001b(B 4661                                     \u001b(0x\u001b(B\n",
            "\u001b(0x\u001b(B \u001b[1mhostname\u001b[22m    \u001b(0x\u001b(B b0ce72e4e73c                             \u001b(0x\u001b(B\n",
            "\u001b(0x\u001b(B \u001b[1mplatform\u001b[22m    \u001b(0x\u001b(B CPython 3.6.9 (Linux x86_64)             \u001b(0x\u001b(B\n",
            "\u001b(0x\u001b(B \u001b[1mdrivers\u001b[22m     \u001b(0x\u001b(B                                          \u001b(0x\u001b(B\n",
            "\u001b(0x\u001b(B \u001b[1m  transport\u001b[22m \u001b(0x\u001b(B aiokafka=1.1.6                           \u001b(0x\u001b(B\n",
            "\u001b(0x\u001b(B \u001b[1m  web\u001b[22m       \u001b(0x\u001b(B aiohttp=3.6.3                            \u001b(0x\u001b(B\n",
            "\u001b(0x\u001b(B \u001b[1mdatadir\u001b[22m     \u001b(0x\u001b(B /content/gemini-data                     \u001b(0x\u001b(B\n",
            "\u001b(0x\u001b(B \u001b[1mappdir\u001b[22m      \u001b(0x\u001b(B /content/gemini-data/v1                  \u001b(0x\u001b(B\n",
            "\u001b(0mqqqqqqqqqqqqqvqqqqqqqqqqqqqqqqqqqqqqqqqqqqqqqqqqqqqqqqqqj\u001b(B\n",
            "[2020-10-15 13:49:07,347] [4661] [INFO] \u001b[37m[^Worker]: Starting... \u001b[0m\n",
            "[2020-10-15 13:49:07,351] [4661] [INFO] \u001b[37m[^-App]: Starting... \u001b[0m\n",
            "[2020-10-15 13:49:07,351] [4661] [INFO] \u001b[37m[^--Monitor]: Starting... \u001b[0m\n",
            "[2020-10-15 13:49:07,351] [4661] [INFO] \u001b[37m[^--Producer]: Starting... \u001b[0m\n",
            "[2020-10-15 13:49:07,351] [4661] [INFO] \u001b[37m[^---ProducerBuffer]: Starting... \u001b[0m\n",
            "[2020-10-15 13:49:07,360] [4661] [INFO] \u001b[37m[^--CacheBackend]: Starting... \u001b[0m\n",
            "[2020-10-15 13:49:07,360] [4661] [INFO] \u001b[37m[^--Web]: Starting... \u001b[0m\n",
            "[2020-10-15 13:49:07,361] [4661] [INFO] \u001b[37m[^---Server]: Starting... \u001b[0m\n",
            "[2020-10-15 13:49:07,362] [4661] [INFO] \u001b[37m[^--Consumer]: Starting... \u001b[0m\n",
            "[2020-10-15 13:49:07,362] [4661] [INFO] \u001b[37m[^---AIOKafkaConsumerThread]: Starting... \u001b[0m\n",
            "[2020-10-15 13:49:07,369] [4661] [INFO] \u001b[37m[^--LeaderAssignor]: Starting... \u001b[0m\n",
            "[2020-10-15 13:49:07,370] [4661] [INFO] \u001b[37m[^--Producer]: Creating topic 'gemini-__assignor-__leader' \u001b[0m\n",
            "[2020-10-15 13:49:07,375] [4661] [INFO] \u001b[37m[^--ReplyConsumer]: Starting... \u001b[0m\n",
            "[2020-10-15 13:49:07,375] [4661] [INFO] \u001b[37m[^--AgentManager]: Starting... \u001b[0m\n",
            "[2020-10-15 13:49:07,375] [4661] [INFO] \u001b[37m[^---Agent: gemini.gemini_feed_process]: Starting... \u001b[0m\n",
            "[2020-10-15 13:49:07,379] [4661] [INFO] \u001b[37m[^----OneForOneSupervisor: (1@0x7f952be3df98)]: Starting... \u001b[0m\n",
            "[2020-10-15 13:49:07,380] [4661] [INFO] \u001b[37m[^---Conductor]: Starting... \u001b[0m\n",
            "[2020-10-15 13:49:07,380] [4661] [INFO] \u001b[37m[^--TableManager]: Starting... \u001b[0m\n",
            "[2020-10-15 13:49:07,380] [4661] [INFO] \u001b[37m[^---Conductor]: Waiting for agents to start... \u001b[0m\n",
            "[2020-10-15 13:49:07,380] [4661] [INFO] \u001b[37m[^---Conductor]: Waiting for tables to be registered... \u001b[0m\n",
            "[2020-10-15 13:49:08,382] [4661] [INFO] \u001b[37m[^---Recovery]: Starting... \u001b[0m\n",
            "[2020-10-15 13:49:08,382] [4661] [INFO] \u001b[37m[^--Producer]: Creating topic 'gemini-__assignor-__leader' \u001b[0m\n",
            "[2020-10-15 13:49:08,384] [4661] [INFO] \u001b[37mUpdating subscribed topics to: \n",
            "\u001b(0l\u001b(BRequested Subscription\u001b(0qqqqqqk\u001b(B\n",
            "\u001b(0x\u001b(B topic name                 \u001b(0x\u001b(B\n",
            "\u001b(0tqqqqqqqqqqqqqqqqqqqqqqqqqqqqu\u001b(B\n",
            "\u001b(0x\u001b(B gemini-__assignor-__leader \u001b(0x\u001b(B\n",
            "\u001b(0x\u001b(B gemini-feed                \u001b(0x\u001b(B\n",
            "\u001b(0mqqqqqqqqqqqqqqqqqqqqqqqqqqqqj\u001b(B \u001b[0m\n",
            "[2020-10-15 13:49:08,386] [4661] [INFO] \u001b[37mSubscribed to topic(s): \n",
            "\u001b(0l\u001b(BFinal Subscription\u001b(0qqqqqqqqqqk\u001b(B\n",
            "\u001b(0x\u001b(B topic name                 \u001b(0x\u001b(B\n",
            "\u001b(0tqqqqqqqqqqqqqqqqqqqqqqqqqqqqu\u001b(B\n",
            "\u001b(0x\u001b(B gemini-__assignor-__leader \u001b(0x\u001b(B\n",
            "\u001b(0x\u001b(B gemini-feed                \u001b(0x\u001b(B\n",
            "\u001b(0mqqqqqqqqqqqqqqqqqqqqqqqqqqqqj\u001b(B \u001b[0m\n",
            "[2020-10-15 13:49:08,396] [4661] [INFO] \u001b[37mDiscovered coordinator 0 for group gemini \u001b[0m\n",
            "[2020-10-15 13:49:08,396] [4661] [INFO] \u001b[37mRevoking previously assigned partitions set() for group gemini \u001b[0m\n",
            "[2020-10-15 13:49:08,398] [4661] [INFO] \u001b[37m(Re-)joining group gemini \u001b[0m\n",
            "[2020-10-15 13:49:08,401] [4661] [INFO] \u001b[37mJoined group 'gemini' (generation 9) with member_id faust-1.10.4-e441f1ec-55fb-4344-89c5-0f8aa64882b4 \u001b[0m\n",
            "[2020-10-15 13:49:08,402] [4661] [INFO] \u001b[37mElected group leader -- performing partition assignments using faust \u001b[0m\n",
            "[2020-10-15 13:49:08,408] [4661] [INFO] \u001b[37mSuccessfully synced group gemini with generation 9 \u001b[0m\n",
            "[2020-10-15 13:49:08,409] [4661] [INFO] \u001b[37mSetting newly assigned partitions \n",
            "\u001b(0l\u001b(BTopic Partition Set\u001b(0qqqqqqqqqwqqqqqqqqqqqqk\u001b(B\n",
            "\u001b(0x\u001b(B topic                      \u001b(0x\u001b(B partitions \u001b(0x\u001b(B\n",
            "\u001b(0tqqqqqqqqqqqqqqqqqqqqqqqqqqqqnqqqqqqqqqqqqu\u001b(B\n",
            "\u001b(0x\u001b(B gemini-__assignor-__leader \u001b(0x\u001b(B {0}        \u001b(0x\u001b(B\n",
            "\u001b(0x\u001b(B gemini-feed                \u001b(0x\u001b(B {0}        \u001b(0x\u001b(B\n",
            "\u001b(0mqqqqqqqqqqqqqqqqqqqqqqqqqqqqvqqqqqqqqqqqqj\u001b(B for group gemini \u001b[0m\n",
            "[2020-10-15 13:49:08,412] [4661] [INFO] \u001b[37m[^---Recovery]: Resuming flow... \u001b[0m\n",
            "[2020-10-15 13:49:08,413] [4661] [INFO] \u001b[37m[^---Recovery]: Seek stream partitions to committed offsets. \u001b[0m\n",
            "[2020-10-15 13:49:08,415] [4661] [INFO] \u001b[37m[^---Fetcher]: Starting... \u001b[0m\n",
            "[2020-10-15 13:49:08,415] [4661] [INFO] \u001b[37m[^---Recovery]: Worker ready \u001b[0m\n",
            "[2020-10-15 13:49:08,416] [4661] [INFO] \u001b[37m[^Worker]: Ready \u001b[0m\n",
            "[2020-10-15 13:50:07,384] [4661] [INFO] \u001b[37m<BrokerConnection node_id=0 host=b0ce72e4e73c:9092 <connecting> [IPv4 ('172.28.0.2', 9092)]>: connecting to b0ce72e4e73c:9092 [('172.28.0.2', 9092) IPv4] \u001b[0m\n",
            "[2020-10-15 13:50:07,386] [4661] [INFO] \u001b[37m<BrokerConnection node_id=0 host=b0ce72e4e73c:9092 <connecting> [IPv4 ('172.28.0.2', 9092)]>: Connection complete. \u001b[0m\n",
            "[2020-10-15 13:50:07,387] [4661] [INFO] \u001b[37m<BrokerConnection node_id=bootstrap-0 host=localhost:9092 <connected> [IPv4 ('127.0.0.1', 9092)]>: Closing connection.  \u001b[0m\n",
            "[2020-10-15 13:50:08,418] [4661] [WARNING] \u001b[33mSIXTY SECONDS PASSED \u001b[0m\n",
            "[2020-10-15 13:51:08,417] [4661] [WARNING] \u001b[33mSIXTY SECONDS PASSED \u001b[0m\n",
            "[2020-10-15 13:52:08,420] [4661] [WARNING] \u001b[33mSIXTY SECONDS PASSED \u001b[0m\n",
            "[2020-10-15 13:53:08,418] [4661] [WARNING] \u001b[33mSIXTY SECONDS PASSED \u001b[0m\n",
            "[2020-10-15 13:54:08,421] [4661] [WARNING] \u001b[33mSIXTY SECONDS PASSED \u001b[0m\n",
            "[2020-10-15 13:55:08,420] [4661] [WARNING] \u001b[33mSIXTY SECONDS PASSED \u001b[0m\n",
            "[2020-10-15 13:56:08,424] [4661] [WARNING] \u001b[33mSIXTY SECONDS PASSED \u001b[0m\n",
            "[2020-10-15 13:57:08,423] [4661] [WARNING] \u001b[33mSIXTY SECONDS PASSED \u001b[0m\n",
            "[2020-10-15 13:58:08,426] [4661] [WARNING] \u001b[33mSIXTY SECONDS PASSED \u001b[0m\n",
            "[2020-10-15 13:59:08,424] [4661] [WARNING] \u001b[33mSIXTY SECONDS PASSED \u001b[0m\n",
            "-INT- -INT- -INT- -INT- -INT- -INT-\n",
            "[2020-10-15 13:59:27,134] [4661] [INFO] \u001b[37m[^Worker]: Signal received: Signals.SIGINT (2) \u001b[0m\n",
            "[2020-10-15 13:59:27,136] [4661] [INFO] \u001b[37m[^Worker]: Stopping... \u001b[0m\n",
            "[2020-10-15 13:59:27,136] [4661] [INFO] \u001b[37m[^-App]: Stopping... \u001b[0m\n",
            "[2020-10-15 13:59:27,137] [4661] [INFO] \u001b[37m[^---Fetcher]: Stopping... \u001b[0m\n",
            "[2020-10-15 13:59:27,137] [4661] [INFO] \u001b[37m[^--Consumer]: Consumer shutting down for user cancel. \u001b[0m\n",
            "[2020-10-15 13:59:27,137] [4661] [INFO] \u001b[37m[^-App]: Wait for streams... \u001b[0m\n",
            "[2020-10-15 13:59:36,404] [4661] [WARNING] \u001b[33m[^--Consumer]: wait_empty: Waiting for tasks [(1, <ConsumerMessage: TopicPartition(topic='gemini-feed', partition=0) offset=47694>), (1, <ConsumerMessage: TopicPartition(topic='gemini-feed', partition=0) offset=47675>), (1, <ConsumerMessage: TopicPartition(topic='gemini-feed', partition=0) offset=47732>), (1, <ConsumerMessage: TopicPartition(topic='gemini-feed', partition=0) offset=47695>), (1, <ConsumerMessage: TopicPartition(topic='gemini-feed', partition=0) offset=47676>), (1, <ConsumerMessage: TopicPartition(topic='gemini-feed', partition=0) offset=47733>), (1, <ConsumerMessage: TopicPartition(topic='gemini-feed', partition=0) offset=47696>), (1, <ConsumerMessage: TopicPartition(topic='gemini-feed', partition=0) offset=47677>), (1, <ConsumerMessage: TopicPartition(topic='gemini-feed', partition=0) offset=47734>), (1, <ConsumerMessage: TopicPartition(topic='gemini-feed', partition=0) offset=47697>), (1, <ConsumerMessage: TopicPartition(topic='gemini-feed', partition=0) offset=47678>), (1, <ConsumerMessage: TopicPartition(topic='gemini-feed', partition=0) offset=47735>), (1, <ConsumerMessage: TopicPartition(topic='gemini-feed', partition=0) offset=47698>), (1, <ConsumerMessage: TopicPartition(topic='gemini-feed', partition=0) offset=47679>), (1, <ConsumerMessage: TopicPartition(topic='gemini-feed', partition=0) offset=47736>), (1, <ConsumerMessage: TopicPartition(topic='gemini-feed', partition=0) offset=47699>), (1, <ConsumerMessage: TopicPartition(topic='gemini-feed', partition=0) offset=47680>), (1, <ConsumerMessage: TopicPartition(topic='gemini-feed', partition=0) offset=47737>), (1, <ConsumerMessage: TopicPartition(topic='gemini-feed', partition=0) offset=47700>), (1, <ConsumerMessage: TopicPartition(topic='gemini-feed', partition=0) offset=47681>), (1, <ConsumerMessage: TopicPartition(topic='gemini-feed', partition=0) offset=47738>), (1, <ConsumerMessage: TopicPartition(topic='gemini-feed', partition=0) offset=47701>), (1, <ConsumerMessage: TopicPartition(topic='gemini-feed', partition=0) offset=47682>), (1, <ConsumerMessage: TopicPartition(topic='gemini-feed', partition=0) offset=47739>), (1, <ConsumerMessage: TopicPartition(topic='gemini-feed', partition=0) offset=47702>), (1, <ConsumerMessage: TopicPartition(topic='gemini-feed', partition=0) offset=47683>), (1, <ConsumerMessage: TopicPartition(topic='gemini-feed', partition=0) offset=47740>), (1, <ConsumerMessage: TopicPartition(topic='gemini-feed', partition=0) offset=47703>), (1, <ConsumerMessage: TopicPartition(topic='gemini-feed', partition=0) offset=47684>), (1, <ConsumerMessage: TopicPartition(topic='gemini-feed', partition=0) offset=47741>), (1, <ConsumerMessage: TopicPartition(topic='gemini-feed', partition=0) offset=47704>), (1, <ConsumerMessage: TopicPartition(topic='gemini-feed', partition=0) offset=47685>), (1, <ConsumerMessage: TopicPartition(topic='gemini-feed', partition=0) offset=47705>), (1, <ConsumerMessage: TopicPartition(topic='gemini-feed', partition=0) offset=47686>), (1, <ConsumerMessage: TopicPartition(topic='gemini-feed', partition=0) offset=47594>), (1, <ConsumerMessage: TopicPartition(topic='gemini-feed', partition=0) offset=47706>), (1, <ConsumerMessage: TopicPartition(topic='gemini-feed', partition=0) offset=47687>), (1, <ConsumerMessage: TopicPartition(topic='gemini-feed', partition=0) offset=47593>), (1, <ConsumerMessage: TopicPartition(topic='gemini-feed', partition=0) offset=47707>), (1, <ConsumerMessage: TopicPartition(topic='gemini-feed', partition=0) offset=47688>), (1, <ConsumerMessage: TopicPartition(topic='gemini-feed', partition=0) offset=47595>), (1, <ConsumerMessage: TopicPartition(topic='gemini-feed', partition=0) offset=47708>), (1, <ConsumerMessage: TopicPartition(topic='gemini-feed', partition=0) offset=47689>), (1, <ConsumerMessage: TopicPartition(topic='gemini-feed', partition=0) offset=47596>), (1, <ConsumerMessage: TopicPartition(topic='gemini-feed', partition=0) offset=47709>), (1, <ConsumerMessage: TopicPartition(topic='gemini-feed', partition=0) offset=47690>), (1, <ConsumerMessage: TopicPartition(topic='gemini-feed', partition=0) offset=47597>), (1, <ConsumerMessage: TopicPartition(topic='gemini-feed', partition=0) offset=47710>), (1, <ConsumerMessage: TopicPartition(topic='gemini-feed', partition=0) offset=47691>), (1, <ConsumerMessage: TopicPartition(topic='gemini-feed', partition=0) offset=47598>), (1, <ConsumerMessage: TopicPartition(topic='gemini-feed', partition=0) offset=47711>), (1, <ConsumerMessage: TopicPartition(topic='gemini-feed', partition=0) offset=47692>), (1, <ConsumerMessage: TopicPartition(topic='gemini-feed', partition=0) offset=47599>), (1, <ConsumerMessage: TopicPartition(topic='gemini-feed', partition=0) offset=47712>), (1, <ConsumerMessage: TopicPartition(topic='gemini-feed', partition=0) offset=47693>), (1, <ConsumerMessage: TopicPartition(topic='gemini-feed', partition=0) offset=47713>), (1, <ConsumerMessage: TopicPartition(topic='gemini-feed', partition=0) offset=47637>), (1, <ConsumerMessage: TopicPartition(topic='gemini-feed', partition=0) offset=47600>), (1, <ConsumerMessage: TopicPartition(topic='gemini-feed', partition=0) offset=47714>), (1, <ConsumerMessage: TopicPartition(topic='gemini-feed', partition=0) offset=47638>), (1, <ConsumerMessage: TopicPartition(topic='gemini-feed', partition=0) offset=47601>), (1, <ConsumerMessage: TopicPartition(topic='gemini-feed', partition=0) offset=47715>), (1, <ConsumerMessage: TopicPartition(topic='gemini-feed', partition=0) offset=47639>), (1, <ConsumerMessage: TopicPartition(topic='gemini-feed', partition=0) offset=47602>), (1, <ConsumerMessage: TopicPartition(topic='gemini-feed', partition=0) offset=47716>), (1, <ConsumerMessage: TopicPartition(topic='gemini-feed', partition=0) offset=47640>), (1, <ConsumerMessage: TopicPartition(topic='gemini-feed', partition=0) offset=47603>), (1, <ConsumerMessage: TopicPartition(topic='gemini-feed', partition=0) offset=47717>), (1, <ConsumerMessage: TopicPartition(topic='gemini-feed', partition=0) offset=47641>), (1, <ConsumerMessage: TopicPartition(topic='gemini-feed', partition=0) offset=47604>), (1, <ConsumerMessage: TopicPartition(topic='gemini-feed', partition=0) offset=47718>), (1, <ConsumerMessage: TopicPartition(topic='gemini-feed', partition=0) offset=47642>), (1, <ConsumerMessage: TopicPartition(topic='gemini-feed', partition=0) offset=47719>), (1, <ConsumerMessage: TopicPartition(topic='gemini-feed', partition=0) offset=47643>), (1, <ConsumerMessage: TopicPartition(topic='gemini-feed', partition=0) offset=47606>), (1, <ConsumerMessage: TopicPartition(topic='gemini-feed', partition=0) offset=47720>), (1, <ConsumerMessage: TopicPartition(topic='gemini-feed', partition=0) offset=47644>), (1, <ConsumerMessage: TopicPartition(topic='gemini-feed', partition=0) offset=47605>), (1, <ConsumerMessage: TopicPartition(topic='gemini-feed', partition=0) offset=47721>), (1, <ConsumerMessage: TopicPartition(topic='gemini-feed', partition=0) offset=47645>), (1, <ConsumerMessage: TopicPartition(topic='gemini-feed', partition=0) offset=47607>), (1, <ConsumerMessage: TopicPartition(topic='gemini-feed', partition=0) offset=47722>), (1, <ConsumerMessage: TopicPartition(topic='gemini-feed', partition=0) offset=47646>), (1, <ConsumerMessage: TopicPartition(topic='gemini-feed', partition=0) offset=47608>), (1, <ConsumerMessage: TopicPartition(topic='gemini-feed', partition=0) offset=47723>), (1, <ConsumerMessage: TopicPartition(topic='gemini-feed', partition=0) offset=47647>), (1, <ConsumerMessage: TopicPartition(topic='gemini-feed', partition=0) offset=47609>), (1, <ConsumerMessage: TopicPartition(topic='gemini-feed', partition=0) offset=47724>), (1, <ConsumerMessage: TopicPartition(topic='gemini-feed', partition=0) offset=47648>), (1, <ConsumerMessage: TopicPartition(topic='gemini-feed', partition=0) offset=47610>), (1, <ConsumerMessage: TopicPartition(topic='gemini-feed', partition=0) offset=47725>), (1, <ConsumerMessage: TopicPartition(topic='gemini-feed', partition=0) offset=47649>), (1, <ConsumerMessage: TopicPartition(topic='gemini-feed', partition=0) offset=47611>), (1, <ConsumerMessage: TopicPartition(topic='gemini-feed', partition=0) offset=47726>), (1, <ConsumerMessage: TopicPartition(topic='gemini-feed', partition=0) offset=47650>), (1, <ConsumerMessage: TopicPartition(topic='gemini-feed', partition=0) offset=47612>), (1, <ConsumerMessage: TopicPartition(topic='gemini-feed', partition=0) offset=47727>), (1, <ConsumerMessage: TopicPartition(topic='gemini-feed', partition=0) offset=47651>), (1, <ConsumerMessage: TopicPartition(topic='gemini-feed', partition=0) offset=47613>), (1, <ConsumerMessage: TopicPartition(topic='gemini-feed', partition=0) offset=47728>), (1, <ConsumerMessage: TopicPartition(topic='gemini-feed', partition=0) offset=47652>), (1, <ConsumerMessage: TopicPartition(topic='gemini-feed', partition=0) offset=47614>), (1, <ConsumerMessage: TopicPartition(topic='gemini-feed', partition=0) offset=47729>), (1, <ConsumerMessage: TopicPartition(topic='gemini-feed', partition=0) offset=47653>), (1, <ConsumerMessage: TopicPartition(topic='gemini-feed', partition=0) offset=47615>), (1, <ConsumerMessage: TopicPartition(topic='gemini-feed', partition=0) offset=47730>), (1, <ConsumerMessage: TopicPartition(topic='gemini-feed', partition=0) offset=47654>), (1, <ConsumerMessage: TopicPartition(topic='gemini-feed', partition=0) offset=47616>), (1, <ConsumerMessage: TopicPartition(topic='gemini-feed', partition=0) offset=47731>), (1, <ConsumerMessage: TopicPartition(topic='gemini-feed', partition=0) offset=47655>), (1, <ConsumerMessage: TopicPartition(topic='gemini-feed', partition=0) offset=47617>), (1, <ConsumerMessage: TopicPartition(topic='gemini-feed', partition=0) offset=47618>), (1, <ConsumerMessage: TopicPartition(topic='gemini-feed', partition=0) offset=47656>), (1, <ConsumerMessage: TopicPartition(topic='gemini-feed', partition=0) offset=47619>), (1, <ConsumerMessage: TopicPartition(topic='gemini-feed', partition=0) offset=47657>), (1, <ConsumerMessage: TopicPartition(topic='gemini-feed', partition=0) offset=47620>), (1, <ConsumerMessage: TopicPartition(topic='gemini-feed', partition=0) offset=47658>), (1, <ConsumerMessage: TopicPartition(topic='gemini-feed', partition=0) offset=47621>), (1, <ConsumerMessage: TopicPartition(topic='gemini-feed', partition=0) offset=47659>), (1, <ConsumerMessage: TopicPartition(topic='gemini-feed', partition=0) offset=47622>), (1, <ConsumerMessage: TopicPartition(topic='gemini-feed', partition=0) offset=47660>), (1, <ConsumerMessage: TopicPartition(topic='gemini-feed', partition=0) offset=47623>), (1, <ConsumerMessage: TopicPartition(topic='gemini-feed', partition=0) offset=47661>), (1, <ConsumerMessage: TopicPartition(topic='gemini-feed', partition=0) offset=47624>), (1, <ConsumerMessage: TopicPartition(topic='gemini-feed', partition=0) offset=47662>), (1, <ConsumerMessage: TopicPartition(topic='gemini-feed', partition=0) offset=47625>), (1, <ConsumerMessage: TopicPartition(topic='gemini-feed', partition=0) offset=47663>), (1, <ConsumerMessage: TopicPartition(topic='gemini-feed', partition=0) offset=47626>), (1, <ConsumerMessage: TopicPartition(topic='gemini-feed', partition=0) offset=47664>), (1, <ConsumerMessage: TopicPartition(topic='gemini-feed', partition=0) offset=47627>), (1, <ConsumerMessage: TopicPartition(topic='gemini-feed', partition=0) offset=47665>), (1, <ConsumerMessage: TopicPartition(topic='gemini-feed', partition=0) offset=47628>), (1, <ConsumerMessage: TopicPartition(topic='gemini-feed', partition=0) offset=47666>), (1, <ConsumerMessage: TopicPartition(topic='gemini-feed', partition=0) offset=47629>), (1, <ConsumerMessage: TopicPartition(topic='gemini-feed', partition=0) offset=47667>), (1, <ConsumerMessage: TopicPartition(topic='gemini-feed', partition=0) offset=47630>), (1, <ConsumerMessage: TopicPartition(topic='gemini-feed', partition=0) offset=47668>), (1, <ConsumerMessage: TopicPartition(topic='gemini-feed', partition=0) offset=47631>), (1, <ConsumerMessage: TopicPartition(topic='gemini-feed', partition=0) offset=47669>), (1, <ConsumerMessage: TopicPartition(topic='gemini-feed', partition=0) offset=47632>), (1, <ConsumerMessage: TopicPartition(topic='gemini-feed', partition=0) offset=47670>), (1, <ConsumerMessage: TopicPartition(topic='gemini-feed', partition=0) offset=47633>), (1, <ConsumerMessage: TopicPartition(topic='gemini-feed', partition=0) offset=47671>), (1, <ConsumerMessage: TopicPartition(topic='gemini-feed', partition=0) offset=47634>), (1, <ConsumerMessage: TopicPartition(topic='gemini-feed', partition=0) offset=47672>), (1, <ConsumerMessage: TopicPartition(topic='gemini-feed', partition=0) offset=47635>), (1, <ConsumerMessage: TopicPartition(topic='gemini-feed', partition=0) offset=47673>), (1, <ConsumerMessage: TopicPartition(topic='gemini-feed', partition=0) offset=47636>), (1, <ConsumerMessage: TopicPartition(topic='gemini-feed', partition=0) offset=47674>)] \u001b[0m\n",
            "[2020-10-15 13:59:36,470] [4661] [INFO] \u001b[37m[^--Consumer]: Agent tracebacks:\n",
            "\n",
            "=======================================\n",
            " TRACEBACK OF ALL RUNNING AGENT ACTORS\n",
            "=======================================\n",
            "\n",
            "\n",
            "* gemini.gemini_feed_process ----->\n",
            "============================================================\n",
            "['Stack for <coroutine object gemini_feed_process at 0x7f952b6112b0> (most recent call last):\\n  File \"/content/gemini.py\", line 35, in gemini_feed_process\\n    async for messages in stream.take(1e6, within=60):\\n  File \"async_generator_asend\", line -1, in [rest of traceback truncated]\\n']\n",
            "\n",
            "\n",
            "\n",
            "-eof tracebacks- :-)\n",
            " \u001b[0m\n",
            "[2020-10-15 13:59:46,767] [4661] [WARNING] \u001b[33m[^--Consumer]: wait_empty: Waiting for tasks [(1, <ConsumerMessage: TopicPartition(topic='gemini-feed', partition=0) offset=47694>), (1, <ConsumerMessage: TopicPartition(topic='gemini-feed', partition=0) offset=47675>), (1, <ConsumerMessage: TopicPartition(topic='gemini-feed', partition=0) offset=47732>), (1, <ConsumerMessage: TopicPartition(topic='gemini-feed', partition=0) offset=47695>), (1, <ConsumerMessage: TopicPartition(topic='gemini-feed', partition=0) offset=47676>), (1, <ConsumerMessage: TopicPartition(topic='gemini-feed', partition=0) offset=47733>), (1, <ConsumerMessage: TopicPartition(topic='gemini-feed', partition=0) offset=47696>), (1, <ConsumerMessage: TopicPartition(topic='gemini-feed', partition=0) offset=47677>), (1, <ConsumerMessage: TopicPartition(topic='gemini-feed', partition=0) offset=47734>), (1, <ConsumerMessage: TopicPartition(topic='gemini-feed', partition=0) offset=47697>), (1, <ConsumerMessage: TopicPartition(topic='gemini-feed', partition=0) offset=47678>), (1, <ConsumerMessage: TopicPartition(topic='gemini-feed', partition=0) offset=47735>), (1, <ConsumerMessage: TopicPartition(topic='gemini-feed', partition=0) offset=47698>), (1, <ConsumerMessage: TopicPartition(topic='gemini-feed', partition=0) offset=47679>), (1, <ConsumerMessage: TopicPartition(topic='gemini-feed', partition=0) offset=47736>), (1, <ConsumerMessage: TopicPartition(topic='gemini-feed', partition=0) offset=47699>), (1, <ConsumerMessage: TopicPartition(topic='gemini-feed', partition=0) offset=47680>), (1, <ConsumerMessage: TopicPartition(topic='gemini-feed', partition=0) offset=47737>), (1, <ConsumerMessage: TopicPartition(topic='gemini-feed', partition=0) offset=47700>), (1, <ConsumerMessage: TopicPartition(topic='gemini-feed', partition=0) offset=47681>), (1, <ConsumerMessage: TopicPartition(topic='gemini-feed', partition=0) offset=47738>), (1, <ConsumerMessage: TopicPartition(topic='gemini-feed', partition=0) offset=47701>), (1, <ConsumerMessage: TopicPartition(topic='gemini-feed', partition=0) offset=47682>), (1, <ConsumerMessage: TopicPartition(topic='gemini-feed', partition=0) offset=47739>), (1, <ConsumerMessage: TopicPartition(topic='gemini-feed', partition=0) offset=47702>), (1, <ConsumerMessage: TopicPartition(topic='gemini-feed', partition=0) offset=47683>), (1, <ConsumerMessage: TopicPartition(topic='gemini-feed', partition=0) offset=47740>), (1, <ConsumerMessage: TopicPartition(topic='gemini-feed', partition=0) offset=47703>), (1, <ConsumerMessage: TopicPartition(topic='gemini-feed', partition=0) offset=47684>), (1, <ConsumerMessage: TopicPartition(topic='gemini-feed', partition=0) offset=47741>), (1, <ConsumerMessage: TopicPartition(topic='gemini-feed', partition=0) offset=47704>), (1, <ConsumerMessage: TopicPartition(topic='gemini-feed', partition=0) offset=47685>), (1, <ConsumerMessage: TopicPartition(topic='gemini-feed', partition=0) offset=47705>), (1, <ConsumerMessage: TopicPartition(topic='gemini-feed', partition=0) offset=47686>), (1, <ConsumerMessage: TopicPartition(topic='gemini-feed', partition=0) offset=47594>), (1, <ConsumerMessage: TopicPartition(topic='gemini-feed', partition=0) offset=47706>), (1, <ConsumerMessage: TopicPartition(topic='gemini-feed', partition=0) offset=47687>), (1, <ConsumerMessage: TopicPartition(topic='gemini-feed', partition=0) offset=47593>), (1, <ConsumerMessage: TopicPartition(topic='gemini-feed', partition=0) offset=47707>), (1, <ConsumerMessage: TopicPartition(topic='gemini-feed', partition=0) offset=47688>), (1, <ConsumerMessage: TopicPartition(topic='gemini-feed', partition=0) offset=47595>), (1, <ConsumerMessage: TopicPartition(topic='gemini-feed', partition=0) offset=47708>), (1, <ConsumerMessage: TopicPartition(topic='gemini-feed', partition=0) offset=47689>), (1, <ConsumerMessage: TopicPartition(topic='gemini-feed', partition=0) offset=47596>), (1, <ConsumerMessage: TopicPartition(topic='gemini-feed', partition=0) offset=47709>), (1, <ConsumerMessage: TopicPartition(topic='gemini-feed', partition=0) offset=47690>), (1, <ConsumerMessage: TopicPartition(topic='gemini-feed', partition=0) offset=47597>), (1, <ConsumerMessage: TopicPartition(topic='gemini-feed', partition=0) offset=47710>), (1, <ConsumerMessage: TopicPartition(topic='gemini-feed', partition=0) offset=47691>), (1, <ConsumerMessage: TopicPartition(topic='gemini-feed', partition=0) offset=47598>), (1, <ConsumerMessage: TopicPartition(topic='gemini-feed', partition=0) offset=47711>), (1, <ConsumerMessage: TopicPartition(topic='gemini-feed', partition=0) offset=47692>), (1, <ConsumerMessage: TopicPartition(topic='gemini-feed', partition=0) offset=47599>), (1, <ConsumerMessage: TopicPartition(topic='gemini-feed', partition=0) offset=47712>), (1, <ConsumerMessage: TopicPartition(topic='gemini-feed', partition=0) offset=47693>), (1, <ConsumerMessage: TopicPartition(topic='gemini-feed', partition=0) offset=47713>), (1, <ConsumerMessage: TopicPartition(topic='gemini-feed', partition=0) offset=47637>), (1, <ConsumerMessage: TopicPartition(topic='gemini-feed', partition=0) offset=47600>), (1, <ConsumerMessage: TopicPartition(topic='gemini-feed', partition=0) offset=47714>), (1, <ConsumerMessage: TopicPartition(topic='gemini-feed', partition=0) offset=47638>), (1, <ConsumerMessage: TopicPartition(topic='gemini-feed', partition=0) offset=47601>), (1, <ConsumerMessage: TopicPartition(topic='gemini-feed', partition=0) offset=47715>), (1, <ConsumerMessage: TopicPartition(topic='gemini-feed', partition=0) offset=47639>), (1, <ConsumerMessage: TopicPartition(topic='gemini-feed', partition=0) offset=47602>), (1, <ConsumerMessage: TopicPartition(topic='gemini-feed', partition=0) offset=47716>), (1, <ConsumerMessage: TopicPartition(topic='gemini-feed', partition=0) offset=47640>), (1, <ConsumerMessage: TopicPartition(topic='gemini-feed', partition=0) offset=47603>), (1, <ConsumerMessage: TopicPartition(topic='gemini-feed', partition=0) offset=47717>), (1, <ConsumerMessage: TopicPartition(topic='gemini-feed', partition=0) offset=47641>), (1, <ConsumerMessage: TopicPartition(topic='gemini-feed', partition=0) offset=47604>), (1, <ConsumerMessage: TopicPartition(topic='gemini-feed', partition=0) offset=47718>), (1, <ConsumerMessage: TopicPartition(topic='gemini-feed', partition=0) offset=47642>), (1, <ConsumerMessage: TopicPartition(topic='gemini-feed', partition=0) offset=47719>), (1, <ConsumerMessage: TopicPartition(topic='gemini-feed', partition=0) offset=47643>), (1, <ConsumerMessage: TopicPartition(topic='gemini-feed', partition=0) offset=47606>), (1, <ConsumerMessage: TopicPartition(topic='gemini-feed', partition=0) offset=47720>), (1, <ConsumerMessage: TopicPartition(topic='gemini-feed', partition=0) offset=47644>), (1, <ConsumerMessage: TopicPartition(topic='gemini-feed', partition=0) offset=47605>), (1, <ConsumerMessage: TopicPartition(topic='gemini-feed', partition=0) offset=47721>), (1, <ConsumerMessage: TopicPartition(topic='gemini-feed', partition=0) offset=47645>), (1, <ConsumerMessage: TopicPartition(topic='gemini-feed', partition=0) offset=47607>), (1, <ConsumerMessage: TopicPartition(topic='gemini-feed', partition=0) offset=47722>), (1, <ConsumerMessage: TopicPartition(topic='gemini-feed', partition=0) offset=47646>), (1, <ConsumerMessage: TopicPartition(topic='gemini-feed', partition=0) offset=47608>), (1, <ConsumerMessage: TopicPartition(topic='gemini-feed', partition=0) offset=47723>), (1, <ConsumerMessage: TopicPartition(topic='gemini-feed', partition=0) offset=47647>), (1, <ConsumerMessage: TopicPartition(topic='gemini-feed', partition=0) offset=47609>), (1, <ConsumerMessage: TopicPartition(topic='gemini-feed', partition=0) offset=47724>), (1, <ConsumerMessage: TopicPartition(topic='gemini-feed', partition=0) offset=47648>), (1, <ConsumerMessage: TopicPartition(topic='gemini-feed', partition=0) offset=47610>), (1, <ConsumerMessage: TopicPartition(topic='gemini-feed', partition=0) offset=47725>), (1, <ConsumerMessage: TopicPartition(topic='gemini-feed', partition=0) offset=47649>), (1, <ConsumerMessage: TopicPartition(topic='gemini-feed', partition=0) offset=47611>), (1, <ConsumerMessage: TopicPartition(topic='gemini-feed', partition=0) offset=47726>), (1, <ConsumerMessage: TopicPartition(topic='gemini-feed', partition=0) offset=47650>), (1, <ConsumerMessage: TopicPartition(topic='gemini-feed', partition=0) offset=47612>), (1, <ConsumerMessage: TopicPartition(topic='gemini-feed', partition=0) offset=47727>), (1, <ConsumerMessage: TopicPartition(topic='gemini-feed', partition=0) offset=47651>), (1, <ConsumerMessage: TopicPartition(topic='gemini-feed', partition=0) offset=47613>), (1, <ConsumerMessage: TopicPartition(topic='gemini-feed', partition=0) offset=47728>), (1, <ConsumerMessage: TopicPartition(topic='gemini-feed', partition=0) offset=47652>), (1, <ConsumerMessage: TopicPartition(topic='gemini-feed', partition=0) offset=47614>), (1, <ConsumerMessage: TopicPartition(topic='gemini-feed', partition=0) offset=47729>), (1, <ConsumerMessage: TopicPartition(topic='gemini-feed', partition=0) offset=47653>), (1, <ConsumerMessage: TopicPartition(topic='gemini-feed', partition=0) offset=47615>), (1, <ConsumerMessage: TopicPartition(topic='gemini-feed', partition=0) offset=47730>), (1, <ConsumerMessage: TopicPartition(topic='gemini-feed', partition=0) offset=47654>), (1, <ConsumerMessage: TopicPartition(topic='gemini-feed', partition=0) offset=47616>), (1, <ConsumerMessage: TopicPartition(topic='gemini-feed', partition=0) offset=47731>), (1, <ConsumerMessage: TopicPartition(topic='gemini-feed', partition=0) offset=47655>), (1, <ConsumerMessage: TopicPartition(topic='gemini-feed', partition=0) offset=47617>), (1, <ConsumerMessage: TopicPartition(topic='gemini-feed', partition=0) offset=47618>), (1, <ConsumerMessage: TopicPartition(topic='gemini-feed', partition=0) offset=47656>), (1, <ConsumerMessage: TopicPartition(topic='gemini-feed', partition=0) offset=47619>), (1, <ConsumerMessage: TopicPartition(topic='gemini-feed', partition=0) offset=47657>), (1, <ConsumerMessage: TopicPartition(topic='gemini-feed', partition=0) offset=47620>), (1, <ConsumerMessage: TopicPartition(topic='gemini-feed', partition=0) offset=47658>), (1, <ConsumerMessage: TopicPartition(topic='gemini-feed', partition=0) offset=47621>), (1, <ConsumerMessage: TopicPartition(topic='gemini-feed', partition=0) offset=47659>), (1, <ConsumerMessage: TopicPartition(topic='gemini-feed', partition=0) offset=47622>), (1, <ConsumerMessage: TopicPartition(topic='gemini-feed', partition=0) offset=47660>), (1, <ConsumerMessage: TopicPartition(topic='gemini-feed', partition=0) offset=47623>), (1, <ConsumerMessage: TopicPartition(topic='gemini-feed', partition=0) offset=47661>), (1, <ConsumerMessage: TopicPartition(topic='gemini-feed', partition=0) offset=47624>), (1, <ConsumerMessage: TopicPartition(topic='gemini-feed', partition=0) offset=47662>), (1, <ConsumerMessage: TopicPartition(topic='gemini-feed', partition=0) offset=47625>), (1, <ConsumerMessage: TopicPartition(topic='gemini-feed', partition=0) offset=47663>), (1, <ConsumerMessage: TopicPartition(topic='gemini-feed', partition=0) offset=47626>), (1, <ConsumerMessage: TopicPartition(topic='gemini-feed', partition=0) offset=47664>), (1, <ConsumerMessage: TopicPartition(topic='gemini-feed', partition=0) offset=47627>), (1, <ConsumerMessage: TopicPartition(topic='gemini-feed', partition=0) offset=47665>), (1, <ConsumerMessage: TopicPartition(topic='gemini-feed', partition=0) offset=47628>), (1, <ConsumerMessage: TopicPartition(topic='gemini-feed', partition=0) offset=47666>), (1, <ConsumerMessage: TopicPartition(topic='gemini-feed', partition=0) offset=47629>), (1, <ConsumerMessage: TopicPartition(topic='gemini-feed', partition=0) offset=47667>), (1, <ConsumerMessage: TopicPartition(topic='gemini-feed', partition=0) offset=47630>), (1, <ConsumerMessage: TopicPartition(topic='gemini-feed', partition=0) offset=47668>), (1, <ConsumerMessage: TopicPartition(topic='gemini-feed', partition=0) offset=47631>), (1, <ConsumerMessage: TopicPartition(topic='gemini-feed', partition=0) offset=47669>), (1, <ConsumerMessage: TopicPartition(topic='gemini-feed', partition=0) offset=47632>), (1, <ConsumerMessage: TopicPartition(topic='gemini-feed', partition=0) offset=47670>), (1, <ConsumerMessage: TopicPartition(topic='gemini-feed', partition=0) offset=47633>), (1, <ConsumerMessage: TopicPartition(topic='gemini-feed', partition=0) offset=47671>), (1, <ConsumerMessage: TopicPartition(topic='gemini-feed', partition=0) offset=47634>), (1, <ConsumerMessage: TopicPartition(topic='gemini-feed', partition=0) offset=47672>), (1, <ConsumerMessage: TopicPartition(topic='gemini-feed', partition=0) offset=47635>), (1, <ConsumerMessage: TopicPartition(topic='gemini-feed', partition=0) offset=47673>), (1, <ConsumerMessage: TopicPartition(topic='gemini-feed', partition=0) offset=47636>), (1, <ConsumerMessage: TopicPartition(topic='gemini-feed', partition=0) offset=47674>)] \u001b[0m\n",
            "[2020-10-15 13:59:46,812] [4661] [INFO] \u001b[37m[^--Consumer]: Agent tracebacks:\n",
            "\n",
            "=======================================\n",
            " TRACEBACK OF ALL RUNNING AGENT ACTORS\n",
            "=======================================\n",
            "\n",
            "\n",
            "* gemini.gemini_feed_process ----->\n",
            "============================================================\n",
            "['Stack for <coroutine object gemini_feed_process at 0x7f952b6112b0> (most recent call last):\\n  File \"/content/gemini.py\", line 35, in gemini_feed_process\\n    async for messages in stream.take(1e6, within=60):\\n  File \"async_generator_asend\", line -1, in [rest of traceback truncated]\\n']\n",
            "\n",
            "\n",
            "\n",
            "-eof tracebacks- :-)\n",
            " \u001b[0m\n",
            "[2020-10-15 13:59:57,115] [4661] [WARNING] \u001b[33m[^--Consumer]: wait_empty: Waiting for tasks [(1, <ConsumerMessage: TopicPartition(topic='gemini-feed', partition=0) offset=47694>), (1, <ConsumerMessage: TopicPartition(topic='gemini-feed', partition=0) offset=47675>), (1, <ConsumerMessage: TopicPartition(topic='gemini-feed', partition=0) offset=47732>), (1, <ConsumerMessage: TopicPartition(topic='gemini-feed', partition=0) offset=47695>), (1, <ConsumerMessage: TopicPartition(topic='gemini-feed', partition=0) offset=47676>), (1, <ConsumerMessage: TopicPartition(topic='gemini-feed', partition=0) offset=47733>), (1, <ConsumerMessage: TopicPartition(topic='gemini-feed', partition=0) offset=47696>), (1, <ConsumerMessage: TopicPartition(topic='gemini-feed', partition=0) offset=47677>), (1, <ConsumerMessage: TopicPartition(topic='gemini-feed', partition=0) offset=47734>), (1, <ConsumerMessage: TopicPartition(topic='gemini-feed', partition=0) offset=47697>), (1, <ConsumerMessage: TopicPartition(topic='gemini-feed', partition=0) offset=47678>), (1, <ConsumerMessage: TopicPartition(topic='gemini-feed', partition=0) offset=47735>), (1, <ConsumerMessage: TopicPartition(topic='gemini-feed', partition=0) offset=47698>), (1, <ConsumerMessage: TopicPartition(topic='gemini-feed', partition=0) offset=47679>), (1, <ConsumerMessage: TopicPartition(topic='gemini-feed', partition=0) offset=47736>), (1, <ConsumerMessage: TopicPartition(topic='gemini-feed', partition=0) offset=47699>), (1, <ConsumerMessage: TopicPartition(topic='gemini-feed', partition=0) offset=47680>), (1, <ConsumerMessage: TopicPartition(topic='gemini-feed', partition=0) offset=47737>), (1, <ConsumerMessage: TopicPartition(topic='gemini-feed', partition=0) offset=47700>), (1, <ConsumerMessage: TopicPartition(topic='gemini-feed', partition=0) offset=47681>), (1, <ConsumerMessage: TopicPartition(topic='gemini-feed', partition=0) offset=47738>), (1, <ConsumerMessage: TopicPartition(topic='gemini-feed', partition=0) offset=47701>), (1, <ConsumerMessage: TopicPartition(topic='gemini-feed', partition=0) offset=47682>), (1, <ConsumerMessage: TopicPartition(topic='gemini-feed', partition=0) offset=47739>), (1, <ConsumerMessage: TopicPartition(topic='gemini-feed', partition=0) offset=47702>), (1, <ConsumerMessage: TopicPartition(topic='gemini-feed', partition=0) offset=47683>), (1, <ConsumerMessage: TopicPartition(topic='gemini-feed', partition=0) offset=47740>), (1, <ConsumerMessage: TopicPartition(topic='gemini-feed', partition=0) offset=47703>), (1, <ConsumerMessage: TopicPartition(topic='gemini-feed', partition=0) offset=47684>), (1, <ConsumerMessage: TopicPartition(topic='gemini-feed', partition=0) offset=47741>), (1, <ConsumerMessage: TopicPartition(topic='gemini-feed', partition=0) offset=47704>), (1, <ConsumerMessage: TopicPartition(topic='gemini-feed', partition=0) offset=47685>), (1, <ConsumerMessage: TopicPartition(topic='gemini-feed', partition=0) offset=47705>), (1, <ConsumerMessage: TopicPartition(topic='gemini-feed', partition=0) offset=47686>), (1, <ConsumerMessage: TopicPartition(topic='gemini-feed', partition=0) offset=47594>), (1, <ConsumerMessage: TopicPartition(topic='gemini-feed', partition=0) offset=47706>), (1, <ConsumerMessage: TopicPartition(topic='gemini-feed', partition=0) offset=47687>), (1, <ConsumerMessage: TopicPartition(topic='gemini-feed', partition=0) offset=47593>), (1, <ConsumerMessage: TopicPartition(topic='gemini-feed', partition=0) offset=47707>), (1, <ConsumerMessage: TopicPartition(topic='gemini-feed', partition=0) offset=47688>), (1, <ConsumerMessage: TopicPartition(topic='gemini-feed', partition=0) offset=47595>), (1, <ConsumerMessage: TopicPartition(topic='gemini-feed', partition=0) offset=47708>), (1, <ConsumerMessage: TopicPartition(topic='gemini-feed', partition=0) offset=47689>), (1, <ConsumerMessage: TopicPartition(topic='gemini-feed', partition=0) offset=47596>), (1, <ConsumerMessage: TopicPartition(topic='gemini-feed', partition=0) offset=47709>), (1, <ConsumerMessage: TopicPartition(topic='gemini-feed', partition=0) offset=47690>), (1, <ConsumerMessage: TopicPartition(topic='gemini-feed', partition=0) offset=47597>), (1, <ConsumerMessage: TopicPartition(topic='gemini-feed', partition=0) offset=47710>), (1, <ConsumerMessage: TopicPartition(topic='gemini-feed', partition=0) offset=47691>), (1, <ConsumerMessage: TopicPartition(topic='gemini-feed', partition=0) offset=47598>), (1, <ConsumerMessage: TopicPartition(topic='gemini-feed', partition=0) offset=47711>), (1, <ConsumerMessage: TopicPartition(topic='gemini-feed', partition=0) offset=47692>), (1, <ConsumerMessage: TopicPartition(topic='gemini-feed', partition=0) offset=47599>), (1, <ConsumerMessage: TopicPartition(topic='gemini-feed', partition=0) offset=47712>), (1, <ConsumerMessage: TopicPartition(topic='gemini-feed', partition=0) offset=47693>), (1, <ConsumerMessage: TopicPartition(topic='gemini-feed', partition=0) offset=47713>), (1, <ConsumerMessage: TopicPartition(topic='gemini-feed', partition=0) offset=47637>), (1, <ConsumerMessage: TopicPartition(topic='gemini-feed', partition=0) offset=47600>), (1, <ConsumerMessage: TopicPartition(topic='gemini-feed', partition=0) offset=47714>), (1, <ConsumerMessage: TopicPartition(topic='gemini-feed', partition=0) offset=47638>), (1, <ConsumerMessage: TopicPartition(topic='gemini-feed', partition=0) offset=47601>), (1, <ConsumerMessage: TopicPartition(topic='gemini-feed', partition=0) offset=47715>), (1, <ConsumerMessage: TopicPartition(topic='gemini-feed', partition=0) offset=47639>), (1, <ConsumerMessage: TopicPartition(topic='gemini-feed', partition=0) offset=47602>), (1, <ConsumerMessage: TopicPartition(topic='gemini-feed', partition=0) offset=47716>), (1, <ConsumerMessage: TopicPartition(topic='gemini-feed', partition=0) offset=47640>), (1, <ConsumerMessage: TopicPartition(topic='gemini-feed', partition=0) offset=47603>), (1, <ConsumerMessage: TopicPartition(topic='gemini-feed', partition=0) offset=47717>), (1, <ConsumerMessage: TopicPartition(topic='gemini-feed', partition=0) offset=47641>), (1, <ConsumerMessage: TopicPartition(topic='gemini-feed', partition=0) offset=47604>), (1, <ConsumerMessage: TopicPartition(topic='gemini-feed', partition=0) offset=47718>), (1, <ConsumerMessage: TopicPartition(topic='gemini-feed', partition=0) offset=47642>), (1, <ConsumerMessage: TopicPartition(topic='gemini-feed', partition=0) offset=47719>), (1, <ConsumerMessage: TopicPartition(topic='gemini-feed', partition=0) offset=47643>), (1, <ConsumerMessage: TopicPartition(topic='gemini-feed', partition=0) offset=47606>), (1, <ConsumerMessage: TopicPartition(topic='gemini-feed', partition=0) offset=47720>), (1, <ConsumerMessage: TopicPartition(topic='gemini-feed', partition=0) offset=47644>), (1, <ConsumerMessage: TopicPartition(topic='gemini-feed', partition=0) offset=47605>), (1, <ConsumerMessage: TopicPartition(topic='gemini-feed', partition=0) offset=47721>), (1, <ConsumerMessage: TopicPartition(topic='gemini-feed', partition=0) offset=47645>), (1, <ConsumerMessage: TopicPartition(topic='gemini-feed', partition=0) offset=47607>), (1, <ConsumerMessage: TopicPartition(topic='gemini-feed', partition=0) offset=47722>), (1, <ConsumerMessage: TopicPartition(topic='gemini-feed', partition=0) offset=47646>), (1, <ConsumerMessage: TopicPartition(topic='gemini-feed', partition=0) offset=47608>), (1, <ConsumerMessage: TopicPartition(topic='gemini-feed', partition=0) offset=47723>), (1, <ConsumerMessage: TopicPartition(topic='gemini-feed', partition=0) offset=47647>), (1, <ConsumerMessage: TopicPartition(topic='gemini-feed', partition=0) offset=47609>), (1, <ConsumerMessage: TopicPartition(topic='gemini-feed', partition=0) offset=47724>), (1, <ConsumerMessage: TopicPartition(topic='gemini-feed', partition=0) offset=47648>), (1, <ConsumerMessage: TopicPartition(topic='gemini-feed', partition=0) offset=47610>), (1, <ConsumerMessage: TopicPartition(topic='gemini-feed', partition=0) offset=47725>), (1, <ConsumerMessage: TopicPartition(topic='gemini-feed', partition=0) offset=47649>), (1, <ConsumerMessage: TopicPartition(topic='gemini-feed', partition=0) offset=47611>), (1, <ConsumerMessage: TopicPartition(topic='gemini-feed', partition=0) offset=47726>), (1, <ConsumerMessage: TopicPartition(topic='gemini-feed', partition=0) offset=47650>), (1, <ConsumerMessage: TopicPartition(topic='gemini-feed', partition=0) offset=47612>), (1, <ConsumerMessage: TopicPartition(topic='gemini-feed', partition=0) offset=47727>), (1, <ConsumerMessage: TopicPartition(topic='gemini-feed', partition=0) offset=47651>), (1, <ConsumerMessage: TopicPartition(topic='gemini-feed', partition=0) offset=47613>), (1, <ConsumerMessage: TopicPartition(topic='gemini-feed', partition=0) offset=47728>), (1, <ConsumerMessage: TopicPartition(topic='gemini-feed', partition=0) offset=47652>), (1, <ConsumerMessage: TopicPartition(topic='gemini-feed', partition=0) offset=47614>), (1, <ConsumerMessage: TopicPartition(topic='gemini-feed', partition=0) offset=47729>), (1, <ConsumerMessage: TopicPartition(topic='gemini-feed', partition=0) offset=47653>), (1, <ConsumerMessage: TopicPartition(topic='gemini-feed', partition=0) offset=47615>), (1, <ConsumerMessage: TopicPartition(topic='gemini-feed', partition=0) offset=47730>), (1, <ConsumerMessage: TopicPartition(topic='gemini-feed', partition=0) offset=47654>), (1, <ConsumerMessage: TopicPartition(topic='gemini-feed', partition=0) offset=47616>), (1, <ConsumerMessage: TopicPartition(topic='gemini-feed', partition=0) offset=47731>), (1, <ConsumerMessage: TopicPartition(topic='gemini-feed', partition=0) offset=47655>), (1, <ConsumerMessage: TopicPartition(topic='gemini-feed', partition=0) offset=47617>), (1, <ConsumerMessage: TopicPartition(topic='gemini-feed', partition=0) offset=47618>), (1, <ConsumerMessage: TopicPartition(topic='gemini-feed', partition=0) offset=47656>), (1, <ConsumerMessage: TopicPartition(topic='gemini-feed', partition=0) offset=47619>), (1, <ConsumerMessage: TopicPartition(topic='gemini-feed', partition=0) offset=47657>), (1, <ConsumerMessage: TopicPartition(topic='gemini-feed', partition=0) offset=47620>), (1, <ConsumerMessage: TopicPartition(topic='gemini-feed', partition=0) offset=47658>), (1, <ConsumerMessage: TopicPartition(topic='gemini-feed', partition=0) offset=47621>), (1, <ConsumerMessage: TopicPartition(topic='gemini-feed', partition=0) offset=47659>), (1, <ConsumerMessage: TopicPartition(topic='gemini-feed', partition=0) offset=47622>), (1, <ConsumerMessage: TopicPartition(topic='gemini-feed', partition=0) offset=47660>), (1, <ConsumerMessage: TopicPartition(topic='gemini-feed', partition=0) offset=47623>), (1, <ConsumerMessage: TopicPartition(topic='gemini-feed', partition=0) offset=47661>), (1, <ConsumerMessage: TopicPartition(topic='gemini-feed', partition=0) offset=47624>), (1, <ConsumerMessage: TopicPartition(topic='gemini-feed', partition=0) offset=47662>), (1, <ConsumerMessage: TopicPartition(topic='gemini-feed', partition=0) offset=47625>), (1, <ConsumerMessage: TopicPartition(topic='gemini-feed', partition=0) offset=47663>), (1, <ConsumerMessage: TopicPartition(topic='gemini-feed', partition=0) offset=47626>), (1, <ConsumerMessage: TopicPartition(topic='gemini-feed', partition=0) offset=47664>), (1, <ConsumerMessage: TopicPartition(topic='gemini-feed', partition=0) offset=47627>), (1, <ConsumerMessage: TopicPartition(topic='gemini-feed', partition=0) offset=47665>), (1, <ConsumerMessage: TopicPartition(topic='gemini-feed', partition=0) offset=47628>), (1, <ConsumerMessage: TopicPartition(topic='gemini-feed', partition=0) offset=47666>), (1, <ConsumerMessage: TopicPartition(topic='gemini-feed', partition=0) offset=47629>), (1, <ConsumerMessage: TopicPartition(topic='gemini-feed', partition=0) offset=47667>), (1, <ConsumerMessage: TopicPartition(topic='gemini-feed', partition=0) offset=47630>), (1, <ConsumerMessage: TopicPartition(topic='gemini-feed', partition=0) offset=47668>), (1, <ConsumerMessage: TopicPartition(topic='gemini-feed', partition=0) offset=47631>), (1, <ConsumerMessage: TopicPartition(topic='gemini-feed', partition=0) offset=47669>), (1, <ConsumerMessage: TopicPartition(topic='gemini-feed', partition=0) offset=47632>), (1, <ConsumerMessage: TopicPartition(topic='gemini-feed', partition=0) offset=47670>), (1, <ConsumerMessage: TopicPartition(topic='gemini-feed', partition=0) offset=47633>), (1, <ConsumerMessage: TopicPartition(topic='gemini-feed', partition=0) offset=47671>), (1, <ConsumerMessage: TopicPartition(topic='gemini-feed', partition=0) offset=47634>), (1, <ConsumerMessage: TopicPartition(topic='gemini-feed', partition=0) offset=47672>), (1, <ConsumerMessage: TopicPartition(topic='gemini-feed', partition=0) offset=47635>), (1, <ConsumerMessage: TopicPartition(topic='gemini-feed', partition=0) offset=47673>), (1, <ConsumerMessage: TopicPartition(topic='gemini-feed', partition=0) offset=47636>), (1, <ConsumerMessage: TopicPartition(topic='gemini-feed', partition=0) offset=47674>)] \u001b[0m\n",
            "[2020-10-15 13:59:57,152] [4661] [INFO] \u001b[37m[^--Consumer]: Agent tracebacks:\n",
            "\n",
            "=======================================\n",
            " TRACEBACK OF ALL RUNNING AGENT ACTORS\n",
            "=======================================\n",
            "\n",
            "\n",
            "* gemini.gemini_feed_process ----->\n",
            "============================================================\n",
            "['Stack for <coroutine object gemini_feed_process at 0x7f952b6112b0> (most recent call last):\\n  File \"/content/gemini.py\", line 35, in gemini_feed_process\\n    async for messages in stream.take(1e6, within=60):\\n  File \"async_generator_asend\", line -1, in [rest of traceback truncated]\\n']\n",
            "\n",
            "\n",
            "\n",
            "-eof tracebacks- :-)\n",
            " \u001b[0m\n",
            "[2020-10-15 14:00:07,461] [4661] [WARNING] \u001b[33m[^--Consumer]: wait_empty: Waiting for tasks [(1, <ConsumerMessage: TopicPartition(topic='gemini-feed', partition=0) offset=47694>), (1, <ConsumerMessage: TopicPartition(topic='gemini-feed', partition=0) offset=47675>), (1, <ConsumerMessage: TopicPartition(topic='gemini-feed', partition=0) offset=47732>), (1, <ConsumerMessage: TopicPartition(topic='gemini-feed', partition=0) offset=47695>), (1, <ConsumerMessage: TopicPartition(topic='gemini-feed', partition=0) offset=47676>), (1, <ConsumerMessage: TopicPartition(topic='gemini-feed', partition=0) offset=47733>), (1, <ConsumerMessage: TopicPartition(topic='gemini-feed', partition=0) offset=47696>), (1, <ConsumerMessage: TopicPartition(topic='gemini-feed', partition=0) offset=47677>), (1, <ConsumerMessage: TopicPartition(topic='gemini-feed', partition=0) offset=47734>), (1, <ConsumerMessage: TopicPartition(topic='gemini-feed', partition=0) offset=47697>), (1, <ConsumerMessage: TopicPartition(topic='gemini-feed', partition=0) offset=47678>), (1, <ConsumerMessage: TopicPartition(topic='gemini-feed', partition=0) offset=47735>), (1, <ConsumerMessage: TopicPartition(topic='gemini-feed', partition=0) offset=47698>), (1, <ConsumerMessage: TopicPartition(topic='gemini-feed', partition=0) offset=47679>), (1, <ConsumerMessage: TopicPartition(topic='gemini-feed', partition=0) offset=47736>), (1, <ConsumerMessage: TopicPartition(topic='gemini-feed', partition=0) offset=47699>), (1, <ConsumerMessage: TopicPartition(topic='gemini-feed', partition=0) offset=47680>), (1, <ConsumerMessage: TopicPartition(topic='gemini-feed', partition=0) offset=47737>), (1, <ConsumerMessage: TopicPartition(topic='gemini-feed', partition=0) offset=47700>), (1, <ConsumerMessage: TopicPartition(topic='gemini-feed', partition=0) offset=47681>), (1, <ConsumerMessage: TopicPartition(topic='gemini-feed', partition=0) offset=47738>), (1, <ConsumerMessage: TopicPartition(topic='gemini-feed', partition=0) offset=47701>), (1, <ConsumerMessage: TopicPartition(topic='gemini-feed', partition=0) offset=47682>), (1, <ConsumerMessage: TopicPartition(topic='gemini-feed', partition=0) offset=47739>), (1, <ConsumerMessage: TopicPartition(topic='gemini-feed', partition=0) offset=47702>), (1, <ConsumerMessage: TopicPartition(topic='gemini-feed', partition=0) offset=47683>), (1, <ConsumerMessage: TopicPartition(topic='gemini-feed', partition=0) offset=47740>), (1, <ConsumerMessage: TopicPartition(topic='gemini-feed', partition=0) offset=47703>), (1, <ConsumerMessage: TopicPartition(topic='gemini-feed', partition=0) offset=47684>), (1, <ConsumerMessage: TopicPartition(topic='gemini-feed', partition=0) offset=47741>), (1, <ConsumerMessage: TopicPartition(topic='gemini-feed', partition=0) offset=47704>), (1, <ConsumerMessage: TopicPartition(topic='gemini-feed', partition=0) offset=47685>), (1, <ConsumerMessage: TopicPartition(topic='gemini-feed', partition=0) offset=47705>), (1, <ConsumerMessage: TopicPartition(topic='gemini-feed', partition=0) offset=47686>), (1, <ConsumerMessage: TopicPartition(topic='gemini-feed', partition=0) offset=47594>), (1, <ConsumerMessage: TopicPartition(topic='gemini-feed', partition=0) offset=47706>), (1, <ConsumerMessage: TopicPartition(topic='gemini-feed', partition=0) offset=47687>), (1, <ConsumerMessage: TopicPartition(topic='gemini-feed', partition=0) offset=47593>), (1, <ConsumerMessage: TopicPartition(topic='gemini-feed', partition=0) offset=47707>), (1, <ConsumerMessage: TopicPartition(topic='gemini-feed', partition=0) offset=47688>), (1, <ConsumerMessage: TopicPartition(topic='gemini-feed', partition=0) offset=47595>), (1, <ConsumerMessage: TopicPartition(topic='gemini-feed', partition=0) offset=47708>), (1, <ConsumerMessage: TopicPartition(topic='gemini-feed', partition=0) offset=47689>), (1, <ConsumerMessage: TopicPartition(topic='gemini-feed', partition=0) offset=47596>), (1, <ConsumerMessage: TopicPartition(topic='gemini-feed', partition=0) offset=47709>), (1, <ConsumerMessage: TopicPartition(topic='gemini-feed', partition=0) offset=47690>), (1, <ConsumerMessage: TopicPartition(topic='gemini-feed', partition=0) offset=47597>), (1, <ConsumerMessage: TopicPartition(topic='gemini-feed', partition=0) offset=47710>), (1, <ConsumerMessage: TopicPartition(topic='gemini-feed', partition=0) offset=47691>), (1, <ConsumerMessage: TopicPartition(topic='gemini-feed', partition=0) offset=47598>), (1, <ConsumerMessage: TopicPartition(topic='gemini-feed', partition=0) offset=47711>), (1, <ConsumerMessage: TopicPartition(topic='gemini-feed', partition=0) offset=47692>), (1, <ConsumerMessage: TopicPartition(topic='gemini-feed', partition=0) offset=47599>), (1, <ConsumerMessage: TopicPartition(topic='gemini-feed', partition=0) offset=47712>), (1, <ConsumerMessage: TopicPartition(topic='gemini-feed', partition=0) offset=47693>), (1, <ConsumerMessage: TopicPartition(topic='gemini-feed', partition=0) offset=47713>), (1, <ConsumerMessage: TopicPartition(topic='gemini-feed', partition=0) offset=47637>), (1, <ConsumerMessage: TopicPartition(topic='gemini-feed', partition=0) offset=47600>), (1, <ConsumerMessage: TopicPartition(topic='gemini-feed', partition=0) offset=47714>), (1, <ConsumerMessage: TopicPartition(topic='gemini-feed', partition=0) offset=47638>), (1, <ConsumerMessage: TopicPartition(topic='gemini-feed', partition=0) offset=47601>), (1, <ConsumerMessage: TopicPartition(topic='gemini-feed', partition=0) offset=47715>), (1, <ConsumerMessage: TopicPartition(topic='gemini-feed', partition=0) offset=47639>), (1, <ConsumerMessage: TopicPartition(topic='gemini-feed', partition=0) offset=47602>), (1, <ConsumerMessage: TopicPartition(topic='gemini-feed', partition=0) offset=47716>), (1, <ConsumerMessage: TopicPartition(topic='gemini-feed', partition=0) offset=47640>), (1, <ConsumerMessage: TopicPartition(topic='gemini-feed', partition=0) offset=47603>), (1, <ConsumerMessage: TopicPartition(topic='gemini-feed', partition=0) offset=47717>), (1, <ConsumerMessage: TopicPartition(topic='gemini-feed', partition=0) offset=47641>), (1, <ConsumerMessage: TopicPartition(topic='gemini-feed', partition=0) offset=47604>), (1, <ConsumerMessage: TopicPartition(topic='gemini-feed', partition=0) offset=47718>), (1, <ConsumerMessage: TopicPartition(topic='gemini-feed', partition=0) offset=47642>), (1, <ConsumerMessage: TopicPartition(topic='gemini-feed', partition=0) offset=47719>), (1, <ConsumerMessage: TopicPartition(topic='gemini-feed', partition=0) offset=47643>), (1, <ConsumerMessage: TopicPartition(topic='gemini-feed', partition=0) offset=47606>), (1, <ConsumerMessage: TopicPartition(topic='gemini-feed', partition=0) offset=47720>), (1, <ConsumerMessage: TopicPartition(topic='gemini-feed', partition=0) offset=47644>), (1, <ConsumerMessage: TopicPartition(topic='gemini-feed', partition=0) offset=47605>), (1, <ConsumerMessage: TopicPartition(topic='gemini-feed', partition=0) offset=47721>), (1, <ConsumerMessage: TopicPartition(topic='gemini-feed', partition=0) offset=47645>), (1, <ConsumerMessage: TopicPartition(topic='gemini-feed', partition=0) offset=47607>), (1, <ConsumerMessage: TopicPartition(topic='gemini-feed', partition=0) offset=47722>), (1, <ConsumerMessage: TopicPartition(topic='gemini-feed', partition=0) offset=47646>), (1, <ConsumerMessage: TopicPartition(topic='gemini-feed', partition=0) offset=47608>), (1, <ConsumerMessage: TopicPartition(topic='gemini-feed', partition=0) offset=47723>), (1, <ConsumerMessage: TopicPartition(topic='gemini-feed', partition=0) offset=47647>), (1, <ConsumerMessage: TopicPartition(topic='gemini-feed', partition=0) offset=47609>), (1, <ConsumerMessage: TopicPartition(topic='gemini-feed', partition=0) offset=47724>), (1, <ConsumerMessage: TopicPartition(topic='gemini-feed', partition=0) offset=47648>), (1, <ConsumerMessage: TopicPartition(topic='gemini-feed', partition=0) offset=47610>), (1, <ConsumerMessage: TopicPartition(topic='gemini-feed', partition=0) offset=47725>), (1, <ConsumerMessage: TopicPartition(topic='gemini-feed', partition=0) offset=47649>), (1, <ConsumerMessage: TopicPartition(topic='gemini-feed', partition=0) offset=47611>), (1, <ConsumerMessage: TopicPartition(topic='gemini-feed', partition=0) offset=47726>), (1, <ConsumerMessage: TopicPartition(topic='gemini-feed', partition=0) offset=47650>), (1, <ConsumerMessage: TopicPartition(topic='gemini-feed', partition=0) offset=47612>), (1, <ConsumerMessage: TopicPartition(topic='gemini-feed', partition=0) offset=47727>), (1, <ConsumerMessage: TopicPartition(topic='gemini-feed', partition=0) offset=47651>), (1, <ConsumerMessage: TopicPartition(topic='gemini-feed', partition=0) offset=47613>), (1, <ConsumerMessage: TopicPartition(topic='gemini-feed', partition=0) offset=47728>), (1, <ConsumerMessage: TopicPartition(topic='gemini-feed', partition=0) offset=47652>), (1, <ConsumerMessage: TopicPartition(topic='gemini-feed', partition=0) offset=47614>), (1, <ConsumerMessage: TopicPartition(topic='gemini-feed', partition=0) offset=47729>), (1, <ConsumerMessage: TopicPartition(topic='gemini-feed', partition=0) offset=47653>), (1, <ConsumerMessage: TopicPartition(topic='gemini-feed', partition=0) offset=47615>), (1, <ConsumerMessage: TopicPartition(topic='gemini-feed', partition=0) offset=47730>), (1, <ConsumerMessage: TopicPartition(topic='gemini-feed', partition=0) offset=47654>), (1, <ConsumerMessage: TopicPartition(topic='gemini-feed', partition=0) offset=47616>), (1, <ConsumerMessage: TopicPartition(topic='gemini-feed', partition=0) offset=47731>), (1, <ConsumerMessage: TopicPartition(topic='gemini-feed', partition=0) offset=47655>), (1, <ConsumerMessage: TopicPartition(topic='gemini-feed', partition=0) offset=47617>), (1, <ConsumerMessage: TopicPartition(topic='gemini-feed', partition=0) offset=47618>), (1, <ConsumerMessage: TopicPartition(topic='gemini-feed', partition=0) offset=47656>), (1, <ConsumerMessage: TopicPartition(topic='gemini-feed', partition=0) offset=47619>), (1, <ConsumerMessage: TopicPartition(topic='gemini-feed', partition=0) offset=47657>), (1, <ConsumerMessage: TopicPartition(topic='gemini-feed', partition=0) offset=47620>), (1, <ConsumerMessage: TopicPartition(topic='gemini-feed', partition=0) offset=47658>), (1, <ConsumerMessage: TopicPartition(topic='gemini-feed', partition=0) offset=47621>), (1, <ConsumerMessage: TopicPartition(topic='gemini-feed', partition=0) offset=47659>), (1, <ConsumerMessage: TopicPartition(topic='gemini-feed', partition=0) offset=47622>), (1, <ConsumerMessage: TopicPartition(topic='gemini-feed', partition=0) offset=47660>), (1, <ConsumerMessage: TopicPartition(topic='gemini-feed', partition=0) offset=47623>), (1, <ConsumerMessage: TopicPartition(topic='gemini-feed', partition=0) offset=47661>), (1, <ConsumerMessage: TopicPartition(topic='gemini-feed', partition=0) offset=47624>), (1, <ConsumerMessage: TopicPartition(topic='gemini-feed', partition=0) offset=47662>), (1, <ConsumerMessage: TopicPartition(topic='gemini-feed', partition=0) offset=47625>), (1, <ConsumerMessage: TopicPartition(topic='gemini-feed', partition=0) offset=47663>), (1, <ConsumerMessage: TopicPartition(topic='gemini-feed', partition=0) offset=47626>), (1, <ConsumerMessage: TopicPartition(topic='gemini-feed', partition=0) offset=47664>), (1, <ConsumerMessage: TopicPartition(topic='gemini-feed', partition=0) offset=47627>), (1, <ConsumerMessage: TopicPartition(topic='gemini-feed', partition=0) offset=47665>), (1, <ConsumerMessage: TopicPartition(topic='gemini-feed', partition=0) offset=47628>), (1, <ConsumerMessage: TopicPartition(topic='gemini-feed', partition=0) offset=47666>), (1, <ConsumerMessage: TopicPartition(topic='gemini-feed', partition=0) offset=47629>), (1, <ConsumerMessage: TopicPartition(topic='gemini-feed', partition=0) offset=47667>), (1, <ConsumerMessage: TopicPartition(topic='gemini-feed', partition=0) offset=47630>), (1, <ConsumerMessage: TopicPartition(topic='gemini-feed', partition=0) offset=47668>), (1, <ConsumerMessage: TopicPartition(topic='gemini-feed', partition=0) offset=47631>), (1, <ConsumerMessage: TopicPartition(topic='gemini-feed', partition=0) offset=47669>), (1, <ConsumerMessage: TopicPartition(topic='gemini-feed', partition=0) offset=47632>), (1, <ConsumerMessage: TopicPartition(topic='gemini-feed', partition=0) offset=47670>), (1, <ConsumerMessage: TopicPartition(topic='gemini-feed', partition=0) offset=47633>), (1, <ConsumerMessage: TopicPartition(topic='gemini-feed', partition=0) offset=47671>), (1, <ConsumerMessage: TopicPartition(topic='gemini-feed', partition=0) offset=47634>), (1, <ConsumerMessage: TopicPartition(topic='gemini-feed', partition=0) offset=47672>), (1, <ConsumerMessage: TopicPartition(topic='gemini-feed', partition=0) offset=47635>), (1, <ConsumerMessage: TopicPartition(topic='gemini-feed', partition=0) offset=47673>), (1, <ConsumerMessage: TopicPartition(topic='gemini-feed', partition=0) offset=47636>), (1, <ConsumerMessage: TopicPartition(topic='gemini-feed', partition=0) offset=47674>)] \u001b[0m\n",
            "[2020-10-15 14:00:07,494] [4661] [INFO] \u001b[37m[^--Consumer]: Agent tracebacks:\n",
            "\n",
            "=======================================\n",
            " TRACEBACK OF ALL RUNNING AGENT ACTORS\n",
            "=======================================\n",
            "\n",
            "\n",
            "* gemini.gemini_feed_process ----->\n",
            "============================================================\n",
            "['Stack for <coroutine object gemini_feed_process at 0x7f952b6112b0> (most recent call last):\\n  File \"/content/gemini.py\", line 35, in gemini_feed_process\\n    async for messages in stream.take(1e6, within=60):\\n  File \"async_generator_asend\", line -1, in [rest of traceback truncated]\\n']\n",
            "\n",
            "\n",
            "\n",
            "-eof tracebacks- :-)\n",
            " \u001b[0m\n",
            "[2020-10-15 14:00:07,529] [4661] [INFO] \u001b[37m[^-App]: Flush producer buffer... \u001b[0m\n",
            "[2020-10-15 14:00:07,529] [4661] [INFO] \u001b[37m[^--TableManager]: Stopping... \u001b[0m\n",
            "[2020-10-15 14:00:07,529] [4661] [INFO] \u001b[37m[^---Fetcher]: Stopping... \u001b[0m\n",
            "[2020-10-15 14:00:07,529] [4661] [INFO] \u001b[37m[^---Recovery]: Stopping... \u001b[0m\n",
            "[2020-10-15 14:00:07,530] [4661] [INFO] \u001b[37m[^---Conductor]: Stopping... \u001b[0m\n",
            "[2020-10-15 14:00:07,530] [4661] [INFO] \u001b[37m[^--AgentManager]: Stopping... \u001b[0m\n",
            "[2020-10-15 14:00:07,531] [4661] [INFO] \u001b[37m[^---Agent: gemini.gemini_feed_process]: Stopping... \u001b[0m\n",
            "[2020-10-15 14:00:07,531] [4661] [INFO] \u001b[37m[^----OneForOneSupervisor: (1@0x7f952be3df98)]: Stopping... \u001b[0m\n",
            "[2020-10-15 14:00:07,532] [4661] [INFO] \u001b[37m[^--ReplyConsumer]: Stopping... \u001b[0m\n",
            "[2020-10-15 14:00:07,532] [4661] [INFO] \u001b[37m[^--LeaderAssignor]: Stopping... \u001b[0m\n",
            "[2020-10-15 14:00:07,532] [4661] [INFO] \u001b[37m[^--Consumer]: Stopping... \u001b[0m\n",
            "[2020-10-15 14:00:07,533] [4661] [INFO] \u001b[37m[^---AIOKafkaConsumerThread]: Stopping... \u001b[0m\n",
            "[2020-10-15 14:00:07,536] [4661] [INFO] \u001b[37mLeaveGroup request succeeded \u001b[0m\n",
            "[2020-10-15 14:00:07,538] [4661] [INFO] \u001b[37m[^--Web]: Stopping... \u001b[0m\n",
            "[2020-10-15 14:00:07,538] [4661] [INFO] \u001b[37m[^---Server]: Stopping... \u001b[0m\n",
            "[2020-10-15 14:00:07,538] [4661] [INFO] \u001b[37m[^--Web]: Cleanup \u001b[0m\n",
            "[2020-10-15 14:00:07,539] [4661] [INFO] \u001b[37m[^--CacheBackend]: Stopping... \u001b[0m\n",
            "[2020-10-15 14:00:07,539] [4661] [INFO] \u001b[37m[^--Producer]: Stopping... \u001b[0m\n",
            "[2020-10-15 14:00:07,540] [4661] [INFO] \u001b[37m[^---ProducerBuffer]: Stopping... \u001b[0m\n",
            "[2020-10-15 14:00:07,541] [4661] [INFO] \u001b[37m[^--Monitor]: Stopping... \u001b[0m\n",
            "[2020-10-15 14:00:07,541] [4661] [INFO] \u001b[37m[^Worker]: Gathering service tasks... \u001b[0m\n",
            "[2020-10-15 14:00:07,542] [4661] [INFO] \u001b[37m[^Worker]: Gathering all futures... \u001b[0m\n",
            "[2020-10-15 14:00:09,548] [4661] [INFO] \u001b[37m[^Worker]: Closing event loop \u001b[0m\n",
            "[2020-10-15 14:00:09,549] [4661] [INFO] \u001b[37mClosing the Kafka producer with 0 secs timeout. \u001b[0m\n",
            "[2020-10-15 14:00:09,549] [4661] [INFO] \u001b[37mProceeding to force close the producer since pending requests could not be completed within timeout 0. \u001b[0m\n",
            "[2020-10-15 14:00:09,549] [4661] [INFO] \u001b[37m<BrokerConnection node_id=0 host=b0ce72e4e73c:9092 <connected> [IPv4 ('172.28.0.2', 9092)]>: Closing connection.  \u001b[0m\n",
            "[2020-10-15 14:00:09,603] [4661] [INFO] \u001b[37mKafka producer closed \u001b[0m\n"
          ],
          "name": "stdout"
        }
      ]
    },
    {
      "cell_type": "code",
      "metadata": {
        "id": "nYFVbN36TQpE"
      },
      "source": [
        "# faust_worker = Popen(['faust -A gemini -l info worker --web-port=6066'], \n",
        "#                   stdout=PIPE, stderr=STDOUT,\n",
        "#                   preexec_fn=lambda: os.setuid(5)  # as daemon\n",
        "#                  )\n",
        "# !echo \"Waiting for 15 secs until faust worker is up and running\"\n",
        "# !sleep 15"
      ],
      "execution_count": null,
      "outputs": []
    },
    {
      "cell_type": "markdown",
      "metadata": {
        "id": "OEQijEmL3c6J"
      },
      "source": [
        "# Gemini Trading Bot"
      ]
    },
    {
      "cell_type": "code",
      "metadata": {
        "id": "b3BOXOAws-d8"
      },
      "source": [
        "import pandas as pd\n",
        "from datetime import datetime, timedelta\n",
        "from geminipy import Geminipy\n",
        "import requests\n",
        "from elasticsearch import Elasticsearch"
      ],
      "execution_count": 19,
      "outputs": []
    },
    {
      "cell_type": "code",
      "metadata": {
        "id": "XP0BN7nouiLs"
      },
      "source": [
        "# load in csv of forecasts\n",
        "fcst = pd.read_csv('2020_full_trade_forecast.csv')\n",
        "\n",
        "# generate a datetime field from the string timestamp `ds`\n",
        "fcst['timestamp'] = fcst.ds.apply(lambda x: datetime.strptime(x, '%Y-%m-%d %H:%M:%S'))\n",
        "\n",
        "# set the index as the timestamp so we can easily make lookups based on time\n",
        "fcst = fcst.set_index('timestamp')[['side']]"
      ],
      "execution_count": 20,
      "outputs": []
    },
    {
      "cell_type": "code",
      "metadata": {
        "id": "ELm9OXIovRvx"
      },
      "source": [
        "es = Elasticsearch()\n",
        "if not es.indices.exists(\"gemini\"):\n",
        "    es.indices.create(index='gemini')"
      ],
      "execution_count": 59,
      "outputs": []
    },
    {
      "cell_type": "code",
      "metadata": {
        "id": "JnP-PrkcvZD3"
      },
      "source": [
        "consumer = KafkaConsumer('faust.out',\n",
        "                         bootstrap_servers=['localhost:9092'],\n",
        "                        auto_offset_reset='earliest',\n",
        "                        enable_auto_commit=True,\n",
        "                        value_deserializer=lambda x: json.loads(x.decode('utf-8')))"
      ],
      "execution_count": 41,
      "outputs": []
    },
    {
      "cell_type": "code",
      "metadata": {
        "id": "JAXnc8ktvczU"
      },
      "source": [
        "# trade 50% of our account balance\n",
        "trade_pct = 0.5\n",
        "\n",
        "# require that price_volume threshold be between 0.1 and 2\n",
        "# this indicates that sell side volume is 1/10th and double that of buy side\n",
        "# suggesting (relatively) normal liquidity thresholds.\n",
        "# if sell side liquidity is above 2x that of the buy side we might think that \n",
        "# price may not move in the next minute.\n",
        "threshold = (0.1, 2)"
      ],
      "execution_count": 26,
      "outputs": []
    },
    {
      "cell_type": "code",
      "metadata": {
        "id": "HJbuG9_EZ0Ls"
      },
      "source": [
        "with open('api_details.json') as f:\n",
        "    api_details = json.load(f)\n",
        "    gemini_api_key = api_details['api-key']\n",
        "    gemini_api_secret = api_details['secret']"
      ],
      "execution_count": 27,
      "outputs": []
    },
    {
      "cell_type": "code",
      "metadata": {
        "id": "ldlyUpY4aQ1e"
      },
      "source": [
        "con = Geminipy(api_key=gemini_api_key, secret_key=gemini_api_secret, live=False)"
      ],
      "execution_count": 28,
      "outputs": []
    },
    {
      "cell_type": "code",
      "metadata": {
        "id": "IYk630gTvu5Z",
        "outputId": "8485b27e-26ae-4fa7-8645-80360f38beff",
        "colab": {
          "base_uri": "https://localhost:8080/",
          "height": 126
        }
      },
      "source": [
        "def get_btc_balance(con):\n",
        "    for i in con.balances().json():\n",
        "        if i['currency'] == 'BTC':\n",
        "            i['amount'] = float(i['amount'])\n",
        "            i['available'] = float(i['available'])\n",
        "            i['availableForWithdrawal'] = float(i['availableForWithdrawal'])\n",
        "            i['doc_type'] = 'balance'\n",
        "            return i\n",
        "        \n",
        "get_btc_balance(con)"
      ],
      "execution_count": 29,
      "outputs": [
        {
          "output_type": "execute_result",
          "data": {
            "text/plain": [
              "{'amount': 895.58703,\n",
              " 'available': 895.58703,\n",
              " 'availableForWithdrawal': 895.58703,\n",
              " 'currency': 'BTC',\n",
              " 'doc_type': 'balance',\n",
              " 'type': 'exchange'}"
            ]
          },
          "metadata": {
            "tags": []
          },
          "execution_count": 29
        }
      ]
    },
    {
      "cell_type": "code",
      "metadata": {
        "id": "8FTJEHeKvwm3",
        "outputId": "f65438f8-240d-4ca8-a393-228b7ea4b860",
        "colab": {
          "base_uri": "https://localhost:8080/",
          "height": 126
        }
      },
      "source": [
        "def get_usd_balance(con):\n",
        "    for i in con.balances().json():\n",
        "        if i['currency'] == 'USD':\n",
        "            i['amount'] = float(i['amount'])\n",
        "            i['available'] = float(i['available'])\n",
        "            i['availableForWithdrawal'] = float(i['availableForWithdrawal'])\n",
        "            i['doc_type'] = 'balance'\n",
        "            return i\n",
        "        \n",
        "get_usd_balance(con)"
      ],
      "execution_count": 30,
      "outputs": [
        {
          "output_type": "execute_result",
          "data": {
            "text/plain": [
              "{'amount': 1283618.7842220885,\n",
              " 'available': 1283618.78,\n",
              " 'availableForWithdrawal': 1283618.78,\n",
              " 'currency': 'USD',\n",
              " 'doc_type': 'balance',\n",
              " 'type': 'exchange'}"
            ]
          },
          "metadata": {
            "tags": []
          },
          "execution_count": 30
        }
      ]
    },
    {
      "cell_type": "code",
      "metadata": {
        "id": "ugl_6EuCvyz-",
        "outputId": "93fb0ce8-a4f4-4c54-ece7-37ad06cb3840",
        "colab": {
          "base_uri": "https://localhost:8080/",
          "height": 144
        }
      },
      "source": [
        "def get_ticker(con):\n",
        "    '''\n",
        "    NOTE: We need to ensure that numbers are numbers, not strings, for ES.\n",
        "    Otherwise we would need to specify a mapping.\n",
        "    '''\n",
        "    ticker = con.pubticker().json()\n",
        "    ticker['ask'] = float(ticker['ask'])\n",
        "    ticker['bid'] = float(ticker['bid'])\n",
        "    ticker['last'] = float(ticker['last'])\n",
        "    ticker['volume_BTC'] = float(ticker['volume'].pop('BTC'))\n",
        "    ticker['volume_USD'] = float(ticker['volume'].pop('USD'))\n",
        "    ticker['timestamp'] = datetime.fromtimestamp(ticker['volume'].pop('timestamp')/1000)\n",
        "    ticker.pop('volume')\n",
        "    ticker['doc_type'] = 'ticker'\n",
        "    return ticker\n",
        "\n",
        "get_ticker(con)"
      ],
      "execution_count": 31,
      "outputs": [
        {
          "output_type": "execute_result",
          "data": {
            "text/plain": [
              "{'ask': 11386.72,\n",
              " 'bid': 11383.38,\n",
              " 'doc_type': 'ticker',\n",
              " 'last': 11389.66,\n",
              " 'timestamp': datetime.datetime(2020, 10, 15, 13, 35),\n",
              " 'volume_BTC': 1098.9609424,\n",
              " 'volume_USD': 12503655.790815365}"
            ]
          },
          "metadata": {
            "tags": []
          },
          "execution_count": 31
        }
      ]
    },
    {
      "cell_type": "code",
      "metadata": {
        "id": "iORW5laRv2s4"
      },
      "source": [
        "def format_order(order):\n",
        "    '''\n",
        "    NOTE: We need to ensure that numbers are numbers, not strings, for ES.\n",
        "    Otherwise we would need to specify a mapping.\n",
        "    \n",
        "    Also, we convert epoch time to Python datetime which is natively recognized as a time field by ES.\n",
        "    Epoch time, without a custom mapping, would appear as a number.\n",
        "    '''\n",
        "    order_dict = order.json()\n",
        "    try:\n",
        "        order_dict['timestamp'] = datetime.fromtimestamp(int(order_dict['timestamp']))\n",
        "    except:\n",
        "        # no timestamp field, try timestampms\n",
        "        try:\n",
        "            order_dict['timestamp'] = datetime.fromtimestamp(int(order_dict['timestampms']))\n",
        "        except:\n",
        "            # no timestampms, set to now\n",
        "            order_dict['timestamp'] = datetime.now()\n",
        "    order_dict['price'] = float(order_dict['price'])\n",
        "    order_dict['original_amount'] = float(order_dict['original_amount'])\n",
        "    order_dict['remaining_amount'] = float(order_dict['remaining_amount'])\n",
        "    order_dict['avg_execution_price'] = float(order_dict['avg_execution_price'])\n",
        "    order_dict['executed_amount'] = float(order_dict['executed_amount'])\n",
        "    order_dict['doc_type'] = 'order'\n",
        "    return order_dict"
      ],
      "execution_count": 32,
      "outputs": []
    },
    {
      "cell_type": "code",
      "metadata": {
        "id": "FsH_6oUxv6z2"
      },
      "source": [
        "def make_order(con, amount, side, ticker):\n",
        "    # if we are buying we should take the last ask price\n",
        "    if side == 'buy':\n",
        "        bid_ask = 'ask'\n",
        "\n",
        "    # if we are selling we should take the last bid price        \n",
        "    elif side == 'sell':\n",
        "        bid_ask = 'bid'\n",
        "        \n",
        "    order = con.new_order(amount = amount, # set order amount\n",
        "                      price = ticker[bid_ask], # grab latest bid or ask price\n",
        "                      side = side, # set side (either buy/sell)\n",
        "                      options = ['immediate-or-cancel'] # take liquidity with an immediate trade\n",
        "                     )\n",
        "    # format order for Elasticsearch\n",
        "    order_dict = format_order(order)\n",
        "    \n",
        "    return order_dict"
      ],
      "execution_count": 33,
      "outputs": []
    },
    {
      "cell_type": "code",
      "metadata": {
        "id": "Fx_4qp4cv9eR"
      },
      "source": [
        "def lookup_side(fcst):\n",
        "    # get current timestamp\n",
        "    now = datetime.now()\n",
        "    \n",
        "    # we must add 1 minute to the time we lookup\n",
        "    # this is because our forecasts are for whether we should have bought/sold in a given minute\n",
        "    # so, we want trade with our prediction in mind (hence, add 1 minute)\n",
        "    ts_prior = datetime(year=now.year, month=now.month, day=now.day, hour=now.hour, minute=now.minute)\n",
        "    ts = ts_prior + timedelta(minutes=1)\n",
        "    \n",
        "    last_fcst = fcst.loc[ts_prior].side\n",
        "    curr_fcst = fcst.loc[ts].side\n",
        "    return {'last_fcst': last_fcst, 'side': curr_fcst} # return looked up side (either buy or sell)"
      ],
      "execution_count": 34,
      "outputs": []
    },
    {
      "cell_type": "code",
      "metadata": {
        "id": "Hy_fXewnwAGQ"
      },
      "source": [
        "def get_last_buy(es):\n",
        "    query = {\n",
        "      \"sort\" : [\n",
        "            { \"timestamp\" : {\"order\" : \"desc\"}}\n",
        "        ],\n",
        "      \"query\": {\n",
        "        \"bool\": {\n",
        "          \"must\": [\n",
        "            {\n",
        "              \"match_phrase\": {\n",
        "                \"side\": {\n",
        "                  \"query\": \"buy\"\n",
        "                }\n",
        "              }\n",
        "            }\n",
        "          ]\n",
        "        }\n",
        "      }\n",
        "    }\n",
        "\n",
        "    results = es.search(index='gemini', doc_type='gem', body=query)\n",
        "    last_buy = results['hits'][0]\n",
        "    last_price = last_buy['_source']['price']\n",
        "    return last_price"
      ],
      "execution_count": 35,
      "outputs": []
    },
    {
      "cell_type": "code",
      "metadata": {
        "id": "AJwQ2VLFwB_M"
      },
      "source": [
        "def score_trade(es, order, balance):\n",
        "    last_price = get_last_buy(es)\n",
        "    \n",
        "    # get timestamp \n",
        "    now = datetime.now()\n",
        "    timestamp = datetime(year=now.year, month=now.month, day=now.day, hour=now.hour, minute=now.minute)\n",
        "    \n",
        "    # grab sell order price\n",
        "    curr_price = order['price']\n",
        "    profit = (curr_price - last_price) * balance\n",
        "    \n",
        "    return {'profit': profit, 'timestamp': timestamp, 'doc_type': 'score'}"
      ],
      "execution_count": 36,
      "outputs": []
    },
    {
      "cell_type": "code",
      "metadata": {
        "id": "-hKHPGg0wDzX"
      },
      "source": [
        "def process_msg(message, fcst, con, es, threshold, trade_pct, last_price, traded):\n",
        "    msg = message.value\n",
        "    \n",
        "    # convert msg epoch time to datetime\n",
        "    msg['timestamp'] = datetime.fromtimestamp(msg['timestamp'])\n",
        "    \n",
        "    # get ticker\n",
        "    ticker = get_ticker(con)\n",
        "\n",
        "    # check side from model\n",
        "    lookup = lookup_side(fcst)\n",
        "    side = lookup['side']\n",
        "    last_fcst = lookup['last_fcst']\n",
        "\n",
        "    msg['doc_type'] = msg.pop('type')\n",
        "\n",
        "    # index msg to ES\n",
        "    es.index(index='gemini', doc_type='gem', body=msg)\n",
        "    \n",
        "    # index account balance to ES\n",
        "    es.index(index='gemini', doc_type='gem',body=get_btc_balance(con))\n",
        "    \n",
        "    # index ticker data to ES\n",
        "    es.index(index=\"gemini\", doc_type='gem', body=ticker)\n",
        "    \n",
        "    if side == 'sell':\n",
        "        balance = get_btc_balance(con)['amount']\n",
        "        if balance > 0:\n",
        "            order = make_order(con, balance, 'sell', ticker)\n",
        "            score = score_trade(es, order, balance)\n",
        "            print('Last trade yieled ${} in profit.'.format(score['profit']))\n",
        "\n",
        "            # index sell order data to ES\n",
        "            es.index(index=\"gemini\", doc_type='gem', body=order)\n",
        "            \n",
        "            # index score to ES\n",
        "            es.index(index=\"gemini\", doc_type='gem', body=score)\n",
        "        else:\n",
        "            print('No balance to sell.')\n",
        "        return ticker['last'], False\n",
        "\n",
        "    else: # buy side\n",
        "\n",
        "        # only trade if we didn't just trade\n",
        "        if not traded:\n",
        "            if msg['value'] > threshold[0] and msg['value'] < threshold[1]:\n",
        "                trade_amount = round((get_usd_balance(con)['available'] * trade_pct) / get_ticker(con)['last'],4)\n",
        "                print(trade_amount)\n",
        "\n",
        "                # execute order\n",
        "                order = make_order(con, trade_amount, side, ticker)\n",
        "\n",
        "                # index order data to ES\n",
        "                es.index(index=\"gemini\", doc_type='gem', body=order)\n",
        "\n",
        "                # print order\n",
        "                order.pop('timestamp')\n",
        "                print(json.dumps(order, sort_keys=True,\n",
        "                    indent=4, separators=(',', ': ')))\n",
        "                print('\\n')\n",
        "\n",
        "                return ticker['last'], True\n",
        "            else:\n",
        "                return last_price, False\n",
        "        else:\n",
        "            return last_price, True"
      ],
      "execution_count": 51,
      "outputs": []
    },
    {
      "cell_type": "code",
      "metadata": {
        "id": "JcnQxIQ_wGYv",
        "outputId": "8c6f3850-2eb1-40c7-9199-a57024ee467f",
        "colab": {
          "base_uri": "https://localhost:8080/",
          "height": 1000
        }
      },
      "source": [
        "# get last price for keeping track of performance\n",
        "last_price = get_ticker(con)['last']\n",
        "traded = False\n",
        "\n",
        "for message in consumer:\n",
        "    try:\n",
        "        print(message.value)\n",
        "        last_price,traded = process_msg(message, fcst, con, es, threshold, trade_pct, last_price, traded)\n",
        "        print(last_price,traded)\n",
        "    except Exception as e:\n",
        "        print(\"Error occurred: {}\".format(e))"
      ],
      "execution_count": 60,
      "outputs": [
        {
          "output_type": "stream",
          "text": [
            "{'type': 'ask', 'value': 14037078.934432222, 'timestamp': 1602769807}\n"
          ],
          "name": "stdout"
        },
        {
          "output_type": "stream",
          "text": [
            "/usr/local/lib/python3.6/dist-packages/elasticsearch/connection/base.py:190: ElasticsearchDeprecationWarning: [types removal] Specifying types in document index requests is deprecated, use the typeless endpoints instead (/{index}/_doc/{id}, /{index}/_doc, or /{index}/_create/{id}).\n",
            "  warnings.warn(message, category=ElasticsearchDeprecationWarning)\n"
          ],
          "name": "stderr"
        },
        {
          "output_type": "stream",
          "text": [
            "11411.44 False\n",
            "{'type': 'bid', 'value': 14952724.876301888, 'timestamp': 1602769807}\n",
            "11411.44 False\n",
            "{'type': 'price_volume', 'value': 1.0652305188384767, 'timestamp': 1602769807}\n",
            "56.0432\n",
            "{\n",
            "    \"avg_execution_price\": 11408.59,\n",
            "    \"doc_type\": \"order\",\n",
            "    \"exchange\": \"gemini\",\n",
            "    \"executed_amount\": 0.395168,\n",
            "    \"id\": \"659834884\",\n",
            "    \"is_cancelled\": true,\n",
            "    \"is_hidden\": false,\n",
            "    \"is_live\": false,\n",
            "    \"options\": [\n",
            "        \"immediate-or-cancel\"\n",
            "    ],\n",
            "    \"order_id\": \"659834884\",\n",
            "    \"original_amount\": 56.0432,\n",
            "    \"price\": 11408.59,\n",
            "    \"reason\": \"ImmediateOrCancelWouldPost\",\n",
            "    \"remaining_amount\": 55.648032,\n",
            "    \"side\": \"buy\",\n",
            "    \"symbol\": \"btcusd\",\n",
            "    \"timestampms\": 1602770477395,\n",
            "    \"type\": \"exchange limit\",\n",
            "    \"was_forced\": false\n",
            "}\n",
            "\n",
            "\n",
            "11411.44 True\n",
            "{'type': 'ask', 'value': 2006407.6115192228, 'timestamp': 1602769867}\n",
            "11411.44 True\n",
            "{'type': 'bid', 'value': 2225624.339742532, 'timestamp': 1602769867}\n",
            "11411.44 True\n",
            "{'type': 'price_volume', 'value': 1.1092583216713983, 'timestamp': 1602769867}\n",
            "11411.44 True\n",
            "{'type': 'ask', 'value': 2784228.566993863, 'timestamp': 1602769927}\n",
            "11411.44 True\n",
            "{'type': 'bid', 'value': 4204239.586457831, 'timestamp': 1602769927}\n",
            "11411.44 True\n",
            "{'type': 'price_volume', 'value': 1.5100195566907628, 'timestamp': 1602769927}\n",
            "11411.44 True\n",
            "{'type': 'ask', 'value': 2719533.7820347548, 'timestamp': 1602769987}\n",
            "11411.44 True\n",
            "{'type': 'bid', 'value': 4160215.8364572534, 'timestamp': 1602769987}\n",
            "11411.44 True\n",
            "{'type': 'price_volume', 'value': 1.5297533216684591, 'timestamp': 1602769987}\n",
            "11411.44 True\n",
            "{'type': 'ask', 'value': 6558031.137524138, 'timestamp': 1602770047}\n",
            "11411.44 True\n",
            "{'type': 'bid', 'value': 9566158.488052817, 'timestamp': 1602770047}\n",
            "11411.44 True\n",
            "{'type': 'price_volume', 'value': 1.4586936669630302, 'timestamp': 1602770047}\n",
            "11411.44 True\n",
            "{'type': 'ask', 'value': 10492848.296147902, 'timestamp': 1602770107}\n",
            "11411.44 True\n",
            "{'type': 'bid', 'value': 12232551.033063263, 'timestamp': 1602770107}\n",
            "11411.44 True\n",
            "{'type': 'price_volume', 'value': 1.1657989030065397, 'timestamp': 1602770107}\n",
            "11411.44 True\n",
            "{'type': 'ask', 'value': 4043994.2292487775, 'timestamp': 1602770167}\n",
            "11411.44 True\n",
            "{'type': 'bid', 'value': 8668291.1745354, 'timestamp': 1602770167}\n",
            "11411.44 True\n",
            "{'type': 'price_volume', 'value': 2.1434974144722365, 'timestamp': 1602770167}\n",
            "11411.44 True\n",
            "{'type': 'ask', 'value': 11677689.431351323, 'timestamp': 1602770227}\n",
            "11411.44 True\n",
            "{'type': 'bid', 'value': 9451695.596043281, 'timestamp': 1602770227}\n",
            "11411.44 True\n",
            "{'type': 'price_volume', 'value': 0.8093806271870981, 'timestamp': 1602770227}\n",
            "11411.44 True\n",
            "{'type': 'ask', 'value': 10492238.174925903, 'timestamp': 1602770287}\n",
            "11411.44 True\n",
            "{'type': 'bid', 'value': 8716713.860172238, 'timestamp': 1602770287}\n",
            "11411.44 True\n",
            "{'type': 'price_volume', 'value': 0.8307773532060329, 'timestamp': 1602770287}\n",
            "11411.44 True\n",
            "{'type': 'ask', 'value': 8333572.001320722, 'timestamp': 1602770347}\n",
            "11411.44 True\n",
            "{'type': 'bid', 'value': 5500982.741062619, 'timestamp': 1602770347}\n",
            "11411.44 True\n",
            "{'type': 'price_volume', 'value': 0.6600990235868619, 'timestamp': 1602770347}\n",
            "11411.44 True\n",
            "{'type': 'ask', 'value': 1040348.7825697466, 'timestamp': 1602770407}\n",
            "11411.44 True\n",
            "{'type': 'bid', 'value': 1481965.474928843, 'timestamp': 1602770407}\n",
            "11411.44 True\n",
            "{'type': 'price_volume', 'value': 1.424489074969903, 'timestamp': 1602770407}\n",
            "11411.44 True\n"
          ],
          "name": "stdout"
        },
        {
          "output_type": "error",
          "ename": "KeyboardInterrupt",
          "evalue": "ignored",
          "traceback": [
            "\u001b[0;31m---------------------------------------------------------------------------\u001b[0m",
            "\u001b[0;31mKeyboardInterrupt\u001b[0m                         Traceback (most recent call last)",
            "\u001b[0;32m<ipython-input-60-0b1032a82690>\u001b[0m in \u001b[0;36m<module>\u001b[0;34m()\u001b[0m\n\u001b[1;32m      3\u001b[0m \u001b[0mtraded\u001b[0m \u001b[0;34m=\u001b[0m \u001b[0;32mFalse\u001b[0m\u001b[0;34m\u001b[0m\u001b[0;34m\u001b[0m\u001b[0m\n\u001b[1;32m      4\u001b[0m \u001b[0;34m\u001b[0m\u001b[0m\n\u001b[0;32m----> 5\u001b[0;31m \u001b[0;32mfor\u001b[0m \u001b[0mmessage\u001b[0m \u001b[0;32min\u001b[0m \u001b[0mconsumer\u001b[0m\u001b[0;34m:\u001b[0m\u001b[0;34m\u001b[0m\u001b[0;34m\u001b[0m\u001b[0m\n\u001b[0m\u001b[1;32m      6\u001b[0m     \u001b[0;32mtry\u001b[0m\u001b[0;34m:\u001b[0m\u001b[0;34m\u001b[0m\u001b[0;34m\u001b[0m\u001b[0m\n\u001b[1;32m      7\u001b[0m         \u001b[0mprint\u001b[0m\u001b[0;34m(\u001b[0m\u001b[0mmessage\u001b[0m\u001b[0;34m.\u001b[0m\u001b[0mvalue\u001b[0m\u001b[0;34m)\u001b[0m\u001b[0;34m\u001b[0m\u001b[0;34m\u001b[0m\u001b[0m\n",
            "\u001b[0;32m/usr/local/lib/python3.6/dist-packages/kafka/consumer/group.py\u001b[0m in \u001b[0;36m__next__\u001b[0;34m(self)\u001b[0m\n\u001b[1;32m   1179\u001b[0m             \u001b[0;32mreturn\u001b[0m \u001b[0mself\u001b[0m\u001b[0;34m.\u001b[0m\u001b[0mnext_v1\u001b[0m\u001b[0;34m(\u001b[0m\u001b[0;34m)\u001b[0m\u001b[0;34m\u001b[0m\u001b[0;34m\u001b[0m\u001b[0m\n\u001b[1;32m   1180\u001b[0m         \u001b[0;32melse\u001b[0m\u001b[0;34m:\u001b[0m\u001b[0;34m\u001b[0m\u001b[0;34m\u001b[0m\u001b[0m\n\u001b[0;32m-> 1181\u001b[0;31m             \u001b[0;32mreturn\u001b[0m \u001b[0mself\u001b[0m\u001b[0;34m.\u001b[0m\u001b[0mnext_v2\u001b[0m\u001b[0;34m(\u001b[0m\u001b[0;34m)\u001b[0m\u001b[0;34m\u001b[0m\u001b[0;34m\u001b[0m\u001b[0m\n\u001b[0m\u001b[1;32m   1182\u001b[0m \u001b[0;34m\u001b[0m\u001b[0m\n\u001b[1;32m   1183\u001b[0m     \u001b[0;32mdef\u001b[0m \u001b[0mnext_v2\u001b[0m\u001b[0;34m(\u001b[0m\u001b[0mself\u001b[0m\u001b[0;34m)\u001b[0m\u001b[0;34m:\u001b[0m\u001b[0;34m\u001b[0m\u001b[0;34m\u001b[0m\u001b[0m\n",
            "\u001b[0;32m/usr/local/lib/python3.6/dist-packages/kafka/consumer/group.py\u001b[0m in \u001b[0;36mnext_v2\u001b[0;34m(self)\u001b[0m\n\u001b[1;32m   1187\u001b[0m                 \u001b[0mself\u001b[0m\u001b[0;34m.\u001b[0m\u001b[0m_iterator\u001b[0m \u001b[0;34m=\u001b[0m \u001b[0mself\u001b[0m\u001b[0;34m.\u001b[0m\u001b[0m_message_generator_v2\u001b[0m\u001b[0;34m(\u001b[0m\u001b[0;34m)\u001b[0m\u001b[0;34m\u001b[0m\u001b[0;34m\u001b[0m\u001b[0m\n\u001b[1;32m   1188\u001b[0m             \u001b[0;32mtry\u001b[0m\u001b[0;34m:\u001b[0m\u001b[0;34m\u001b[0m\u001b[0;34m\u001b[0m\u001b[0m\n\u001b[0;32m-> 1189\u001b[0;31m                 \u001b[0;32mreturn\u001b[0m \u001b[0mnext\u001b[0m\u001b[0;34m(\u001b[0m\u001b[0mself\u001b[0m\u001b[0;34m.\u001b[0m\u001b[0m_iterator\u001b[0m\u001b[0;34m)\u001b[0m\u001b[0;34m\u001b[0m\u001b[0;34m\u001b[0m\u001b[0m\n\u001b[0m\u001b[1;32m   1190\u001b[0m             \u001b[0;32mexcept\u001b[0m \u001b[0mStopIteration\u001b[0m\u001b[0;34m:\u001b[0m\u001b[0;34m\u001b[0m\u001b[0;34m\u001b[0m\u001b[0m\n\u001b[1;32m   1191\u001b[0m                 \u001b[0mself\u001b[0m\u001b[0;34m.\u001b[0m\u001b[0m_iterator\u001b[0m \u001b[0;34m=\u001b[0m \u001b[0;32mNone\u001b[0m\u001b[0;34m\u001b[0m\u001b[0;34m\u001b[0m\u001b[0m\n",
            "\u001b[0;32m/usr/local/lib/python3.6/dist-packages/kafka/consumer/group.py\u001b[0m in \u001b[0;36m_message_generator_v2\u001b[0;34m(self)\u001b[0m\n\u001b[1;32m   1104\u001b[0m     \u001b[0;32mdef\u001b[0m \u001b[0m_message_generator_v2\u001b[0m\u001b[0;34m(\u001b[0m\u001b[0mself\u001b[0m\u001b[0;34m)\u001b[0m\u001b[0;34m:\u001b[0m\u001b[0;34m\u001b[0m\u001b[0;34m\u001b[0m\u001b[0m\n\u001b[1;32m   1105\u001b[0m         \u001b[0mtimeout_ms\u001b[0m \u001b[0;34m=\u001b[0m \u001b[0;36m1000\u001b[0m \u001b[0;34m*\u001b[0m \u001b[0;34m(\u001b[0m\u001b[0mself\u001b[0m\u001b[0;34m.\u001b[0m\u001b[0m_consumer_timeout\u001b[0m \u001b[0;34m-\u001b[0m \u001b[0mtime\u001b[0m\u001b[0;34m.\u001b[0m\u001b[0mtime\u001b[0m\u001b[0;34m(\u001b[0m\u001b[0;34m)\u001b[0m\u001b[0;34m)\u001b[0m\u001b[0;34m\u001b[0m\u001b[0;34m\u001b[0m\u001b[0m\n\u001b[0;32m-> 1106\u001b[0;31m         \u001b[0mrecord_map\u001b[0m \u001b[0;34m=\u001b[0m \u001b[0mself\u001b[0m\u001b[0;34m.\u001b[0m\u001b[0mpoll\u001b[0m\u001b[0;34m(\u001b[0m\u001b[0mtimeout_ms\u001b[0m\u001b[0;34m=\u001b[0m\u001b[0mtimeout_ms\u001b[0m\u001b[0;34m,\u001b[0m \u001b[0mupdate_offsets\u001b[0m\u001b[0;34m=\u001b[0m\u001b[0;32mFalse\u001b[0m\u001b[0;34m)\u001b[0m\u001b[0;34m\u001b[0m\u001b[0;34m\u001b[0m\u001b[0m\n\u001b[0m\u001b[1;32m   1107\u001b[0m         \u001b[0;32mfor\u001b[0m \u001b[0mtp\u001b[0m\u001b[0;34m,\u001b[0m \u001b[0mrecords\u001b[0m \u001b[0;32min\u001b[0m \u001b[0msix\u001b[0m\u001b[0;34m.\u001b[0m\u001b[0miteritems\u001b[0m\u001b[0;34m(\u001b[0m\u001b[0mrecord_map\u001b[0m\u001b[0;34m)\u001b[0m\u001b[0;34m:\u001b[0m\u001b[0;34m\u001b[0m\u001b[0;34m\u001b[0m\u001b[0m\n\u001b[1;32m   1108\u001b[0m             \u001b[0;31m# Generators are stateful, and it is possible that the tp / records\u001b[0m\u001b[0;34m\u001b[0m\u001b[0;34m\u001b[0m\u001b[0;34m\u001b[0m\u001b[0m\n",
            "\u001b[0;32m/usr/local/lib/python3.6/dist-packages/kafka/consumer/group.py\u001b[0m in \u001b[0;36mpoll\u001b[0;34m(self, timeout_ms, max_records, update_offsets)\u001b[0m\n\u001b[1;32m    643\u001b[0m         \u001b[0mremaining\u001b[0m \u001b[0;34m=\u001b[0m \u001b[0mtimeout_ms\u001b[0m\u001b[0;34m\u001b[0m\u001b[0;34m\u001b[0m\u001b[0m\n\u001b[1;32m    644\u001b[0m         \u001b[0;32mwhile\u001b[0m \u001b[0;32mTrue\u001b[0m\u001b[0;34m:\u001b[0m\u001b[0;34m\u001b[0m\u001b[0;34m\u001b[0m\u001b[0m\n\u001b[0;32m--> 645\u001b[0;31m             \u001b[0mrecords\u001b[0m \u001b[0;34m=\u001b[0m \u001b[0mself\u001b[0m\u001b[0;34m.\u001b[0m\u001b[0m_poll_once\u001b[0m\u001b[0;34m(\u001b[0m\u001b[0mremaining\u001b[0m\u001b[0;34m,\u001b[0m \u001b[0mmax_records\u001b[0m\u001b[0;34m,\u001b[0m \u001b[0mupdate_offsets\u001b[0m\u001b[0;34m=\u001b[0m\u001b[0mupdate_offsets\u001b[0m\u001b[0;34m)\u001b[0m\u001b[0;34m\u001b[0m\u001b[0;34m\u001b[0m\u001b[0m\n\u001b[0m\u001b[1;32m    646\u001b[0m             \u001b[0;32mif\u001b[0m \u001b[0mrecords\u001b[0m\u001b[0;34m:\u001b[0m\u001b[0;34m\u001b[0m\u001b[0;34m\u001b[0m\u001b[0m\n\u001b[1;32m    647\u001b[0m                 \u001b[0;32mreturn\u001b[0m \u001b[0mrecords\u001b[0m\u001b[0;34m\u001b[0m\u001b[0;34m\u001b[0m\u001b[0m\n",
            "\u001b[0;32m/usr/local/lib/python3.6/dist-packages/kafka/consumer/group.py\u001b[0m in \u001b[0;36m_poll_once\u001b[0;34m(self, timeout_ms, max_records, update_offsets)\u001b[0m\n\u001b[1;32m    690\u001b[0m \u001b[0;34m\u001b[0m\u001b[0m\n\u001b[1;32m    691\u001b[0m         \u001b[0mtimeout_ms\u001b[0m \u001b[0;34m=\u001b[0m \u001b[0mmin\u001b[0m\u001b[0;34m(\u001b[0m\u001b[0mtimeout_ms\u001b[0m\u001b[0;34m,\u001b[0m \u001b[0mself\u001b[0m\u001b[0;34m.\u001b[0m\u001b[0m_coordinator\u001b[0m\u001b[0;34m.\u001b[0m\u001b[0mtime_to_next_poll\u001b[0m\u001b[0;34m(\u001b[0m\u001b[0;34m)\u001b[0m \u001b[0;34m*\u001b[0m \u001b[0;36m1000\u001b[0m\u001b[0;34m)\u001b[0m\u001b[0;34m\u001b[0m\u001b[0;34m\u001b[0m\u001b[0m\n\u001b[0;32m--> 692\u001b[0;31m         \u001b[0mself\u001b[0m\u001b[0;34m.\u001b[0m\u001b[0m_client\u001b[0m\u001b[0;34m.\u001b[0m\u001b[0mpoll\u001b[0m\u001b[0;34m(\u001b[0m\u001b[0mtimeout_ms\u001b[0m\u001b[0;34m=\u001b[0m\u001b[0mtimeout_ms\u001b[0m\u001b[0;34m)\u001b[0m\u001b[0;34m\u001b[0m\u001b[0;34m\u001b[0m\u001b[0m\n\u001b[0m\u001b[1;32m    693\u001b[0m         \u001b[0;31m# after the long poll, we should check whether the group needs to rebalance\u001b[0m\u001b[0;34m\u001b[0m\u001b[0;34m\u001b[0m\u001b[0;34m\u001b[0m\u001b[0m\n\u001b[1;32m    694\u001b[0m         \u001b[0;31m# prior to returning data so that the group can stabilize faster\u001b[0m\u001b[0;34m\u001b[0m\u001b[0;34m\u001b[0m\u001b[0;34m\u001b[0m\u001b[0m\n",
            "\u001b[0;32m/usr/local/lib/python3.6/dist-packages/kafka/client_async.py\u001b[0m in \u001b[0;36mpoll\u001b[0;34m(self, timeout_ms, future)\u001b[0m\n\u001b[1;32m    596\u001b[0m                     \u001b[0mtimeout\u001b[0m \u001b[0;34m=\u001b[0m \u001b[0mmax\u001b[0m\u001b[0;34m(\u001b[0m\u001b[0;36m0\u001b[0m\u001b[0;34m,\u001b[0m \u001b[0mtimeout\u001b[0m\u001b[0;34m)\u001b[0m  \u001b[0;31m# avoid negative timeouts\u001b[0m\u001b[0;34m\u001b[0m\u001b[0;34m\u001b[0m\u001b[0m\n\u001b[1;32m    597\u001b[0m \u001b[0;34m\u001b[0m\u001b[0m\n\u001b[0;32m--> 598\u001b[0;31m                 \u001b[0mself\u001b[0m\u001b[0;34m.\u001b[0m\u001b[0m_poll\u001b[0m\u001b[0;34m(\u001b[0m\u001b[0mtimeout\u001b[0m \u001b[0;34m/\u001b[0m \u001b[0;36m1000\u001b[0m\u001b[0;34m)\u001b[0m\u001b[0;34m\u001b[0m\u001b[0;34m\u001b[0m\u001b[0m\n\u001b[0m\u001b[1;32m    599\u001b[0m \u001b[0;34m\u001b[0m\u001b[0m\n\u001b[1;32m    600\u001b[0m             \u001b[0;31m# called without the lock to avoid deadlock potential\u001b[0m\u001b[0;34m\u001b[0m\u001b[0;34m\u001b[0m\u001b[0;34m\u001b[0m\u001b[0m\n",
            "\u001b[0;32m/usr/local/lib/python3.6/dist-packages/kafka/client_async.py\u001b[0m in \u001b[0;36m_poll\u001b[0;34m(self, timeout)\u001b[0m\n\u001b[1;32m    628\u001b[0m \u001b[0;34m\u001b[0m\u001b[0m\n\u001b[1;32m    629\u001b[0m         \u001b[0mstart_select\u001b[0m \u001b[0;34m=\u001b[0m \u001b[0mtime\u001b[0m\u001b[0;34m.\u001b[0m\u001b[0mtime\u001b[0m\u001b[0;34m(\u001b[0m\u001b[0;34m)\u001b[0m\u001b[0;34m\u001b[0m\u001b[0;34m\u001b[0m\u001b[0m\n\u001b[0;32m--> 630\u001b[0;31m         \u001b[0mready\u001b[0m \u001b[0;34m=\u001b[0m \u001b[0mself\u001b[0m\u001b[0;34m.\u001b[0m\u001b[0m_selector\u001b[0m\u001b[0;34m.\u001b[0m\u001b[0mselect\u001b[0m\u001b[0;34m(\u001b[0m\u001b[0mtimeout\u001b[0m\u001b[0;34m)\u001b[0m\u001b[0;34m\u001b[0m\u001b[0;34m\u001b[0m\u001b[0m\n\u001b[0m\u001b[1;32m    631\u001b[0m         \u001b[0mend_select\u001b[0m \u001b[0;34m=\u001b[0m \u001b[0mtime\u001b[0m\u001b[0;34m.\u001b[0m\u001b[0mtime\u001b[0m\u001b[0;34m(\u001b[0m\u001b[0;34m)\u001b[0m\u001b[0;34m\u001b[0m\u001b[0;34m\u001b[0m\u001b[0m\n\u001b[1;32m    632\u001b[0m         \u001b[0;32mif\u001b[0m \u001b[0mself\u001b[0m\u001b[0;34m.\u001b[0m\u001b[0m_sensors\u001b[0m\u001b[0;34m:\u001b[0m\u001b[0;34m\u001b[0m\u001b[0;34m\u001b[0m\u001b[0m\n",
            "\u001b[0;32m/usr/lib/python3.6/selectors.py\u001b[0m in \u001b[0;36mselect\u001b[0;34m(self, timeout)\u001b[0m\n\u001b[1;32m    443\u001b[0m             \u001b[0mready\u001b[0m \u001b[0;34m=\u001b[0m \u001b[0;34m[\u001b[0m\u001b[0;34m]\u001b[0m\u001b[0;34m\u001b[0m\u001b[0;34m\u001b[0m\u001b[0m\n\u001b[1;32m    444\u001b[0m             \u001b[0;32mtry\u001b[0m\u001b[0;34m:\u001b[0m\u001b[0;34m\u001b[0m\u001b[0;34m\u001b[0m\u001b[0m\n\u001b[0;32m--> 445\u001b[0;31m                 \u001b[0mfd_event_list\u001b[0m \u001b[0;34m=\u001b[0m \u001b[0mself\u001b[0m\u001b[0;34m.\u001b[0m\u001b[0m_epoll\u001b[0m\u001b[0;34m.\u001b[0m\u001b[0mpoll\u001b[0m\u001b[0;34m(\u001b[0m\u001b[0mtimeout\u001b[0m\u001b[0;34m,\u001b[0m \u001b[0mmax_ev\u001b[0m\u001b[0;34m)\u001b[0m\u001b[0;34m\u001b[0m\u001b[0;34m\u001b[0m\u001b[0m\n\u001b[0m\u001b[1;32m    446\u001b[0m             \u001b[0;32mexcept\u001b[0m \u001b[0mInterruptedError\u001b[0m\u001b[0;34m:\u001b[0m\u001b[0;34m\u001b[0m\u001b[0;34m\u001b[0m\u001b[0m\n\u001b[1;32m    447\u001b[0m                 \u001b[0;32mreturn\u001b[0m \u001b[0mready\u001b[0m\u001b[0;34m\u001b[0m\u001b[0;34m\u001b[0m\u001b[0m\n",
            "\u001b[0;31mKeyboardInterrupt\u001b[0m: "
          ]
        }
      ]
    },
    {
      "cell_type": "code",
      "metadata": {
        "id": "LBKxcTlQnslY"
      },
      "source": [
        "query = {\n",
        "     \"query\" : {\n",
        "        \"match_all\" : {}\n",
        "    }\n",
        "}"
      ],
      "execution_count": 69,
      "outputs": []
    },
    {
      "cell_type": "code",
      "metadata": {
        "id": "pSfZizhVcfQx",
        "outputId": "0b26e0e5-cf90-4ebb-a9d0-dace5e6b5643",
        "colab": {
          "base_uri": "https://localhost:8080/",
          "height": 1000
        }
      },
      "source": [
        "es.search(body=query, index='gemini', doc_type='gem')"
      ],
      "execution_count": 70,
      "outputs": [
        {
          "output_type": "stream",
          "text": [
            "/usr/local/lib/python3.6/dist-packages/elasticsearch/connection/base.py:190: ElasticsearchDeprecationWarning: [types removal] Specifying types in search requests is deprecated.\n",
            "  warnings.warn(message, category=ElasticsearchDeprecationWarning)\n"
          ],
          "name": "stderr"
        },
        {
          "output_type": "execute_result",
          "data": {
            "text/plain": [
              "{'_shards': {'failed': 0, 'skipped': 0, 'successful': 1, 'total': 1},\n",
              " 'hits': {'hits': [{'_id': 'GRmELHUBB_guKLRhUwZ6',\n",
              "    '_index': 'gemini',\n",
              "    '_score': 1.0,\n",
              "    '_source': {'doc_type': 'ask',\n",
              "     'timestamp': '2020-10-15T13:46:05',\n",
              "     'value': 10866849.443913555},\n",
              "    '_type': 'gem'},\n",
              "   {'_id': 'GhmELHUBB_guKLRhVQab',\n",
              "    '_index': 'gemini',\n",
              "    '_score': 1.0,\n",
              "    '_source': {'amount': 895.58703,\n",
              "     'available': 895.58703,\n",
              "     'availableForWithdrawal': 895.58703,\n",
              "     'currency': 'BTC',\n",
              "     'doc_type': 'balance',\n",
              "     'type': 'exchange'},\n",
              "    '_type': 'gem'},\n",
              "   {'_id': 'GxmELHUBB_guKLRhVQbh',\n",
              "    '_index': 'gemini',\n",
              "    '_score': 1.0,\n",
              "    '_source': {'ask': 11401.98,\n",
              "     'bid': 11401.97,\n",
              "     'doc_type': 'ticker',\n",
              "     'last': 11395.0,\n",
              "     'timestamp': '2020-10-15T13:45:00',\n",
              "     'volume_BTC': 1077.1535584,\n",
              "     'volume_USD': 12253469.781055884},\n",
              "    '_type': 'gem'},\n",
              "   {'_id': 'HBmELHUBB_guKLRhVwaO',\n",
              "    '_index': 'gemini',\n",
              "    '_score': 1.0,\n",
              "    '_source': {'doc_type': 'bid',\n",
              "     'timestamp': '2020-10-15T13:46:05',\n",
              "     'value': 23231020.240482237},\n",
              "    '_type': 'gem'},\n",
              "   {'_id': 'HRmELHUBB_guKLRhWQYc',\n",
              "    '_index': 'gemini',\n",
              "    '_score': 1.0,\n",
              "    '_source': {'amount': 895.58703,\n",
              "     'available': 895.58703,\n",
              "     'availableForWithdrawal': 895.58703,\n",
              "     'currency': 'BTC',\n",
              "     'doc_type': 'balance',\n",
              "     'type': 'exchange'},\n",
              "    '_type': 'gem'},\n",
              "   {'_id': 'HhmELHUBB_guKLRhWQYr',\n",
              "    '_index': 'gemini',\n",
              "    '_score': 1.0,\n",
              "    '_source': {'ask': 11401.98,\n",
              "     'bid': 11401.97,\n",
              "     'doc_type': 'ticker',\n",
              "     'last': 11395.0,\n",
              "     'timestamp': '2020-10-15T13:45:00',\n",
              "     'volume_BTC': 1077.1535584,\n",
              "     'volume_USD': 12253469.781055884},\n",
              "    '_type': 'gem'},\n",
              "   {'_id': 'HxmELHUBB_guKLRhWgai',\n",
              "    '_index': 'gemini',\n",
              "    '_score': 1.0,\n",
              "    '_source': {'doc_type': 'price_volume',\n",
              "     'timestamp': '2020-10-15T13:46:05',\n",
              "     'value': 2.137787990933634},\n",
              "    '_type': 'gem'},\n",
              "   {'_id': 'IBmELHUBB_guKLRhXAYj',\n",
              "    '_index': 'gemini',\n",
              "    '_score': 1.0,\n",
              "    '_source': {'amount': 895.58703,\n",
              "     'available': 895.58703,\n",
              "     'availableForWithdrawal': 895.58703,\n",
              "     'currency': 'BTC',\n",
              "     'doc_type': 'balance',\n",
              "     'type': 'exchange'},\n",
              "    '_type': 'gem'},\n",
              "   {'_id': 'IRmELHUBB_guKLRhXAYz',\n",
              "    '_index': 'gemini',\n",
              "    '_score': 1.0,\n",
              "    '_source': {'ask': 11401.97,\n",
              "     'bid': 11398.23,\n",
              "     'doc_type': 'ticker',\n",
              "     'last': 11401.97,\n",
              "     'timestamp': '2020-10-15T13:45:00',\n",
              "     'volume_BTC': 1077.1535584,\n",
              "     'volume_USD': 12253469.781055884},\n",
              "    '_type': 'gem'},\n",
              "   {'_id': 'IhmELHUBB_guKLRhXQav',\n",
              "    '_index': 'gemini',\n",
              "    '_score': 1.0,\n",
              "    '_source': {'doc_type': 'ask',\n",
              "     'timestamp': '2020-10-15T13:47:06',\n",
              "     'value': 3702534.6317084176},\n",
              "    '_type': 'gem'}],\n",
              "  'max_score': 1.0,\n",
              "  'total': {'relation': 'eq', 'value': 119}},\n",
              " 'timed_out': False,\n",
              " 'took': 57}"
            ]
          },
          "metadata": {
            "tags": []
          },
          "execution_count": 70
        }
      ]
    },
    {
      "cell_type": "code",
      "metadata": {
        "id": "64FrdMv0nBQi"
      },
      "source": [
        ""
      ],
      "execution_count": null,
      "outputs": []
    }
  ]
}